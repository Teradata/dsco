{
 "cells": [
  {
   "cell_type": "markdown",
   "metadata": {},
   "source": [
    "# Resources"
   ]
  },
  {
   "cell_type": "markdown",
   "metadata": {},
   "source": [
    "## Nginx, Flask, uWSGI integration"
   ]
  },
  {
   "cell_type": "markdown",
   "metadata": {},
   "source": [
    "https://www.digitalocean.com/community/tutorials/how-to-serve-flask-applications-with-uswgi-and-nginx-on-ubuntu-18-04"
   ]
  },
  {
   "cell_type": "markdown",
   "metadata": {},
   "source": [
    "## Flask sample project"
   ]
  },
  {
   "cell_type": "markdown",
   "metadata": {},
   "source": [
    "https://github.com/hackersandslackers/flasksession-tutorial"
   ]
  },
  {
   "cell_type": "markdown",
   "metadata": {},
   "source": [
    "## Flask tutorials"
   ]
  },
  {
   "cell_type": "markdown",
   "metadata": {},
   "source": [
    "- https://blog.miguelgrinberg.com/post/the-flask-mega-tutorial-part-i-hello-world  \n",
    "- https://hackersandslackers.com/organizing-flask-with-blueprints  \n",
    "- https://hackingandslacking.com/demystifying-flasks-application-context-c7bd31a53817  \n",
    "- https://hackersandslackers.com/demystifying-flask-application-factory/"
   ]
  },
  {
   "cell_type": "markdown",
   "metadata": {},
   "source": [
    "## Deploying Jupyter in Ubuntu with Nginx and Supervisor"
   ]
  },
  {
   "cell_type": "markdown",
   "metadata": {},
   "source": [
    "http://www.albertauyeung.com/post/setup-jupyter-nginx-supervisor/"
   ]
  },
  {
   "cell_type": "markdown",
   "metadata": {},
   "source": [
    "## VSCode"
   ]
  },
  {
   "cell_type": "markdown",
   "metadata": {},
   "source": [
    "### Temporary port forwarding"
   ]
  },
  {
   "cell_type": "markdown",
   "metadata": {},
   "source": [
    "https://code.visualstudio.com/docs/remote/containers#_forwarding-or-publishing-a-port"
   ]
  },
  {
   "cell_type": "markdown",
   "metadata": {},
   "source": [
    "### Setting up a flask application in vscode"
   ]
  },
  {
   "cell_type": "markdown",
   "metadata": {},
   "source": [
    "https://blog.miguelgrinberg.com/post/setting-up-a-flask-application-in-visual-studio-code"
   ]
  },
  {
   "cell_type": "markdown",
   "metadata": {},
   "source": [
    "## Bash prompts"
   ]
  },
  {
   "cell_type": "markdown",
   "metadata": {},
   "source": [
    "- https://www.ostechnix.com/hide-modify-usernamelocalhost-part-terminal/  \n",
    "- http://ezprompt.net/"
   ]
  },
  {
   "cell_type": "markdown",
   "metadata": {},
   "source": [
    "## Notes"
   ]
  },
  {
   "cell_type": "markdown",
   "metadata": {},
   "source": [
    "To get uwsgi running I basically followed [Nginx, Flask, uWSGI integration](#Nginx,-Flask,-uWSGI-integration) except when it came time to run \n",
    "it automatically with systemctl. Since I'd already installed supervisor \n",
    "to run jupyter \n",
    "([Deploying Jupyter in Ubuntu with Nginx and Supervisor](#Deploying-Jupyter-in-Ubuntu-with-Nginx-and-Supervisor) \n",
    "I did something similar with uwsgi:\n",
    "\n",
    "`uwsgi.conf` in `/etc/supervisor/conf.d`:\n",
    "```\n",
    "[program:uwsgi]\n",
    "command = uwsgi --ini myproject.ini\n",
    "user=root\n",
    "directory = /srv\n",
    "autostart = true\n",
    "autorestart = true\n",
    "stdout_logfile = /var/log/jupyter/uwsgi.log\n",
    "redirect_stderr = true\n",
    "```\n",
    "\n",
    "this works in conjunction with `/srv/myproject.ini`:\n",
    "```\n",
    "[program:uwsgi]\n",
    "command = uwsgi --ini myproject.ini\n",
    "user=root\n",
    "directory = /srv\n",
    "autostart = true\n",
    "autorestart = true\n",
    "stdout_logfile = /var/log/jupyter/uwsgi.log\n",
    "redirect_stderr = true\n",
    "```"
   ]
  },
  {
   "cell_type": "markdown",
   "metadata": {},
   "source": [
    "debug:\n",
    "\n",
    "- https://github.com/miguelgrinberg/Flask-SocketIO/issues/391  "
   ]
  },
  {
   "cell_type": "code",
   "execution_count": null,
   "metadata": {},
   "outputs": [],
   "source": []
  }
 ],
 "metadata": {
  "kernelspec": {
   "display_name": "Python 3",
   "language": "python",
   "name": "python3"
  },
  "language_info": {
   "codemirror_mode": {
    "name": "ipython",
    "version": 3
   },
   "file_extension": ".py",
   "mimetype": "text/x-python",
   "name": "python",
   "nbconvert_exporter": "python",
   "pygments_lexer": "ipython3",
   "version": "3.7.4"
  },
  "toc": {
   "base_numbering": 1,
   "nav_menu": {},
   "number_sections": false,
   "sideBar": true,
   "skip_h1_title": false,
   "title_cell": "Table of Contents",
   "title_sidebar": "Contents",
   "toc_cell": false,
   "toc_position": {},
   "toc_section_display": true,
   "toc_window_display": true
  }
 },
 "nbformat": 4,
 "nbformat_minor": 2
}
