{
 "cells": [
  {
   "cell_type": "markdown",
   "metadata": {},
   "source": [
    "# How do I use dsco? (commands)"
   ]
  },
  {
   "cell_type": "markdown",
   "metadata": {},
   "source": [
    "Here we will do an introduction to dsco commands. \n",
    "\n",
    "To do this we will be setting up a new project called `foo`."
   ]
  },
  {
   "cell_type": "markdown",
   "metadata": {},
   "source": [
    "## Setup"
   ]
  },
  {
   "cell_type": "code",
   "execution_count": 1,
   "metadata": {
    "ExecuteTime": {
     "end_time": "2020-03-26T03:59:30.391906Z",
     "start_time": "2020-03-26T03:59:30.381749Z"
    }
   },
   "outputs": [
    {
     "data": {
      "text/html": [
       "<style>.container { width:85% !important; }</style>"
      ],
      "text/plain": [
       "<IPython.core.display.HTML object>"
      ]
     },
     "metadata": {},
     "output_type": "display_data"
    }
   ],
   "source": [
    "from IPython.core.display import display, HTML\n",
    "display(HTML(\"<style>.container { width:85% !important; }</style>\"))"
   ]
  },
  {
   "cell_type": "markdown",
   "metadata": {},
   "source": [
    "Create a working directory:"
   ]
  },
  {
   "cell_type": "code",
   "execution_count": 2,
   "metadata": {
    "ExecuteTime": {
     "end_time": "2020-03-26T03:59:30.620020Z",
     "start_time": "2020-03-26T03:59:30.484875Z"
    }
   },
   "outputs": [],
   "source": [
    "!mkdir -p /tmp/dsco_overview"
   ]
  },
  {
   "cell_type": "code",
   "execution_count": 3,
   "metadata": {
    "ExecuteTime": {
     "end_time": "2020-03-26T03:59:30.628515Z",
     "start_time": "2020-03-26T03:59:30.622613Z"
    }
   },
   "outputs": [
    {
     "name": "stdout",
     "output_type": "stream",
     "text": [
      "/private/tmp/dsco_overview\n"
     ]
    }
   ],
   "source": [
    "cd /tmp/dsco_overview/"
   ]
  },
  {
   "cell_type": "markdown",
   "metadata": {},
   "source": [
    "## --help"
   ]
  },
  {
   "cell_type": "markdown",
   "metadata": {},
   "source": [
    "We can use `--help` to see a list of the available commands and a \n",
    "short description of what they do."
   ]
  },
  {
   "cell_type": "code",
   "execution_count": 4,
   "metadata": {
    "ExecuteTime": {
     "end_time": "2020-03-26T03:59:31.111118Z",
     "start_time": "2020-03-26T03:59:30.630597Z"
    }
   },
   "outputs": [
    {
     "name": "stdout",
     "output_type": "stream",
     "text": [
      "usage: dsco [-h]\r\n",
      "            {build,code,documentation,go,init,ls,reports,restart,rm,rmi,shell,up,update_port}\r\n",
      "            ...\r\n",
      "\r\n",
      "positional arguments:\r\n",
      "  {build,code,documentation,go,init,ls,reports,restart,rm,rmi,shell,up,update_port}\r\n",
      "                        available functionality\r\n",
      "    build               build images. No flag builds dev.\r\n",
      "    code                launch vs-code\r\n",
      "    documentation       view and update documentation in the dev container\r\n",
      "    go                  Build containers, then open the web page interface.\r\n",
      "    init                create a new project\r\n",
      "    ls                  list containers\r\n",
      "    reports             view and update reports in the dev container\r\n",
      "    restart             restart nginx and flask (dev)\r\n",
      "    rm                  remove containers\r\n",
      "    rmi                 remove images\r\n",
      "    shell               start shell in container\r\n",
      "    up                  create and launch containers\r\n",
      "    update_port         update container port (container restart required)\r\n",
      "\r\n",
      "optional arguments:\r\n",
      "  -h, --help            show this help message and exit\r\n"
     ]
    }
   ],
   "source": [
    "!dsco --help"
   ]
  },
  {
   "cell_type": "markdown",
   "metadata": {},
   "source": [
    "## --init"
   ]
  },
  {
   "cell_type": "code",
   "execution_count": 5,
   "metadata": {
    "ExecuteTime": {
     "end_time": "2020-03-26T03:59:31.588689Z",
     "start_time": "2020-03-26T03:59:31.113465Z"
    }
   },
   "outputs": [
    {
     "name": "stdout",
     "output_type": "stream",
     "text": [
      "usage: dsco init [-h]\r\n",
      "\r\n",
      "optional arguments:\r\n",
      "  -h, --help  show this help message and exit\r\n"
     ]
    }
   ],
   "source": [
    "!dsco init --help"
   ]
  },
  {
   "cell_type": "markdown",
   "metadata": {},
   "source": [
    "The first thing we'll want to do is create our project. \n",
    "We do this with `--init`"
   ]
  },
  {
   "cell_type": "markdown",
   "metadata": {},
   "source": [
    "Normally the `--init` command prompts us for input. However this is being \n",
    "done in a jupyter notebook, which does not allow for interactive \n",
    "responses. To get around this we will pipe in our responses as follows:\n",
    "    \n",
    "    - project_name [MyProject]: foo\n",
    "    - author [Discovery]: \n",
    "    - version [0.1]: \n",
    "    - year [2020]: \n",
    "    - project_port[8001]: \n",
    "    \n",
    "The only default we're changing is the project name. In actual usage \n",
    "just run `dsco init` and answer the prompts."
   ]
  },
  {
   "cell_type": "code",
   "execution_count": 6,
   "metadata": {
    "ExecuteTime": {
     "end_time": "2020-03-26T03:59:34.326223Z",
     "start_time": "2020-03-26T03:59:31.590793Z"
    }
   },
   "outputs": [
    {
     "name": "stdout",
     "output_type": "stream",
     "text": [
      "Using template: /Users/ap186098/.pyenv/versions/3.7.5/lib/python3.7/site-packages/dsco/project_template\n",
      "Creating project in /private/tmp/dsco_overview\n",
      "project_name [MyProject]: author [Discovery]: version [0.1]: year [2020]: project_port [8001]: "
     ]
    }
   ],
   "source": [
    "!echo \"foo\\n\\n\\n\\n\\n\" | dsco init"
   ]
  },
  {
   "cell_type": "markdown",
   "metadata": {},
   "source": [
    "### PROJECT DIRECTORY"
   ]
  },
  {
   "cell_type": "code",
   "execution_count": 7,
   "metadata": {
    "ExecuteTime": {
     "end_time": "2020-03-26T03:59:34.333839Z",
     "start_time": "2020-03-26T03:59:34.329191Z"
    }
   },
   "outputs": [
    {
     "name": "stdout",
     "output_type": "stream",
     "text": [
      "/private/tmp/dsco_overview/foo\n"
     ]
    }
   ],
   "source": [
    "cd foo"
   ]
  },
  {
   "cell_type": "code",
   "execution_count": 8,
   "metadata": {
    "ExecuteTime": {
     "end_time": "2020-03-26T03:59:34.471071Z",
     "start_time": "2020-03-26T03:59:34.335828Z"
    }
   },
   "outputs": [
    {
     "name": "stdout",
     "output_type": "stream",
     "text": [
      "README.md          definitions.py     flask_config.ini   \u001b[36mlanding_page\u001b[m\u001b[m\r\n",
      "\u001b[36m__pycache__\u001b[m\u001b[m        docker-compose.yml flask_run.py       pyproject.toml\r\n",
      "\u001b[36mbuilder\u001b[m\u001b[m            \u001b[36mdocs\u001b[m\u001b[m               \u001b[36mfoo\u001b[m\u001b[m                \u001b[36mtests\u001b[m\u001b[m\r\n"
     ]
    }
   ],
   "source": [
    "!ls"
   ]
  },
  {
   "cell_type": "markdown",
   "metadata": {},
   "source": [
    "One of the nice things about using dsco to create your project is the \n",
    "consistency in project structure. Let's point out a few of the key \n",
    "features."
   ]
  },
  {
   "cell_type": "markdown",
   "metadata": {},
   "source": [
    "#### README.md"
   ]
  },
  {
   "cell_type": "markdown",
   "metadata": {},
   "source": [
    "A standard project README file."
   ]
  },
  {
   "cell_type": "markdown",
   "metadata": {},
   "source": [
    "#### builder"
   ]
  },
  {
   "cell_type": "markdown",
   "metadata": {},
   "source": [
    "The builder directory contains everything necessary to build the project \n",
    "containers including docker files and ansible playbooks."
   ]
  },
  {
   "cell_type": "markdown",
   "metadata": {},
   "source": [
    "#### definitions.py"
   ]
  },
  {
   "cell_type": "code",
   "execution_count": 9,
   "metadata": {
    "ExecuteTime": {
     "end_time": "2020-03-26T03:59:34.612658Z",
     "start_time": "2020-03-26T03:59:34.473120Z"
    }
   },
   "outputs": [
    {
     "name": "stdout",
     "output_type": "stream",
     "text": [
      "#!/usr/bin/env python\r\n",
      "# * encoding: utf-8\r\n",
      "import os\r\n",
      "\r\n",
      "\r\n",
      "def _test_dir(dir_path):\r\n",
      "    if not os.path.isdir(dir_path):\r\n",
      "        raise IOError(f\"Expected specs directory at {dir_path}\")\r\n",
      "\r\n",
      "\r\n",
      "ROOT_DIR = os.path.dirname(os.path.abspath(__file__))\r\n",
      "\r\n",
      "\r\n",
      "SQL_DIR = os.path.join(ROOT_DIR, \"foo\", \"sql\")\r\n",
      "_test_dir(SQL_DIR)\r\n"
     ]
    }
   ],
   "source": [
    "cat definitions.py"
   ]
  },
  {
   "cell_type": "markdown",
   "metadata": {},
   "source": [
    "This is a placeholder for defining a few useful project variables. \n",
    "If you need access to the project root directory you can import \n",
    "it from definitions."
   ]
  },
  {
   "cell_type": "markdown",
   "metadata": {},
   "source": [
    "#### docker-compose.yml"
   ]
  },
  {
   "cell_type": "markdown",
   "metadata": {},
   "source": [
    "This defines the service definitions: dev, prod, and debug for use \n",
    "with docker-compose. This is where they are tied to the appropriate \n",
    "docker file."
   ]
  },
  {
   "cell_type": "markdown",
   "metadata": {},
   "source": [
    "#### docs"
   ]
  },
  {
   "cell_type": "code",
   "execution_count": 10,
   "metadata": {
    "ExecuteTime": {
     "end_time": "2020-03-26T03:59:34.760394Z",
     "start_time": "2020-03-26T03:59:34.614842Z"
    }
   },
   "outputs": [
    {
     "name": "stdout",
     "output_type": "stream",
     "text": [
      "\u001b[01;34mdocs\u001b[00m\r\n",
      "├── \u001b[01;34massets\u001b[00m\r\n",
      "│   ├── banner.png\r\n",
      "│   ├── space-shuttle-launch.png\r\n",
      "│   └── sphinxheader.png\r\n",
      "├── \u001b[01;34mdocumentation\u001b[00m\r\n",
      "│   ├── \u001b[01;34mhtml\u001b[00m\r\n",
      "│   │   └── plotly.js\r\n",
      "│   └── \u001b[01;34msource\u001b[00m\r\n",
      "│       ├── Makefile\r\n",
      "│       ├── \u001b[01;34m__pycache__\u001b[00m\r\n",
      "│       │   └── conf.cpython-37.pyc\r\n",
      "│       ├── \u001b[01;34m_static\u001b[00m\r\n",
      "│       │   └── plotly.js\r\n",
      "│       ├── conf.py\r\n",
      "│       └── index.rst\r\n",
      "├── index.html\r\n",
      "└── \u001b[01;34mreports\u001b[00m\r\n",
      "    ├── \u001b[01;34mhtml\u001b[00m\r\n",
      "    │   └── plotly.js\r\n",
      "    └── \u001b[01;34msource\u001b[00m\r\n",
      "        ├── Makefile\r\n",
      "        ├── __init__.py\r\n",
      "        ├── \u001b[01;34m__pycache__\u001b[00m\r\n",
      "        │   ├── __init__.cpython-37.pyc\r\n",
      "        │   └── conf.cpython-37.pyc\r\n",
      "        ├── \u001b[01;34m_static\u001b[00m\r\n",
      "        │   └── plotly.js\r\n",
      "        ├── components.png\r\n",
      "        ├── conf.py\r\n",
      "        ├── index.rst\r\n",
      "        ├── reports_template.ipynb\r\n",
      "        └── resources.ipynb\r\n",
      "\r\n",
      "11 directories, 21 files\r\n"
     ]
    }
   ],
   "source": [
    "!tree docs"
   ]
  },
  {
   "cell_type": "markdown",
   "metadata": {},
   "source": [
    "The docs directory is important. Dsco distinguishes between two different \n",
    "types of docs: documentation and reports.\n",
    "\n",
    "Documentation is project documentation. The how and why of your code.\n",
    "\n",
    "Reports is meant to be a place to put your exploratory analysis.\n",
    "\n",
    "Dsco facilitates the production of a static html representation of each of \n",
    "these types of documentation. Put any .rst or notebook files in the source \n",
    "directory and generate html with either `dsco documentation -g` or \n",
    "`dsco reports -g`."
   ]
  },
  {
   "cell_type": "markdown",
   "metadata": {},
   "source": [
    "#### flask_config.ini"
   ]
  },
  {
   "cell_type": "code",
   "execution_count": 11,
   "metadata": {
    "ExecuteTime": {
     "end_time": "2020-03-26T03:59:34.894227Z",
     "start_time": "2020-03-26T03:59:34.762517Z"
    }
   },
   "outputs": [
    {
     "name": "stdout",
     "output_type": "stream",
     "text": [
      "[uwsgi]\r\n",
      "socket = 127.0.0.1:3031\r\n",
      "mount = /webapp=flask_run.py\r\n",
      "callable=app\r\n",
      "\r\n",
      "master = true\r\n",
      "processes = 2\r\n",
      "\r\n",
      "chmod-socket = 660\r\n",
      "vacuum = true\r\n",
      "\r\n",
      "die-on-term = true\r\n",
      "manage-script-name = true\r\n",
      "\r\n"
     ]
    }
   ],
   "source": [
    "cat flask_config.ini"
   ]
  },
  {
   "cell_type": "markdown",
   "metadata": {},
   "source": [
    "The container is running Flask with uwsgi. This is the configuration file. \n",
    "Don't mess with it unless you know what you're doing."
   ]
  },
  {
   "cell_type": "markdown",
   "metadata": {},
   "source": [
    "#### flask_run.py"
   ]
  },
  {
   "cell_type": "code",
   "execution_count": 12,
   "metadata": {
    "ExecuteTime": {
     "end_time": "2020-03-26T03:59:35.029184Z",
     "start_time": "2020-03-26T03:59:34.896451Z"
    }
   },
   "outputs": [
    {
     "name": "stdout",
     "output_type": "stream",
     "text": [
      "\"\"\"App entry point.\"\"\"\r\n",
      "from foo import create_app\r\n",
      "\r\n",
      "app = create_app()\r\n",
      "\r\n",
      "if __name__ == \"__main__\":\r\n",
      "    app.run(host=\"0.0.0.0\", debug=True)\r\n"
     ]
    }
   ],
   "source": [
    "cat flask_run.py"
   ]
  },
  {
   "cell_type": "markdown",
   "metadata": {},
   "source": [
    "This is the flask entry point. Again, don't mess with it unless you \n",
    "know what you're doing."
   ]
  },
  {
   "cell_type": "markdown",
   "metadata": {},
   "source": [
    "#### project_name (e.g. foo)"
   ]
  },
  {
   "cell_type": "code",
   "execution_count": 13,
   "metadata": {
    "ExecuteTime": {
     "end_time": "2020-03-26T03:59:35.163201Z",
     "start_time": "2020-03-26T03:59:35.031362Z"
    }
   },
   "outputs": [
    {
     "name": "stdout",
     "output_type": "stream",
     "text": [
      "\u001b[01;34mfoo\u001b[00m\r\n",
      "├── __init__.py\r\n",
      "├── \u001b[01;34m__pycache__\u001b[00m\r\n",
      "│   ├── __init__.cpython-37.pyc\r\n",
      "│   ├── connection.cpython-37.pyc\r\n",
      "│   ├── flask_main.cpython-37.pyc\r\n",
      "│   ├── foo.cpython-37.pyc\r\n",
      "│   ├── helpers.cpython-37.pyc\r\n",
      "│   ├── queries.cpython-37.pyc\r\n",
      "│   └── routes.cpython-37.pyc\r\n",
      "├── connection.py\r\n",
      "├── \u001b[01;34mdashapp1\u001b[00m\r\n",
      "│   ├── __init__.py\r\n",
      "│   └── \u001b[01;34m__pycache__\u001b[00m\r\n",
      "│       └── __init__.cpython-37.pyc\r\n",
      "├── flask_main.py\r\n",
      "├── foo.py\r\n",
      "├── helpers.py\r\n",
      "├── queries.py\r\n",
      "├── routes.py\r\n",
      "└── \u001b[01;34msql\u001b[00m\r\n",
      "    ├── all_test_queries.sql\r\n",
      "    └── events.sql\r\n",
      "\r\n",
      "4 directories, 18 files\r\n"
     ]
    }
   ],
   "source": [
    "!tree foo"
   ]
  },
  {
   "cell_type": "markdown",
   "metadata": {},
   "source": [
    "This is your python package directory. It will have whatever name you \n",
    "provided in the `--init` command for `[project_name]`. This is a standard \n",
    "setup for creating python packages.\n",
    "\n",
    "If you're not creating a package, don't worry about it. It's not taking \n",
    "up a lot of overhead. Just create notebooks in the `docs/reports/source` \n",
    "directory and leave this alone.\n",
    "\n",
    "If you are creating a package, there are some nice features in this package \n",
    "directory you should know about."
   ]
  },
  {
   "cell_type": "markdown",
   "metadata": {},
   "source": [
    "> **Opinionated perspective**\n",
    "> \n",
    "> In the introduction, we said we take an opinionated perspective on the \n",
    "> data science development perspective. That started with the first step \n",
    "> of doing EDA in jupyter notebooks. \n",
    "> \n",
    "> After EDA, the next level of maturity is to build some sort of dashboard. \n",
    "> Dsco sets up the scaffolding for using plotly | Dash in conjunction with \n",
    "> Flask to build your dashboard."
   ]
  },
  {
   "cell_type": "markdown",
   "metadata": {},
   "source": [
    "The flask app is created in `flask_main.py`. Flask routes are \n",
    "configured in `routes.py`. This is where you can create \n",
    "rest API routes that would return data. \n",
    "\n",
    "The dash app is  created in `dashapp1/__init__.py`.\n",
    "\n",
    "`nginx` is configured to handle requests to `/`. Nginx also handles serving \n",
    "the static content generated in `docs`. This can be found at \n",
    "`/reports/` and `/documentation/`.\n",
    "\n",
    "`flask` is configured to handle requests to `/webapp/`.\n",
    "\n",
    "`dash` is configured to handle requests to `/webapp/dash`.\n"
   ]
  },
  {
   "cell_type": "markdown",
   "metadata": {},
   "source": [
    "#### landing_page"
   ]
  },
  {
   "cell_type": "markdown",
   "metadata": {},
   "source": [
    "The landing_page directory contains the html for the page you see \n",
    "when you connect to the container at `http://<container>:<port>/`. "
   ]
  },
  {
   "cell_type": "markdown",
   "metadata": {},
   "source": [
    "#### pyproject.toml, poetry.lock"
   ]
  },
  {
   "cell_type": "markdown",
   "metadata": {
    "ExecuteTime": {
     "end_time": "2020-03-25T20:18:48.979400Z",
     "start_time": "2020-03-25T20:18:48.974133Z"
    }
   },
   "source": [
    "These files manage our python dependencies. For more information see \n",
    "http://https://python-poetry.org/."
   ]
  },
  {
   "cell_type": "markdown",
   "metadata": {},
   "source": [
    "#### tests"
   ]
  },
  {
   "cell_type": "markdown",
   "metadata": {},
   "source": [
    "TODO: At the moment this is more of a place holder. \n",
    "The intention is to build scaffolding around testing and wrap \n",
    "that in something like `dsco test`. "
   ]
  },
  {
   "cell_type": "markdown",
   "metadata": {},
   "source": [
    "## --build"
   ]
  },
  {
   "cell_type": "markdown",
   "metadata": {},
   "source": [
    "Now that we have our project directory, it's time to build our \n",
    "development image. We do that with `dsco build`."
   ]
  },
  {
   "cell_type": "code",
   "execution_count": 14,
   "metadata": {
    "ExecuteTime": {
     "end_time": "2020-03-26T03:59:35.628183Z",
     "start_time": "2020-03-26T03:59:35.165347Z"
    }
   },
   "outputs": [
    {
     "name": "stdout",
     "output_type": "stream",
     "text": [
      "usage: dsco build [-h] [--dev] [--prod] [--debug] [--all]\r\n",
      "\r\n",
      "optional arguments:\r\n",
      "  -h, --help  show this help message and exit\r\n",
      "  --dev       build dev image\r\n",
      "  --prod      build prod image\r\n",
      "  --debug     build debug image\r\n",
      "  --all       build all images\r\n"
     ]
    }
   ],
   "source": [
    "!dsco build --help"
   ]
  },
  {
   "cell_type": "code",
   "execution_count": 15,
   "metadata": {
    "ExecuteTime": {
     "end_time": "2020-03-26T04:06:51.253718Z",
     "start_time": "2020-03-26T03:59:35.633655Z"
    },
    "scrolled": false
   },
   "outputs": [
    {
     "name": "stdout",
     "output_type": "stream",
     "text": [
      "docker-compose build dev\n",
      "Building dev\n",
      "Step 1/8 : FROM python:3.7.5-slim-buster as base\n",
      " ---> 07ee12a5eb2a\n",
      "Step 2/8 : COPY . /srv\n",
      " ---> fe7bea56aca8\n",
      "Step 3/8 : SHELL [\"/bin/bash\", \"-c\"]\n",
      " ---> Running in 979b9edc0383\n",
      "Removing intermediate container 979b9edc0383\n",
      " ---> 54b5f1dddb06\n",
      "Step 4/8 : RUN pip install ansible toml\n",
      " ---> Running in dcbc0ef6d114\n",
      "Collecting ansible\n",
      "  Downloading https://files.pythonhosted.org/packages/ae/b7/c717363f767f7af33d90af9458d5f1e0960db9c2393a6c221c2ce97ad1aa/ansible-2.9.6.tar.gz (14.2MB)\n",
      "Collecting toml\n",
      "  Downloading https://files.pythonhosted.org/packages/a2/12/ced7105d2de62fa7c8fb5fce92cc4ce66b57c95fb875e9318dba7f8c5db0/toml-0.10.0-py2.py3-none-any.whl\n",
      "Collecting jinja2\n",
      "  Downloading https://files.pythonhosted.org/packages/27/24/4f35961e5c669e96f6559760042a55b9bcfcdb82b9bdb3c8753dbe042e35/Jinja2-2.11.1-py2.py3-none-any.whl (126kB)\n",
      "Collecting PyYAML\n",
      "  Downloading https://files.pythonhosted.org/packages/64/c2/b80047c7ac2478f9501676c988a5411ed5572f35d1beff9cae07d321512c/PyYAML-5.3.1.tar.gz (269kB)\n",
      "Collecting cryptography\n",
      "  Downloading https://files.pythonhosted.org/packages/ca/9a/7cece52c46546e214e10811b36b2da52ce1ea7fa203203a629b8dfadad53/cryptography-2.8-cp34-abi3-manylinux2010_x86_64.whl (2.3MB)\n",
      "Collecting MarkupSafe>=0.23\n",
      "  Downloading https://files.pythonhosted.org/packages/98/7b/ff284bd8c80654e471b769062a9b43cc5d03e7a615048d96f4619df8d420/MarkupSafe-1.1.1-cp37-cp37m-manylinux1_x86_64.whl\n",
      "Collecting six>=1.4.1\n",
      "  Downloading https://files.pythonhosted.org/packages/65/eb/1f97cb97bfc2390a276969c6fae16075da282f5058082d4cb10c6c5c1dba/six-1.14.0-py2.py3-none-any.whl\n",
      "Collecting cffi!=1.11.3,>=1.8\n",
      "  Downloading https://files.pythonhosted.org/packages/ff/1d/0b743dadcdf4980b717163fd2d24cd18c1c0c7a78a076268afd7e0e2c25e/cffi-1.14.0-cp37-cp37m-manylinux1_x86_64.whl (400kB)\n",
      "Collecting pycparser\n",
      "  Downloading https://files.pythonhosted.org/packages/ae/e7/d9c3a176ca4b02024debf82342dab36efadfc5776f9c8db077e8f6e71821/pycparser-2.20-py2.py3-none-any.whl (112kB)\n",
      "Building wheels for collected packages: ansible, PyYAML\n",
      "  Building wheel for ansible (setup.py): started\n",
      "  Building wheel for ansible (setup.py): finished with status 'done'\n",
      "  Created wheel for ansible: filename=ansible-2.9.6-cp37-none-any.whl size=16164186 sha256=6e0bd6c2ef9e37e73be07f049833a55e5f0c615ed06f0b582f6d1334bb189db6\n",
      "  Stored in directory: /root/.cache/pip/wheels/e0/d8/74/a4e0b92e45a38ab0c22eaadc5981f3ddab41a6e188c0c8867d\n",
      "  Building wheel for PyYAML (setup.py): started\n",
      "  Building wheel for PyYAML (setup.py): finished with status 'done'\n",
      "  Created wheel for PyYAML: filename=PyYAML-5.3.1-cp37-cp37m-linux_x86_64.whl size=44620 sha256=b4f815b4dd4db5f08317f85d97d4eba20aed66ec1dc880d3a2159c843665280d\n",
      "  Stored in directory: /root/.cache/pip/wheels/a7/c1/ea/cf5bd31012e735dc1dfea3131a2d5eae7978b251083d6247bd\n",
      "Successfully built ansible PyYAML\n",
      "Installing collected packages: MarkupSafe, jinja2, PyYAML, six, pycparser, cffi, cryptography, ansible, toml\n",
      "Successfully installed MarkupSafe-1.1.1 PyYAML-5.3.1 ansible-2.9.6 cffi-1.14.0 cryptography-2.8 jinja2-2.11.1 pycparser-2.20 six-1.14.0 toml-0.10.0\n",
      "\u001b[91mWARNING: You are using pip version 19.3.1; however, version 20.0.2 is available.\n",
      "You should consider upgrading via the 'pip install --upgrade pip' command.\n",
      "\u001b[0mRemoving intermediate container dcbc0ef6d114\n",
      " ---> 1a09eebc3fd7\n",
      "\u001b[2K\n",
      "Step 5/8 : FROM base as dev\n",
      " ---> 1a09eebc3fd7\n",
      "Step 6/8 : SHELL [\"/bin/bash\", \"-c\"]\n",
      " ---> Running in 74cf887c347d\n",
      "Removing intermediate container 74cf887c347d\n",
      " ---> 45ae1c880b28\n",
      "Step 7/8 : RUN cd /srv/builder/ansible && ansible-playbook build_dev_container.yml\n",
      " ---> Running in 9d2529d7a485\n",
      "\u001b[91m[WARNING]: No inventory was parsed, only implicit localhost is available\n",
      "\u001b[0m\u001b[91m[WARNING]: provided hosts list is empty, only localhost is available. Note that\n",
      "the implicit localhost does not match 'all'\n",
      "\u001b[0m\n",
      "PLAY [localhost] ***************************************************************\n",
      "\n",
      "TASK [python3-apt : Get location of python site-packages] **********************\n",
      "changed: [localhost]\n",
      "\n",
      "TASK [python3-apt : Download python3-apt] **************************************\n",
      "changed: [localhost]\n",
      "\n",
      "TASK [python3-apt : get name of file we downloaded] ****************************\n",
      "ok: [localhost]\n",
      "\n",
      "TASK [python3-apt : extract package] *******************************************\n",
      "changed: [localhost]\n",
      "\n",
      "TASK [python3-apt : rename .so files] ******************************************\n",
      "changed: [localhost]\n",
      "\n",
      "TASK [python3-apt : cleanup downloads - python3-apt*.deb] **********************\n",
      "changed: [localhost]\n",
      "\n",
      "TASK [python3-apt : cleanup downloads - /tmp/python3-apt] **********************\n",
      "changed: [localhost]\n",
      "\n",
      "TASK [os-prod : Install os production dependencies] ****************************\n",
      "changed: [localhost] => (item=gcc)\n",
      "changed: [localhost] => (item=python3-dev)\n",
      "\u001b[91m[WARNING]: Updating cache and auto-installing missing dependency: python3-apt\n",
      "\u001b[0m\n",
      "TASK [os-prod : basic shell settings] ******************************************\n",
      "changed: [localhost]\n",
      "\n",
      "TASK [os-dev : Install os development dependencies] ****************************\n",
      "changed: [localhost] => (item=make)\n",
      "changed: [localhost] => (item=wget)\n",
      "changed: [localhost] => (item=curl)\n",
      "changed: [localhost] => (item=git)\n",
      "changed: [localhost] => (item=vim)\n",
      "changed: [localhost] => (item=pandoc)\n",
      "\n",
      "TASK [poetry : check if poetry is installed] ***********************************\n",
      "fatal: [localhost]: FAILED! => {\"changed\": true, \"cmd\": \"$HOME/.poetry/bin/poetry --version\", \"delta\": \"0:00:00.004405\", \"end\": \"2020-03-26 04:01:33.488639\", \"msg\": \"non-zero return code\", \"rc\": 127, \"start\": \"2020-03-26 04:01:33.484234\", \"stderr\": \"/bin/sh: 1: /root/.poetry/bin/poetry: not found\", \"stderr_lines\": [\"/bin/sh: 1: /root/.poetry/bin/poetry: not found\"], \"stdout\": \"\", \"stdout_lines\": []}\n",
      "...ignoring\n",
      "\n",
      "TASK [poetry : download] *******************************************************\n",
      "changed: [localhost]\n",
      "\n",
      "TASK [poetry : install and configure] ******************************************\n",
      "changed: [localhost]\n",
      "\n",
      "TASK [poetry : remove download] ************************************************\n",
      "changed: [localhost]\n",
      "\n",
      "TASK [poetry : modify .bashrc for poetry] **************************************\n",
      "changed: [localhost]\n",
      "\n",
      "TASK [python-dev : remove poetry.lock to install dependencies from scratch] ****\n",
      "skipping: [localhost]\n",
      "\n",
      "TASK [python-dev : create python development environment] **********************\n",
      "changed: [localhost]\n",
      "\n",
      "TASK [supervisor : install supervisor] *****************************************\n",
      "changed: [localhost]\n",
      "\n",
      "TASK [supervisor : config supervisor] ******************************************\n",
      "changed: [localhost]\n",
      "\n",
      "TASK [supervisor : remove supervisor.sock] *************************************\n",
      "ok: [localhost]\n",
      "\n",
      "TASK [supervisor : start] ******************************************************\n",
      "changed: [localhost]\n",
      "\n",
      "TASK [uwsgi : check that flask_config.ini exists] ******************************\n",
      "ok: [localhost]\n",
      "\n",
      "TASK [uwsgi : fail if file does not exist] *************************************\n",
      "skipping: [localhost]\n",
      "\n",
      "TASK [uwsgi : install uwsgi] ***************************************************\n",
      "changed: [localhost]\n",
      "\n",
      "TASK [uwsgi : setup config file for supervisor] ********************************\n",
      "changed: [localhost]\n",
      "\n",
      "TASK [uwsgi : Create the log directory] ****************************************\n",
      "changed: [localhost]\n",
      "\n",
      "TASK [uwsgi : update supervisor] ***********************************************\n",
      "changed: [localhost]\n",
      "\n",
      "TASK [jupyter-config : Check for jupyter] **************************************\n",
      "changed: [localhost]\n",
      "\n",
      "TASK [jupyter-config : Check if jupyter_extensions (var) installed] ************\n",
      "changed: [localhost] => (item=jupyter-contrib-nbextensions)\n",
      "changed: [localhost] => (item=qgrid)\n",
      "\n",
      "TASK [jupyter-config : install if missing] *************************************\n",
      "skipping: [localhost] => (item=['jupyter-contrib-nbextensions', {'cmd': '$HOME/.poetry/bin/poetry show jupyter-contrib-nbextensions', 'stdout': 'Skipping virtualenv creation, as specified in config file.\\nname         : jupyter-contrib-nbextensions\\nversion      : 0.5.1\\ndescription  : A collection of Jupyter nbextensions.\\n\\ndependencies\\n - ipython-genutils *\\n - jupyter-contrib-core >=0.3.3\\n - jupyter-core *\\n - jupyter-highlight-selected-word >=0.1.1\\n - jupyter-latex-envs >=1.3.8\\n - jupyter-nbextensions-configurator >=0.4.0\\n - lxml *\\n - nbconvert >=4.2\\n - notebook >=4.0\\n - pyyaml *\\n - tornado *\\n - traitlets >=4.1', 'stderr': '', 'rc': 0, 'start': '2020-03-26 04:05:30.977206', 'end': '2020-03-26 04:05:32.446634', 'delta': '0:00:01.469428', 'changed': True, 'invocation': {'module_args': {'_raw_params': '$HOME/.poetry/bin/poetry show jupyter-contrib-nbextensions', '_uses_shell': True, 'warn': True, 'stdin_add_newline': True, 'strip_empty_ends': True, 'argv': None, 'chdir': None, 'executable': None, 'creates': None, 'removes': None, 'stdin': None}}, 'stdout_lines': ['Skipping virtualenv creation, as specified in config file.', 'name         : jupyter-contrib-nbextensions', 'version      : 0.5.1', 'description  : A collection of Jupyter nbextensions.', '', 'dependencies', ' - ipython-genutils *', ' - jupyter-contrib-core >=0.3.3', ' - jupyter-core *', ' - jupyter-highlight-selected-word >=0.1.1', ' - jupyter-latex-envs >=1.3.8', ' - jupyter-nbextensions-configurator >=0.4.0', ' - lxml *', ' - nbconvert >=4.2', ' - notebook >=4.0', ' - pyyaml *', ' - tornado *', ' - traitlets >=4.1'], 'stderr_lines': [], 'failed': False, 'item': 'jupyter-contrib-nbextensions', 'ansible_loop_var': 'item'}]) \n",
      "skipping: [localhost] => (item=['qgrid', {'cmd': '$HOME/.poetry/bin/poetry show qgrid', 'stdout': 'Skipping virtualenv creation, as specified in config file.\\nname         : qgrid\\nversion      : 1.3.0\\ndescription  : An Interactive Grid for Sorting and Filtering DataFrames in\\n            Jupyter Notebook\\n\\ndependencies\\n - ipywidgets >=7.0.0\\n - notebook >=4.0.0\\n - pandas >=0.18.0', 'stderr': '', 'rc': 0, 'start': '2020-03-26 04:05:32.643039', 'end': '2020-03-26 04:05:34.084638', 'delta': '0:00:01.441599', 'changed': True, 'invocation': {'module_args': {'_raw_params': '$HOME/.poetry/bin/poetry show qgrid', '_uses_shell': True, 'warn': True, 'stdin_add_newline': True, 'strip_empty_ends': True, 'argv': None, 'chdir': None, 'executable': None, 'creates': None, 'removes': None, 'stdin': None}}, 'stdout_lines': ['Skipping virtualenv creation, as specified in config file.', 'name         : qgrid', 'version      : 1.3.0', 'description  : An Interactive Grid for Sorting and Filtering DataFrames in', '            Jupyter Notebook', '', 'dependencies', ' - ipywidgets >=7.0.0', ' - notebook >=4.0.0', ' - pandas >=0.18.0'], 'stderr_lines': [], 'failed': False, 'item': 'qgrid', 'ansible_loop_var': 'item'}]) \n",
      "\n",
      "TASK [jupyter-config : create jupyter log dir] *********************************\n"
     ]
    },
    {
     "name": "stdout",
     "output_type": "stream",
     "text": [
      "changed: [localhost]\n",
      "\n",
      "TASK [jupyter-config : .jupyter directory] *************************************\n",
      "changed: [localhost]\n",
      "\n",
      "TASK [jupyter-config : jupyter_notebook_config.py] *****************************\n",
      "changed: [localhost]\n",
      "\n",
      "TASK [jupyter-config : nbconfig directory] *************************************\n",
      "changed: [localhost]\n",
      "\n",
      "TASK [jupyter-config : notebook.json] ******************************************\n",
      "changed: [localhost]\n",
      "\n",
      "TASK [jupyter-config : custom directory] ***************************************\n",
      "changed: [localhost]\n",
      "\n",
      "TASK [jupyter-config : custom.js] **********************************************\n",
      "changed: [localhost]\n",
      "\n",
      "TASK [jupyter-config : install nbextensions] ***********************************\n",
      "changed: [localhost]\n",
      "\n",
      "TASK [jupyter-config : copy jupyter.conf file to supervisor dir] ***************\n",
      "changed: [localhost]\n",
      "\n",
      "TASK [jupyter-config : update supervisor] **************************************\n",
      "changed: [localhost]\n",
      "\n",
      "TASK [sphinx-config : Check if sphinx is installed] ****************************\n",
      "changed: [localhost]\n",
      "\n",
      "TASK [sphinx-config : Install os requirements] *********************************\n",
      "ok: [localhost] => (item=make)\n",
      "ok: [localhost] => (item=pandoc)\n",
      "\n",
      "TASK [sphinx-config : check if sphinx_extensions (var) are installed] **********\n",
      "changed: [localhost] => (item=nbsphinx)\n",
      "changed: [localhost] => (item=guzzle-sphinx-theme)\n",
      "\n",
      "TASK [sphinx-config : install if missing] **************************************\n",
      "skipping: [localhost] => (item=['nbsphinx', {'cmd': '. $HOME/.poetry/env\\npoetry show nbsphinx\\n', 'stdout': 'Skipping virtualenv creation, as specified in config file.\\nname         : nbsphinx\\nversion      : 0.4.3\\ndescription  : Jupyter Notebook Tools for Sphinx\\n\\ndependencies\\n - docutils *\\n - jinja2 *\\n - nbconvert !=5.4\\n - nbformat *\\n - sphinx >=1.6.3\\n - traitlets *', 'stderr': '', 'rc': 0, 'start': '2020-03-26 04:05:49.708241', 'end': '2020-03-26 04:05:51.194933', 'delta': '0:00:01.486692', 'changed': True, 'invocation': {'module_args': {'_raw_params': '. $HOME/.poetry/env\\npoetry show nbsphinx\\n', '_uses_shell': True, 'warn': True, 'stdin_add_newline': True, 'strip_empty_ends': True, 'argv': None, 'chdir': None, 'executable': None, 'creates': None, 'removes': None, 'stdin': None}}, 'stdout_lines': ['Skipping virtualenv creation, as specified in config file.', 'name         : nbsphinx', 'version      : 0.4.3', 'description  : Jupyter Notebook Tools for Sphinx', '', 'dependencies', ' - docutils *', ' - jinja2 *', ' - nbconvert !=5.4', ' - nbformat *', ' - sphinx >=1.6.3', ' - traitlets *'], 'stderr_lines': [], 'failed': False, 'item': 'nbsphinx', 'ansible_loop_var': 'item'}]) \n",
      "skipping: [localhost] => (item=['guzzle-sphinx-theme', {'cmd': '. $HOME/.poetry/env\\npoetry show guzzle-sphinx-theme\\n', 'stdout': 'Skipping virtualenv creation, as specified in config file.\\nname         : guzzle-sphinx-theme\\nversion      : 0.7.11\\ndescription  : Sphinx theme used by Guzzle.\\n\\ndependencies\\n - Sphinx >=1.2b1', 'stderr': '', 'rc': 0, 'start': '2020-03-26 04:05:51.398301', 'end': '2020-03-26 04:05:52.837945', 'delta': '0:00:01.439644', 'changed': True, 'invocation': {'module_args': {'_raw_params': '. $HOME/.poetry/env\\npoetry show guzzle-sphinx-theme\\n', '_uses_shell': True, 'warn': True, 'stdin_add_newline': True, 'strip_empty_ends': True, 'argv': None, 'chdir': None, 'executable': None, 'creates': None, 'removes': None, 'stdin': None}}, 'stdout_lines': ['Skipping virtualenv creation, as specified in config file.', 'name         : guzzle-sphinx-theme', 'version      : 0.7.11', 'description  : Sphinx theme used by Guzzle.', '', 'dependencies', ' - Sphinx >=1.2b1'], 'stderr_lines': [], 'failed': False, 'item': 'guzzle-sphinx-theme', 'ansible_loop_var': 'item'}]) \n",
      "\n",
      "TASK [sphinx-config : Get location of python site-packages] ********************\n",
      "changed: [localhost]\n",
      "\n",
      "TASK [sphinx-config : modify guzzle theme (make it wider)] *********************\n",
      "changed: [localhost]\n",
      "\n",
      "TASK [sphinx-config : build documentation] *************************************\n",
      "changed: [localhost]\n",
      "\n",
      "TASK [nginx : install nginx] ***************************************************\n",
      "changed: [localhost]\n",
      "\n",
      "TASK [nginx : add nginx site-available default] ********************************\n",
      "changed: [localhost]\n",
      "\n",
      "TASK [nginx : link sites-enabled to sites-available] ***************************\n",
      "ok: [localhost]\n",
      "\n",
      "TASK [nginx : restart nginx] ***************************************************\n",
      "changed: [localhost]\n",
      "\n",
      "PLAY RECAP *********************************************************************\n",
      "localhost                  : ok=47   changed=42   unreachable=0    failed=0    skipped=4    rescued=0    ignored=1   \n",
      "\n",
      "Removing intermediate container 9d2529d7a485\n",
      " ---> 36097f11cd53\n",
      "Step 8/8 : LABEL com.teradata.dsco=True\n",
      " ---> Running in b59472161481\n",
      "Removing intermediate container b59472161481\n",
      " ---> d5c29dc3707d\n",
      "\u001b[2K\n",
      "Successfully built d5c29dc3707d\n",
      "Successfully tagged foo_dev:latest\n",
      "\n",
      "========================================================================================\n",
      "build execution time: 435.13234996795654 seconds\n",
      "========================================================================================\n"
     ]
    }
   ],
   "source": [
    "# this produces a lot of output from ansible and takes ~8 minutes\n",
    "!dsco build"
   ]
  },
  {
   "cell_type": "markdown",
   "metadata": {},
   "source": [
    "Generally this build takes about 8 minutes (see execution time at the end).\n",
    "\n",
    "We can see that it built if we run `dsco ls`. We should see \n",
    "`foo_dev:latest` listed."
   ]
  },
  {
   "cell_type": "code",
   "execution_count": 16,
   "metadata": {
    "ExecuteTime": {
     "end_time": "2020-03-26T04:06:55.758752Z",
     "start_time": "2020-03-26T04:06:51.257153Z"
    }
   },
   "outputs": [
    {
     "name": "stdout",
     "output_type": "stream",
     "text": [
      "\u001b[7mlocalhost                                                                                                                             \u001b[0m\r\n",
      "\u001b[4mNAME                              LINK                                       ID               STATUS                        SIZE      \u001b[0m\r\n",
      "foo_dev:latest                                                               d5c29dc3707d     3 seconds ago                 1.75GB    \r\n"
     ]
    }
   ],
   "source": [
    "# grep is just filtering the content. Generally just use 'dsco ls'\n",
    "!dsco ls | egrep 'localhost|foo|NAME'"
   ]
  },
  {
   "cell_type": "markdown",
   "metadata": {},
   "source": [
    "## --up"
   ]
  },
  {
   "cell_type": "markdown",
   "metadata": {},
   "source": [
    "The next step is to create a container from the image. If the image is \n",
    "already built, this is really fast, if the image has not been built, \n",
    "this will first build the image, and then create the container, which \n",
    "will take about 8 minutes."
   ]
  },
  {
   "cell_type": "code",
   "execution_count": 17,
   "metadata": {
    "ExecuteTime": {
     "end_time": "2020-03-26T04:06:58.041480Z",
     "start_time": "2020-03-26T04:06:55.761936Z"
    }
   },
   "outputs": [
    {
     "name": "stdout",
     "output_type": "stream",
     "text": [
      "docker-compose up -d dev\n",
      "Creating foo_dev_1 ... \n",
      "\u001b[1Bting foo_dev_1 ... \u001b[32mdone\u001b[0m\n",
      "========================================================================================\n",
      "up execution time: 1.7827799320220947 seconds\n",
      "========================================================================================\n"
     ]
    }
   ],
   "source": [
    "!dsco up"
   ]
  },
  {
   "cell_type": "markdown",
   "metadata": {},
   "source": [
    "We can use `dsco ls` to see if the container is up."
   ]
  },
  {
   "cell_type": "code",
   "execution_count": 18,
   "metadata": {
    "ExecuteTime": {
     "end_time": "2020-03-26T04:06:58.946160Z",
     "start_time": "2020-03-26T04:06:58.044010Z"
    }
   },
   "outputs": [
    {
     "name": "stdout",
     "output_type": "stream",
     "text": [
      "\u001b[7mlocalhost                                                                                                                             \u001b[0m\r\n",
      "\u001b[4mNAME                              LINK                                       ID               STATUS                        SIZE      \u001b[0m\r\n",
      "foo_dev:latest                                                               d5c29dc3707d     7 seconds ago                 1.75GB    \r\n",
      "\u001b[94m    foo_dev_1                     http://localhost:8001                      cca408b97e0a     Up Less than a second                   \u001b[0m\r\n"
     ]
    }
   ],
   "source": [
    "# grep is just filtering the content. Generally just use 'dsco ls'\n",
    "!dsco ls | egrep 'localhost|foo|NAME'"
   ]
  },
  {
   "cell_type": "markdown",
   "metadata": {},
   "source": [
    "We can access the container at the specified link. If the container is not \n",
    "running you will see this."
   ]
  },
  {
   "cell_type": "code",
   "execution_count": 19,
   "metadata": {
    "ExecuteTime": {
     "end_time": "2020-03-26T04:06:59.388025Z",
     "start_time": "2020-03-26T04:06:58.948976Z"
    }
   },
   "outputs": [
    {
     "name": "stdout",
     "output_type": "stream",
     "text": [
      "foo_dev_1\r\n"
     ]
    }
   ],
   "source": [
    "# we can use docker commands to interact with our containers as well\n",
    "# this one stops the container without deleting it\n",
    "!docker stop foo_dev_1"
   ]
  },
  {
   "cell_type": "code",
   "execution_count": 20,
   "metadata": {
    "ExecuteTime": {
     "end_time": "2020-03-26T04:07:00.279815Z",
     "start_time": "2020-03-26T04:06:59.390451Z"
    }
   },
   "outputs": [
    {
     "name": "stdout",
     "output_type": "stream",
     "text": [
      "\u001b[7mlocalhost                                                                                                                             \u001b[0m\r\n",
      "\u001b[4mNAME                              LINK                                       ID               STATUS                        SIZE      \u001b[0m\r\n",
      "foo_dev:latest                                                               d5c29dc3707d     8 seconds ago                 1.75GB    \r\n",
      "\u001b[94m    foo_dev_1                     http://_________:8001                      cca408b97e0a     Exited (143) Less than a second ago          \u001b[0m\r\n"
     ]
    }
   ],
   "source": [
    "# grep is just filtering the content. Generally just use 'dsco ls'\n",
    "!dsco ls | egrep 'localhost|foo|NAME'"
   ]
  },
  {
   "cell_type": "code",
   "execution_count": 21,
   "metadata": {
    "ExecuteTime": {
     "end_time": "2020-03-26T04:07:02.099598Z",
     "start_time": "2020-03-26T04:07:00.282833Z"
    }
   },
   "outputs": [
    {
     "name": "stdout",
     "output_type": "stream",
     "text": [
      "docker-compose up -d dev\n",
      "Starting foo_dev_1 ... \n",
      "\u001b[1Bting foo_dev_1 ... \u001b[32mdone\u001b[0m\n",
      "========================================================================================\n",
      "up execution time: 1.3186349868774414 seconds\n",
      "========================================================================================\n"
     ]
    }
   ],
   "source": [
    "# start it again ...\n",
    "!dsco up"
   ]
  },
  {
   "cell_type": "markdown",
   "metadata": {},
   "source": [
    "## --go"
   ]
  },
  {
   "cell_type": "code",
   "execution_count": 22,
   "metadata": {
    "ExecuteTime": {
     "end_time": "2020-03-26T04:07:02.598392Z",
     "start_time": "2020-03-26T04:07:02.102628Z"
    }
   },
   "outputs": [
    {
     "name": "stdout",
     "output_type": "stream",
     "text": [
      "usage: dsco go [-h] [--dev] [--prod] [--debug] [--all]\r\n",
      "\r\n",
      "optional arguments:\r\n",
      "  -h, --help  show this help message and exit\r\n",
      "  --dev       dev container\r\n",
      "  --prod      prod container\r\n",
      "  --debug     debug container\r\n",
      "  --all       all containers\r\n"
     ]
    }
   ],
   "source": [
    "!dsco go --help"
   ]
  },
  {
   "cell_type": "markdown",
   "metadata": {},
   "source": [
    "Here we have used `dsco build` and `dsco up` to build and launch our \n",
    "dev container. We also could have used `dsco go`. \n",
    "\n",
    "`dsco go` runs `dsco up` and then launches a web browser connected \n",
    "to the container. If a container is already running, the only \n",
    "effect will be to open a web browser."
   ]
  },
  {
   "cell_type": "code",
   "execution_count": 23,
   "metadata": {
    "ExecuteTime": {
     "end_time": "2020-03-26T04:07:04.419452Z",
     "start_time": "2020-03-26T04:07:02.601493Z"
    }
   },
   "outputs": [
    {
     "name": "stdout",
     "output_type": "stream",
     "text": [
      "docker-compose up -d dev\n",
      "foo_dev_1 is up-to-date\n",
      "\n",
      "========================================================================================\n",
      "up execution time: 0.9284379482269287 seconds\n",
      "========================================================================================\n",
      "\n",
      "========================================================================================\n",
      "go execution time: 1.2834627628326416 seconds\n",
      "========================================================================================\n"
     ]
    }
   ],
   "source": [
    "!dsco go"
   ]
  },
  {
   "cell_type": "markdown",
   "metadata": {},
   "source": [
    "## --documentation / --reports"
   ]
  },
  {
   "cell_type": "markdown",
   "metadata": {},
   "source": [
    "If we try to go to access our reports or documentation through the links \n",
    "on the landing page we will be met with an error 403 message. This is \n",
    "because we have not built it yet."
   ]
  },
  {
   "cell_type": "code",
   "execution_count": 24,
   "metadata": {
    "ExecuteTime": {
     "end_time": "2020-03-26T04:07:09.104585Z",
     "start_time": "2020-03-26T04:07:04.422795Z"
    }
   },
   "outputs": [
    {
     "name": "stdout",
     "output_type": "stream",
     "text": [
      "docker exec -it $(docker ps --all --filter 'label=com.docker.compose.project=foo' --filter 'label=com.docker.compose.service=dev' --format {{.Names}}) bash -c 'cd /srv/docs/documentation/source && make html'\n",
      "\u001b[01mRunning Sphinx v2.4.4\u001b[39;49;00m\n",
      "\u001b[01mbuilding [mo]: \u001b[39;49;00mtargets for 0 po files that are out of date\n",
      "\u001b[01mbuilding [html]: \u001b[39;49;00mtargets for 1 source files that are out of date\n",
      "\u001b[01mupdating environment: \u001b[39;49;00m[new config] 1 added, 0 changed, 0 removed\n",
      "\u001b[01mreading sources... \u001b[39;49;00m[100%] \u001b[35mindex\u001b[39;49;00m                                                 \n",
      "\u001b[01mlooking for now-outdated files... \u001b[39;49;00mnone found\n",
      "\u001b[01mpickling environment... \u001b[39;49;00mdone\n",
      "\u001b[01mchecking consistency... \u001b[39;49;00mdone\n",
      "\u001b[01mpreparing documents... \u001b[39;49;00mdone\n",
      "/usr/local/lib/python3.7/site-packages/guzzle_sphinx_theme/guzzle_sphinx_theme/layout.html:200: RemovedInSphinx30Warning: To modify script_files in the theme is deprecated. Please insert a <script> tag directly in your theme instead.\n",
      "\n",
      "\u001b[01mgenerating indices... \u001b[39;49;00m genindexdone\n",
      "\u001b[01mwriting additional pages... \u001b[39;49;00m searchdone\n",
      "\u001b[01mcopying static files... ... \u001b[39;49;00mdone\n",
      "\u001b[01mcopying extra files... \u001b[39;49;00mdone\n",
      "\u001b[01mdumping search index in English (code: en)... \u001b[39;49;00mdone\n",
      "\u001b[01mdumping object inventory... \u001b[39;49;00mdone\n",
      "\u001b[01mbuild succeeded.\u001b[39;49;00m\n",
      "\n",
      "The HTML pages are in ../html.\n"
     ]
    }
   ],
   "source": [
    "# build documentation\n",
    "!dsco documentation --generate"
   ]
  },
  {
   "cell_type": "code",
   "execution_count": 25,
   "metadata": {
    "ExecuteTime": {
     "end_time": "2020-03-26T04:07:15.684604Z",
     "start_time": "2020-03-26T04:07:09.106435Z"
    }
   },
   "outputs": [
    {
     "name": "stdout",
     "output_type": "stream",
     "text": [
      "docker exec -it $(docker ps --all --filter 'label=com.docker.compose.project=foo' --filter 'label=com.docker.compose.service=dev' --format {{.Names}}) bash -c 'cd /srv/docs/reports/source && make html'\n",
      "\u001b[01mRunning Sphinx v2.4.4\u001b[39;49;00m\n",
      "\u001b[01mbuilding [mo]: \u001b[39;49;00mtargets for 0 po files that are out of date\n",
      "\u001b[01mbuilding [html]: \u001b[39;49;00mtargets for 3 source files that are out of date\n",
      "\u001b[01mupdating environment: \u001b[39;49;00m[new config] 3 added, 0 changed, 0 removed\n",
      "\u001b[01mreading sources... \u001b[39;49;00m[100%] \u001b[35mresources\u001b[39;49;00m                                             \n",
      "\u001b[31;01m/srv/docs/reports/source/reports_template.ipynb:24: WARNING: File not found: '/notebook/notebooks/reports/reports_template.ipynb'\u001b[39;49;00m\n",
      "\u001b[31;01m/srv/docs/reports/source/reports_template.ipynb:24: WARNING: File not found: '/reports/reports_template.html#'\u001b[39;49;00m\n",
      "\u001b[31;01m/srv/docs/reports/source/reports_template.ipynb:41: WARNING: File not found: '/notebook/edit/reports/index.rst'\u001b[39;49;00m\n",
      "\u001b[01mlooking for now-outdated files... \u001b[39;49;00mnone found\n",
      "\u001b[01mpickling environment... \u001b[39;49;00mdone\n",
      "\u001b[01mchecking consistency... \u001b[39;49;00m\u001b[31;01m/srv/docs/reports/source/resources.ipynb: WARNING: document isn't included in any toctree\u001b[39;49;00m\n",
      "done\n",
      "\u001b[01mpreparing documents... \u001b[39;49;00mdone\n",
      "/usr/local/lib/python3.7/site-packages/guzzle_sphinx_theme/guzzle_sphinx_theme/layout.html:200: RemovedInSphinx30Warning: To modify script_files in the theme is deprecated. Please insert a <script> tag directly in your theme instead.\n",
      "/usr/local/lib/python3.7/site-packages/guzzle_sphinx_theme/guzzle_sphinx_theme/layout.html:200: RemovedInSphinx30Warning: To modify script_files in the theme is deprecated. Please insert a <script> tag directly in your theme instead.\n",
      "\u001b[01mwriting output... \u001b[39;49;00m[100%] \u001b[32mresources\u001b[39;49;00m                                              \n",
      "\u001b[01mgenerating indices... \u001b[39;49;00m genindexdone\n",
      "\u001b[01mwriting additional pages... \u001b[39;49;00m searchdone\n",
      "\u001b[01mcopying static files... ... \u001b[39;49;00mdone\n",
      "\u001b[01mcopying extra files... \u001b[39;49;00mdone\n",
      "\u001b[01mdumping search index in English (code: en)... \u001b[39;49;00mdone\n",
      "\u001b[01mdumping object inventory... \u001b[39;49;00mdone\n",
      "\u001b[01mbuild succeeded, 4 warnings.\u001b[39;49;00m\n",
      "\n",
      "The HTML pages are in ../html.\n"
     ]
    }
   ],
   "source": [
    "# build reports\n",
    "!dsco reports --generate"
   ]
  },
  {
   "cell_type": "markdown",
   "metadata": {},
   "source": [
    "Now we should be able to access the starting points of our documentation and reports.\n",
    "\n",
    "Of course, there's just some basic scaffolding in place. To create the documentation \n",
    "write some content in reStructuredText files or jupyter notebooks and add these files \n",
    "to `index.rst` in the `source/` directory.\n",
    "\n",
    "As a simple example:"
   ]
  },
  {
   "cell_type": "code",
   "execution_count": 26,
   "metadata": {
    "ExecuteTime": {
     "end_time": "2020-03-26T04:07:15.693419Z",
     "start_time": "2020-03-26T04:07:15.686946Z"
    }
   },
   "outputs": [
    {
     "name": "stdout",
     "output_type": "stream",
     "text": [
      "Writing docs/reports/source/example.rst\n"
     ]
    }
   ],
   "source": [
    "%%writefile docs/reports/source/example.rst\n",
    "Example\n",
    "=======\n",
    "\n",
    "This is an example .rst file"
   ]
  },
  {
   "cell_type": "code",
   "execution_count": 27,
   "metadata": {
    "ExecuteTime": {
     "end_time": "2020-03-26T04:07:15.700841Z",
     "start_time": "2020-03-26T04:07:15.695903Z"
    }
   },
   "outputs": [
    {
     "name": "stdout",
     "output_type": "stream",
     "text": [
      "Overwriting docs/reports/source/index.rst\n"
     ]
    }
   ],
   "source": [
    "%%writefile docs/reports/source/index.rst\n",
    ".. Template documentation master file, created by\n",
    "   sphinx-quickstart\n",
    "   You can adapt this file completely to your liking, but it should at least\n",
    "   contain the root `toctree` directive.\n",
    "\n",
    "Welcome to foo's documentation!\n",
    "===============================\n",
    "\n",
    ".. toctree::\n",
    "   :maxdepth: 2\n",
    "   :caption: Contents:\n",
    "\n",
    "   reports_template\n",
    "   example\n",
    "\n",
    "\n",
    "Indices and tables\n",
    "==================\n",
    "\n",
    "* :ref:`genindex`\n",
    "* :ref:`modindex`\n",
    "* :ref:`search`\n"
   ]
  },
  {
   "cell_type": "code",
   "execution_count": 28,
   "metadata": {
    "ExecuteTime": {
     "end_time": "2020-03-26T04:07:18.448251Z",
     "start_time": "2020-03-26T04:07:15.703564Z"
    }
   },
   "outputs": [
    {
     "name": "stdout",
     "output_type": "stream",
     "text": [
      "docker exec -it $(docker ps --all --filter 'label=com.docker.compose.project=foo' --filter 'label=com.docker.compose.service=dev' --format {{.Names}}) bash -c 'cd /srv/docs/reports/source && make html'\n",
      "\u001b[01mRunning Sphinx v2.4.4\u001b[39;49;00m\n",
      "\u001b[01mloading pickled environment... \u001b[39;49;00mdone\n",
      "\u001b[01mbuilding [mo]: \u001b[39;49;00mtargets for 0 po files that are out of date\n",
      "\u001b[01mbuilding [html]: \u001b[39;49;00mtargets for 1 source files that are out of date\n",
      "\u001b[01mupdating environment: \u001b[39;49;00m1 added, 1 changed, 0 removed\n",
      "\u001b[01mreading sources... \u001b[39;49;00m[100%] \u001b[35mindex\u001b[39;49;00m                                                 \n",
      "\u001b[01mlooking for now-outdated files... \u001b[39;49;00mnone found\n",
      "\u001b[01mpickling environment... \u001b[39;49;00mdone\n",
      "\u001b[01mchecking consistency... \u001b[39;49;00m\u001b[31;01m/srv/docs/reports/source/resources.ipynb: WARNING: document isn't included in any toctree\u001b[39;49;00m\n",
      "done\n",
      "\u001b[01mpreparing documents... \u001b[39;49;00mdone\n",
      "/usr/local/lib/python3.7/site-packages/guzzle_sphinx_theme/guzzle_sphinx_theme/layout.html:200: RemovedInSphinx30Warning: To modify script_files in the theme is deprecated. Please insert a <script> tag directly in your theme instead.\n",
      "\u001b[01mwriting output... \u001b[39;49;00m[100%] \u001b[32mindex\u001b[39;49;00m                                                  \n",
      "\u001b[01mgenerating indices... \u001b[39;49;00m genindexdone\n",
      "\u001b[01mwriting additional pages... \u001b[39;49;00m searchdone\n",
      "\u001b[01mcopying static files... ... \u001b[39;49;00mdone\n",
      "\u001b[01mcopying extra files... \u001b[39;49;00mdone\n",
      "\u001b[01mdumping search index in English (code: en)... \u001b[39;49;00mdone\n",
      "\u001b[01mdumping object inventory... \u001b[39;49;00mdone\n",
      "\u001b[01mbuild succeeded, 1 warning.\u001b[39;49;00m\n",
      "\n",
      "The HTML pages are in ../html.\n"
     ]
    }
   ],
   "source": [
    "!dsco reports --generate"
   ]
  },
  {
   "cell_type": "markdown",
   "metadata": {},
   "source": [
    "The rendering isn't perfect here, but you can see a link to `Example` \n",
    "under the `Welcome to foo's documentation!` section."
   ]
  },
  {
   "cell_type": "code",
   "execution_count": 29,
   "metadata": {
    "ExecuteTime": {
     "end_time": "2020-03-26T04:07:18.457125Z",
     "start_time": "2020-03-26T04:07:18.450160Z"
    }
   },
   "outputs": [
    {
     "data": {
      "text/html": [
       "\n",
       "<!DOCTYPE html>\n",
       "\n",
       "<html xmlns=\"http://www.w3.org/1999/xhtml\">\n",
       "  <head>\n",
       "    <meta charset=\"utf-8\" />\n",
       "  \n",
       "  <!-- Licensed under the Apache 2.0 License -->\n",
       "  <link rel=\"stylesheet\" type=\"text/css\" href=\"_static/fonts/open-sans/stylesheet.css\" />\n",
       "  <!-- Licensed under the SIL Open Font License -->\n",
       "  <link rel=\"stylesheet\" type=\"text/css\" href=\"_static/fonts/source-serif-pro/source-serif-pro.css\" />\n",
       "  <link rel=\"stylesheet\" type=\"text/css\" href=\"_static/css/bootstrap.min.css\" />\n",
       "  <link rel=\"stylesheet\" type=\"text/css\" href=\"_static/css/bootstrap-theme.min.css\" />\n",
       "  <meta name=\"viewport\" content=\"width=device-width, initial-scale=1.0\">\n",
       "  \n",
       "    <title>Welcome to foo’s documentation! &#8212; foo version 0.1</title>\n",
       "    <link rel=\"stylesheet\" href=\"_static/guzzle.css\" type=\"text/css\" />\n",
       "    <link rel=\"stylesheet\" href=\"_static/pygments.css\" type=\"text/css\" />\n",
       "    <script id=\"documentation_options\" data-url_root=\"./\" src=\"_static/documentation_options.js\"></script>\n",
       "    <script src=\"_static/jquery.js\"></script>\n",
       "    <script src=\"_static/underscore.js\"></script>\n",
       "    <script src=\"_static/doctools.js\"></script>\n",
       "    <script src=\"_static/language_data.js\"></script>\n",
       "    <script src=\"https://cdnjs.cloudflare.com/ajax/libs/require.js/2.1.10/require.min.js\"></script>\n",
       "    <script crossorigin=\"anonymous\" integrity=\"sha256-Ae2Vz/4ePdIu6ZyI/5ZGsYnb+m0JlOmKPjt6XZ9JJkA=\" src=\"https://cdnjs.cloudflare.com/ajax/libs/require.js/2.3.4/require.min.js\"></script>\n",
       "    <link rel=\"index\" title=\"Index\" href=\"genindex.html\" />\n",
       "    <link rel=\"search\" title=\"Search\" href=\"search.html\" />\n",
       "    <link rel=\"next\" title=\"Reports template\" href=\"reports_template.html\" />\n",
       "  \n",
       "   \n",
       "\n",
       "  </head><body>\n",
       "    <div class=\"related\" role=\"navigation\" aria-label=\"related navigation\">\n",
       "      <h3>Navigation</h3>\n",
       "      <ul>\n",
       "        <li class=\"right\" style=\"margin-right: 10px\">\n",
       "          <a href=\"genindex.html\" title=\"General Index\"\n",
       "             accesskey=\"I\">index</a></li>\n",
       "        <li class=\"right\" >\n",
       "          <a href=\"reports_template.html\" title=\"Reports template\"\n",
       "             accesskey=\"N\">next</a> |</li>\n",
       "        <li class=\"nav-item nav-item-0\"><a href=\"#\">foo version 0.1</a> &#187;</li> \n",
       "      </ul>\n",
       "    </div>\n",
       "    <div class=\"container-wrapper\">\n",
       "\n",
       "      <div id=\"mobile-toggle\">\n",
       "        <a href=\"#\"><span class=\"glyphicon glyphicon-align-justify\" aria-hidden=\"true\"></span></a>\n",
       "      </div>\n",
       "  <div id=\"left-column\">\n",
       "    <div class=\"sphinxsidebar\"><a href=\"\n",
       "    #\" class=\"text-logo\">foo</a>\n",
       "<div class=\"sidebar-block\">\n",
       "  <div class=\"sidebar-wrapper\">\n",
       "    <h2>Table Of Contents</h2>\n",
       "  </div>\n",
       "  <div class=\"sidebar-toc\">\n",
       "    \n",
       "    \n",
       "      <p class=\"caption\"><span class=\"caption-text\">Contents:</span></p>\n",
       "<ul>\n",
       "<li class=\"toctree-l1\"><a class=\"reference internal\" href=\"reports_template.html\">Reports template</a></li>\n",
       "<li class=\"toctree-l1\"><a class=\"reference internal\" href=\"example.html\">Example</a></li>\n",
       "</ul>\n",
       "\n",
       "    \n",
       "  </div>\n",
       "</div>\n",
       "<div class=\"sidebar-block\">\n",
       "  <div class=\"sidebar-wrapper\">\n",
       "    <div id=\"main-search\">\n",
       "      <form class=\"form-inline\" action=\"search.html\" method=\"GET\" role=\"form\">\n",
       "        <div class=\"input-group\">\n",
       "          <input name=\"q\" type=\"text\" class=\"form-control\" placeholder=\"Search...\">\n",
       "        </div>\n",
       "        <input type=\"hidden\" name=\"check_keywords\" value=\"yes\" />\n",
       "        <input type=\"hidden\" name=\"area\" value=\"default\" />\n",
       "      </form>\n",
       "    </div>\n",
       "  </div>\n",
       "</div>\n",
       "      \n",
       "    </div>\n",
       "  </div>\n",
       "        <div id=\"right-column\">\n",
       "          \n",
       "          <div role=\"navigation\" aria-label=\"breadcrumbs navigation\">\n",
       "            <ol class=\"breadcrumb\">\n",
       "              <li><a href=\"#\">Docs</a></li>\n",
       "              \n",
       "              <li>Welcome to foo’s documentation!</li>\n",
       "            </ol>\n",
       "          </div>\n",
       "          \n",
       "          <div class=\"document clearer body\">\n",
       "            \n",
       "  <div class=\"section\" id=\"welcome-to-foo-s-documentation\">\n",
       "<h1>Welcome to foo’s documentation!<a class=\"headerlink\" href=\"#welcome-to-foo-s-documentation\" title=\"Permalink to this headline\">¶</a></h1>\n",
       "<div class=\"toctree-wrapper compound\">\n",
       "<p class=\"caption\"><span class=\"caption-text\">Contents:</span></p>\n",
       "<ul>\n",
       "<li class=\"toctree-l1\"><a class=\"reference internal\" href=\"reports_template.html\">Reports template</a><ul>\n",
       "<li class=\"toctree-l2\"><a class=\"reference internal\" href=\"reports_template.html#Overview\">Overview</a></li>\n",
       "<li class=\"toctree-l2\"><a class=\"reference internal\" href=\"reports_template.html#Instructions\">Instructions</a></li>\n",
       "</ul>\n",
       "</li>\n",
       "<li class=\"toctree-l1\"><a class=\"reference internal\" href=\"example.html\">Example</a></li>\n",
       "</ul>\n",
       "</div>\n",
       "</div>\n",
       "<div class=\"section\" id=\"indices-and-tables\">\n",
       "<h1>Indices and tables<a class=\"headerlink\" href=\"#indices-and-tables\" title=\"Permalink to this headline\">¶</a></h1>\n",
       "<ul class=\"simple\">\n",
       "<li><p><a class=\"reference internal\" href=\"genindex.html\"><span class=\"std std-ref\">Index</span></a></p></li>\n",
       "<li><p><a class=\"reference internal\" href=\"py-modindex.html\"><span class=\"std std-ref\">Module Index</span></a></p></li>\n",
       "<li><p><a class=\"reference internal\" href=\"search.html\"><span class=\"std std-ref\">Search Page</span></a></p></li>\n",
       "</ul>\n",
       "</div>\n",
       "\n",
       "\n",
       "          </div>\n",
       "            \n",
       "  <div class=\"footer-relations\">\n",
       "    \n",
       "      <div class=\"pull-right\">\n",
       "        <a class=\"btn btn-default\" href=\"reports_template.html\" title=\"next chapter (use the right arrow)\">Reports template</a>\n",
       "      </div>\n",
       "    </div>\n",
       "    <div class=\"clearer\"></div>\n",
       "  \n",
       "        </div>\n",
       "        <div class=\"clearfix\"></div>\n",
       "    </div>\n",
       "    <div class=\"related\" role=\"navigation\" aria-label=\"related navigation\">\n",
       "      <h3>Navigation</h3>\n",
       "      <ul>\n",
       "        <li class=\"right\" style=\"margin-right: 10px\">\n",
       "          <a href=\"genindex.html\" title=\"General Index\"\n",
       "             >index</a></li>\n",
       "        <li class=\"right\" >\n",
       "          <a href=\"reports_template.html\" title=\"Reports template\"\n",
       "             >next</a> |</li>\n",
       "        <li class=\"nav-item nav-item-0\"><a href=\"#\">foo version 0.1</a> &#187;</li> \n",
       "      </ul>\n",
       "    </div>\n",
       "<script type=\"text/javascript\">\n",
       "  $(\"#mobile-toggle a\").click(function () {\n",
       "    $(\"#left-column\").toggle();\n",
       "  });\n",
       "</script>\n",
       "<script type=\"text/javascript\" src=\"_static/js/bootstrap.js\"></script>\n",
       "  <div class=\"footer\">\n",
       "    &copy; Copyright 2020, Discovery. Created using <a href=\"http://sphinx.pocoo.org/\">Sphinx</a>.\n",
       "  </div>\n",
       "  </body>\n",
       "</html>"
      ],
      "text/plain": [
       "<IPython.core.display.HTML object>"
      ]
     },
     "metadata": {},
     "output_type": "display_data"
    }
   ],
   "source": [
    "display(HTML(\"docs/reports/html/index.html\"))"
   ]
  },
  {
   "cell_type": "markdown",
   "metadata": {},
   "source": [
    "And another imperfect rendering of the `Example` page we created."
   ]
  },
  {
   "cell_type": "code",
   "execution_count": 30,
   "metadata": {
    "ExecuteTime": {
     "end_time": "2020-03-26T04:07:18.465096Z",
     "start_time": "2020-03-26T04:07:18.459082Z"
    }
   },
   "outputs": [
    {
     "data": {
      "text/html": [
       "\n",
       "<!DOCTYPE html>\n",
       "\n",
       "<html xmlns=\"http://www.w3.org/1999/xhtml\">\n",
       "  <head>\n",
       "    <meta charset=\"utf-8\" />\n",
       "  \n",
       "  <!-- Licensed under the Apache 2.0 License -->\n",
       "  <link rel=\"stylesheet\" type=\"text/css\" href=\"_static/fonts/open-sans/stylesheet.css\" />\n",
       "  <!-- Licensed under the SIL Open Font License -->\n",
       "  <link rel=\"stylesheet\" type=\"text/css\" href=\"_static/fonts/source-serif-pro/source-serif-pro.css\" />\n",
       "  <link rel=\"stylesheet\" type=\"text/css\" href=\"_static/css/bootstrap.min.css\" />\n",
       "  <link rel=\"stylesheet\" type=\"text/css\" href=\"_static/css/bootstrap-theme.min.css\" />\n",
       "  <meta name=\"viewport\" content=\"width=device-width, initial-scale=1.0\">\n",
       "  \n",
       "    <title>Example &#8212; foo version 0.1</title>\n",
       "    <link rel=\"stylesheet\" href=\"_static/guzzle.css\" type=\"text/css\" />\n",
       "    <link rel=\"stylesheet\" href=\"_static/pygments.css\" type=\"text/css\" />\n",
       "    <script id=\"documentation_options\" data-url_root=\"./\" src=\"_static/documentation_options.js\"></script>\n",
       "    <script src=\"_static/jquery.js\"></script>\n",
       "    <script src=\"_static/underscore.js\"></script>\n",
       "    <script src=\"_static/doctools.js\"></script>\n",
       "    <script src=\"_static/language_data.js\"></script>\n",
       "    <script src=\"https://cdnjs.cloudflare.com/ajax/libs/require.js/2.1.10/require.min.js\"></script>\n",
       "    <script crossorigin=\"anonymous\" integrity=\"sha256-Ae2Vz/4ePdIu6ZyI/5ZGsYnb+m0JlOmKPjt6XZ9JJkA=\" src=\"https://cdnjs.cloudflare.com/ajax/libs/require.js/2.3.4/require.min.js\"></script>\n",
       "    <link rel=\"index\" title=\"Index\" href=\"genindex.html\" />\n",
       "    <link rel=\"search\" title=\"Search\" href=\"search.html\" />\n",
       "    <link rel=\"prev\" title=\"Reports template\" href=\"reports_template.html\" />\n",
       "  \n",
       "   \n",
       "\n",
       "  </head><body>\n",
       "    <div class=\"related\" role=\"navigation\" aria-label=\"related navigation\">\n",
       "      <h3>Navigation</h3>\n",
       "      <ul>\n",
       "        <li class=\"right\" style=\"margin-right: 10px\">\n",
       "          <a href=\"genindex.html\" title=\"General Index\"\n",
       "             accesskey=\"I\">index</a></li>\n",
       "        <li class=\"right\" >\n",
       "          <a href=\"reports_template.html\" title=\"Reports template\"\n",
       "             accesskey=\"P\">previous</a> |</li>\n",
       "        <li class=\"nav-item nav-item-0\"><a href=\"index.html\">foo version 0.1</a> &#187;</li> \n",
       "      </ul>\n",
       "    </div>\n",
       "    <div class=\"container-wrapper\">\n",
       "\n",
       "      <div id=\"mobile-toggle\">\n",
       "        <a href=\"#\"><span class=\"glyphicon glyphicon-align-justify\" aria-hidden=\"true\"></span></a>\n",
       "      </div>\n",
       "  <div id=\"left-column\">\n",
       "    <div class=\"sphinxsidebar\"><a href=\"\n",
       "    index.html\" class=\"text-logo\">foo</a>\n",
       "<div class=\"sidebar-block\">\n",
       "  <div class=\"sidebar-wrapper\">\n",
       "    <h2>Table Of Contents</h2>\n",
       "  </div>\n",
       "  <div class=\"sidebar-toc\">\n",
       "    \n",
       "    \n",
       "      <p class=\"caption\"><span class=\"caption-text\">Contents:</span></p>\n",
       "<ul class=\"current\">\n",
       "<li class=\"toctree-l1\"><a class=\"reference internal\" href=\"reports_template.html\">Reports template</a></li>\n",
       "<li class=\"toctree-l1 current\"><a class=\"current reference internal\" href=\"#\">Example</a></li>\n",
       "</ul>\n",
       "\n",
       "    \n",
       "  </div>\n",
       "</div>\n",
       "<div class=\"sidebar-block\">\n",
       "  <div class=\"sidebar-wrapper\">\n",
       "    <div id=\"main-search\">\n",
       "      <form class=\"form-inline\" action=\"search.html\" method=\"GET\" role=\"form\">\n",
       "        <div class=\"input-group\">\n",
       "          <input name=\"q\" type=\"text\" class=\"form-control\" placeholder=\"Search...\">\n",
       "        </div>\n",
       "        <input type=\"hidden\" name=\"check_keywords\" value=\"yes\" />\n",
       "        <input type=\"hidden\" name=\"area\" value=\"default\" />\n",
       "      </form>\n",
       "    </div>\n",
       "  </div>\n",
       "</div>\n",
       "      \n",
       "    </div>\n",
       "  </div>\n",
       "        <div id=\"right-column\">\n",
       "          \n",
       "          <div role=\"navigation\" aria-label=\"breadcrumbs navigation\">\n",
       "            <ol class=\"breadcrumb\">\n",
       "              <li><a href=\"index.html\">Docs</a></li>\n",
       "              \n",
       "              <li>Example</li>\n",
       "            </ol>\n",
       "          </div>\n",
       "          \n",
       "          <div class=\"document clearer body\">\n",
       "            \n",
       "  <div class=\"section\" id=\"example\">\n",
       "<h1>Example<a class=\"headerlink\" href=\"#example\" title=\"Permalink to this headline\">¶</a></h1>\n",
       "<p>This is an example .rst file</p>\n",
       "</div>\n",
       "\n",
       "\n",
       "          </div>\n",
       "            \n",
       "  <div class=\"footer-relations\">\n",
       "    \n",
       "      <div class=\"pull-left\">\n",
       "        <a class=\"btn btn-default\" href=\"reports_template.html\" title=\"previous chapter (use the left arrow)\">Reports template</a>\n",
       "      </div>\n",
       "    \n",
       "    </div>\n",
       "    <div class=\"clearer\"></div>\n",
       "  \n",
       "        </div>\n",
       "        <div class=\"clearfix\"></div>\n",
       "    </div>\n",
       "    <div class=\"related\" role=\"navigation\" aria-label=\"related navigation\">\n",
       "      <h3>Navigation</h3>\n",
       "      <ul>\n",
       "        <li class=\"right\" style=\"margin-right: 10px\">\n",
       "          <a href=\"genindex.html\" title=\"General Index\"\n",
       "             >index</a></li>\n",
       "        <li class=\"right\" >\n",
       "          <a href=\"reports_template.html\" title=\"Reports template\"\n",
       "             >previous</a> |</li>\n",
       "        <li class=\"nav-item nav-item-0\"><a href=\"index.html\">foo version 0.1</a> &#187;</li> \n",
       "      </ul>\n",
       "    </div>\n",
       "<script type=\"text/javascript\">\n",
       "  $(\"#mobile-toggle a\").click(function () {\n",
       "    $(\"#left-column\").toggle();\n",
       "  });\n",
       "</script>\n",
       "<script type=\"text/javascript\" src=\"_static/js/bootstrap.js\"></script>\n",
       "  <div class=\"footer\">\n",
       "    &copy; Copyright 2020, Discovery. Created using <a href=\"http://sphinx.pocoo.org/\">Sphinx</a>.\n",
       "  </div>\n",
       "  </body>\n",
       "</html>"
      ],
      "text/plain": [
       "<IPython.core.display.HTML object>"
      ]
     },
     "metadata": {},
     "output_type": "display_data"
    }
   ],
   "source": [
    "display(HTML(\"docs/reports/html/example.html\"))"
   ]
  },
  {
   "cell_type": "markdown",
   "metadata": {},
   "source": [
    "## --ls"
   ]
  },
  {
   "cell_type": "code",
   "execution_count": 31,
   "metadata": {
    "ExecuteTime": {
     "end_time": "2020-03-26T04:07:19.025826Z",
     "start_time": "2020-03-26T04:07:18.467373Z"
    }
   },
   "outputs": [
    {
     "name": "stdout",
     "output_type": "stream",
     "text": [
      "usage: dsco ls [-h] [-r]\r\n",
      "\r\n",
      "optional arguments:\r\n",
      "  -h, --help    show this help message and exit\r\n",
      "  -r, --remote  list remote containers using docker over ssh\r\n"
     ]
    }
   ],
   "source": [
    "!dsco ls --help"
   ]
  },
  {
   "cell_type": "markdown",
   "metadata": {},
   "source": [
    "We've already been using `dsco ls` to see the containers and images that \n",
    "are present on our local machine.\n",
    "\n",
    "We can also use `dsco ls -r` to see containers we have running on remote \n",
    "machines. This leverages docker's ability to run docker commands over \n",
    "ssh by setting the `DOCKER_HOST` environment variable.\n",
    "\n",
    "For this to work, you need to have keyless ssh set up to your remote host, \n",
    "and then create a `$HOME/.dsco/settings.json` file that contains \n",
    "the following:"
   ]
  },
  {
   "cell_type": "markdown",
   "metadata": {
    "ExecuteTime": {
     "end_time": "2020-03-26T00:32:06.251800Z",
     "start_time": "2020-03-26T00:32:06.245768Z"
    }
   },
   "source": [
    "```\n",
    "{\n",
    "    \"remote\": [\n",
    "        {\n",
    "            \"name\": \"my_name_for_my_machine\",\n",
    "            \"properties\": {\n",
    "                \"ip\": \"fully_qualified_domain_name\"\n",
    "            },\n",
    "            \"env\": {\n",
    "                \"DOCKER_HOST\": \"ssh://user@fqdn\"\n",
    "            }\n",
    "        },\n",
    "        {\n",
    "            \"name\": \"my_name_for_my_machine2\",\n",
    "            \"properties\": {\n",
    "                \"ip\": \"fully_qualified_domain_name\"\n",
    "            },\n",
    "            \"env\": {\n",
    "                \"DOCKER_HOST\": \"ssh://user@fqdn\"\n",
    "            }\n",
    "        }\n",
    "    ]\n",
    "}\n",
    "```"
   ]
  },
  {
   "cell_type": "code",
   "execution_count": 32,
   "metadata": {
    "ExecuteTime": {
     "end_time": "2020-03-26T04:07:27.175871Z",
     "start_time": "2020-03-26T04:07:26.303440Z"
    }
   },
   "outputs": [
    {
     "name": "stdout",
     "output_type": "stream",
     "text": [
      "\u001b[7mlocalhost                                                                                                                             \u001b[0m\r\n",
      "\u001b[4mNAME                              LINK                                       ID               STATUS                        SIZE      \u001b[0m\r\n",
      "foo_dev:latest                                                               d5c29dc3707d     28 seconds ago                1.75GB    \r\n",
      "\u001b[94m    foo_dev_1                     http://localhost:8001                      cca408b97e0a     Up 17 seconds                           \u001b[0m\r\n"
     ]
    }
   ],
   "source": [
    "# grep is just filtering the content. Generally just use 'dsco ls'\n",
    "!dsco ls | egrep 'localhost|foo|NAME'"
   ]
  },
  {
   "cell_type": "markdown",
   "metadata": {},
   "source": [
    "## --shell"
   ]
  },
  {
   "cell_type": "code",
   "execution_count": 33,
   "metadata": {
    "ExecuteTime": {
     "end_time": "2020-03-26T04:07:20.394691Z",
     "start_time": "2020-03-26T04:07:19.904359Z"
    }
   },
   "outputs": [
    {
     "name": "stdout",
     "output_type": "stream",
     "text": [
      "usage: dsco shell [-h] [--dev] [--prod] [--debug]\r\n",
      "\r\n",
      "optional arguments:\r\n",
      "  -h, --help  show this help message and exit\r\n",
      "  --dev       attach to dev\r\n",
      "  --prod      attach to prod\r\n",
      "  --debug     attach to debug\r\n"
     ]
    }
   ],
   "source": [
    "!dsco shell --help"
   ]
  },
  {
   "cell_type": "markdown",
   "metadata": {},
   "source": [
    "Use the `dsco shell` command to open a bash shell inside your container.\n",
    "\n",
    "This is the preferred way to work with your project dependencies."
   ]
  },
  {
   "cell_type": "markdown",
   "metadata": {},
   "source": [
    "## --code"
   ]
  },
  {
   "cell_type": "code",
   "execution_count": 34,
   "metadata": {
    "ExecuteTime": {
     "end_time": "2020-03-26T04:07:20.874299Z",
     "start_time": "2020-03-26T04:07:20.396724Z"
    }
   },
   "outputs": [
    {
     "name": "stdout",
     "output_type": "stream",
     "text": [
      "usage: dsco code [-h] [-r REMOTE]\r\n",
      "\r\n",
      "optional arguments:\r\n",
      "  -h, --help            show this help message and exit\r\n",
      "  -r REMOTE, --remote REMOTE\r\n",
      "                        connect to a container with docker-machine\r\n"
     ]
    }
   ],
   "source": [
    "!dsco code --help"
   ]
  },
  {
   "cell_type": "markdown",
   "metadata": {},
   "source": [
    "Use `dsco code` to launch a session of Microsoft's vscode IDE. After you \n",
    "install the `Remote Development Extension`, you can use the \n",
    "`Remote Explorer` to attach to running containers. Open up the `/srv` \n",
    "directory and enjoy a \"local-like\" development experience."
   ]
  },
  {
   "cell_type": "markdown",
   "metadata": {},
   "source": [
    "Even more amazing is the ability to attach to containers running on \n",
    "remote machines. If you have remote machines set up as described in the \n",
    "`--ls` section, you can simple type `dsco code -r my_name_for_my_machine`.\n",
    "When vscode opens you can use `Remote Explorer` to attach to the listed \n",
    "containers, but this time you will see the containers running on the \n",
    "remote machine. Super Cool!!!\n",
    "\n",
    "You can read more about using vscode with containers \n",
    "here: https://code.visualstudio.com/docs/remote/containers."
   ]
  },
  {
   "cell_type": "markdown",
   "metadata": {},
   "source": [
    "## --restart"
   ]
  },
  {
   "cell_type": "code",
   "execution_count": 35,
   "metadata": {
    "ExecuteTime": {
     "end_time": "2020-03-26T04:07:21.372050Z",
     "start_time": "2020-03-26T04:07:20.876352Z"
    }
   },
   "outputs": [
    {
     "name": "stdout",
     "output_type": "stream",
     "text": [
      "usage: dsco restart [-h] [--flask] [--nginx]\r\n",
      "\r\n",
      "optional arguments:\r\n",
      "  -h, --help  show this help message and exit\r\n",
      "  --flask     restart flask\r\n",
      "  --nginx     restart nginx\r\n"
     ]
    }
   ],
   "source": [
    "!dsco restart --help"
   ]
  },
  {
   "cell_type": "markdown",
   "metadata": {},
   "source": [
    "When you're working on creating your Dash dashboard, you will need to \n",
    "restart flask to see the changes you made. `dsco restart` is an easy \n",
    "way to do this. Without options it will restart both `nginx` and `flask`. \n",
    "Use the flags to be more specific."
   ]
  },
  {
   "cell_type": "code",
   "execution_count": 36,
   "metadata": {
    "ExecuteTime": {
     "end_time": "2020-03-26T04:07:25.814280Z",
     "start_time": "2020-03-26T04:07:21.374777Z"
    }
   },
   "outputs": [
    {
     "name": "stdout",
     "output_type": "stream",
     "text": [
      "docker exec -it $(docker ps --all --filter 'label=com.docker.compose.project=foo' --filter 'label=com.docker.compose.service=dev' --format {{.Names}}) bash -c \"service nginx restart\"\n",
      "[....] Restarting nginx: nginx\u001b[?25l\u001b7\u001b[1G[\u001b[32m ok \u001b[39;49m\u001b8\u001b[?12l\u001b[?25h.\n",
      "docker exec -it $(docker ps --all --filter 'label=com.docker.compose.project=foo' --filter 'label=com.docker.compose.service=dev' --format {{.Names}}) bash -c \"supervisorctl restart uwsgi && supervisorctl status\"\n",
      "uwsgi: stopped\n",
      "uwsgi: started\n",
      "jupyter                          RUNNING   pid 57, uptime 0:00:21\n",
      "uwsgi                            RUNNING   pid 445, uptime 0:00:01\n"
     ]
    }
   ],
   "source": [
    "!dsco restart"
   ]
  },
  {
   "cell_type": "markdown",
   "metadata": {},
   "source": [
    "## --update_port"
   ]
  },
  {
   "cell_type": "code",
   "execution_count": 37,
   "metadata": {
    "ExecuteTime": {
     "end_time": "2020-03-26T04:07:26.299920Z",
     "start_time": "2020-03-26T04:07:25.817670Z"
    }
   },
   "outputs": [
    {
     "name": "stdout",
     "output_type": "stream",
     "text": [
      "usage: dsco update_port [-h] [--dev DEV] [--prod PROD] [--debug DEBUG]\r\n",
      "                        [base_port]\r\n",
      "\r\n",
      "positional arguments:\r\n",
      "  base_port      update ports dev: base_port, prod: base_port+1000, debug:\r\n",
      "                 base_port-500\r\n",
      "\r\n",
      "optional arguments:\r\n",
      "  -h, --help     show this help message and exit\r\n",
      "  --dev DEV      update dev port, overwrites base_port\r\n",
      "  --prod PROD    update prod port, overwrites base_port\r\n",
      "  --debug DEBUG  update debug port, overwrites base_port\r\n"
     ]
    }
   ],
   "source": [
    "!dsco update_port --help"
   ]
  },
  {
   "cell_type": "markdown",
   "metadata": {},
   "source": [
    "When you set up your project, you were prompted for a port number. By \n",
    "default, this is the port of the `dev` container. The `prod` container \n",
    "is assigned `port + 1000` and the `debug` container is assigned `port - 500`.\n",
    "\n",
    "If you're running multiple containers on the same machine, they all need \n",
    "to be on different ports. To change the port you can use `dsco update_port`\n",
    "\n",
    "If you enter `dsco update_port 8001`: you will get the default behavior \n",
    "described above. If you want to override this behavior, simply add the \n",
    "appropriate flag and specify the desired port.\n",
    "\n",
    "For example:\n",
    "```\n",
    "    dsco update_port 8001 --prod 8501\n",
    "        dev = 8001\n",
    "        prod = 8501\n",
    "        debug = 7501\n",
    "        \n",
    "    dsco update_port --debug 7600\n",
    "        dev = unchanged\n",
    "        prod = unchanged\n",
    "        debug = 7600\n",
    "```"
   ]
  },
  {
   "cell_type": "markdown",
   "metadata": {},
   "source": [
    "Once you've changed the port you will need to run `dsco up` make the \n",
    "changes take effect."
   ]
  },
  {
   "cell_type": "markdown",
   "metadata": {},
   "source": [
    "Note the port is 8001."
   ]
  },
  {
   "cell_type": "code",
   "execution_count": 38,
   "metadata": {
    "ExecuteTime": {
     "end_time": "2020-03-26T04:07:27.175871Z",
     "start_time": "2020-03-26T04:07:26.303440Z"
    }
   },
   "outputs": [
    {
     "name": "stdout",
     "output_type": "stream",
     "text": [
      "\u001b[7mlocalhost                                                                                                                             \u001b[0m\r\n",
      "\u001b[4mNAME                              LINK                                       ID               STATUS                        SIZE      \u001b[0m\r\n",
      "foo_dev:latest                                                               d5c29dc3707d     35 seconds ago                1.75GB    \r\n",
      "\u001b[94m    foo_dev_1                     http://localhost:8001                      cca408b97e0a     Up 24 seconds                           \u001b[0m\r\n"
     ]
    }
   ],
   "source": [
    "# grep is just filtering the content. Generally just use 'dsco ls'\n",
    "!dsco ls | egrep 'localhost|foo|NAME'"
   ]
  },
  {
   "cell_type": "code",
   "execution_count": 39,
   "metadata": {
    "ExecuteTime": {
     "end_time": "2020-03-26T04:07:27.665115Z",
     "start_time": "2020-03-26T04:07:27.182836Z"
    }
   },
   "outputs": [],
   "source": [
    "!dsco update_port 8023"
   ]
  },
  {
   "cell_type": "markdown",
   "metadata": {},
   "source": [
    "Still 8001, we need to restart it."
   ]
  },
  {
   "cell_type": "code",
   "execution_count": 40,
   "metadata": {
    "ExecuteTime": {
     "end_time": "2020-03-26T04:07:28.549432Z",
     "start_time": "2020-03-26T04:07:27.669100Z"
    }
   },
   "outputs": [
    {
     "name": "stdout",
     "output_type": "stream",
     "text": [
      "\u001b[7mlocalhost                                                                                                                             \u001b[0m\r\n",
      "\u001b[4mNAME                              LINK                                       ID               STATUS                        SIZE      \u001b[0m\r\n",
      "foo_dev:latest                                                               d5c29dc3707d     37 seconds ago                1.75GB    \r\n",
      "\u001b[94m    foo_dev_1                     http://localhost:8001                      cca408b97e0a     Up 26 seconds                           \u001b[0m\r\n"
     ]
    }
   ],
   "source": [
    "# grep is just filtering the content. Generally just use 'dsco ls'\n",
    "!dsco ls | egrep 'localhost|foo|NAME'"
   ]
  },
  {
   "cell_type": "code",
   "execution_count": 41,
   "metadata": {
    "ExecuteTime": {
     "end_time": "2020-03-26T04:07:30.787878Z",
     "start_time": "2020-03-26T04:07:28.552592Z"
    }
   },
   "outputs": [
    {
     "name": "stdout",
     "output_type": "stream",
     "text": [
      "docker-compose up -d dev\n",
      "Recreating foo_dev_1 ... \n",
      "\u001b[1Beating foo_dev_1 ... \u001b[32mdone\u001b[0m\n",
      "========================================================================================\n",
      "up execution time: 1.7434639930725098 seconds\n",
      "========================================================================================\n"
     ]
    }
   ],
   "source": [
    "!dsco up"
   ]
  },
  {
   "cell_type": "markdown",
   "metadata": {},
   "source": [
    "Now we see it has updated."
   ]
  },
  {
   "cell_type": "code",
   "execution_count": 42,
   "metadata": {
    "ExecuteTime": {
     "end_time": "2020-03-26T04:07:31.668603Z",
     "start_time": "2020-03-26T04:07:30.791070Z"
    }
   },
   "outputs": [
    {
     "name": "stdout",
     "output_type": "stream",
     "text": [
      "\u001b[7mlocalhost                                                                                                                             \u001b[0m\r\n",
      "\u001b[4mNAME                              LINK                                       ID               STATUS                        SIZE      \u001b[0m\r\n",
      "foo_dev:latest                                                               d5c29dc3707d     40 seconds ago                1.75GB    \r\n",
      "\u001b[94m    foo_dev_1                     http://localhost:8023                      c9769c1bbe1f     Up Less than a second                   \u001b[0m\r\n"
     ]
    }
   ],
   "source": [
    "# grep is just filtering the content. Generally just use 'dsco ls'\n",
    "!dsco ls | egrep 'localhost|foo|NAME'"
   ]
  },
  {
   "cell_type": "markdown",
   "metadata": {},
   "source": [
    "Put it back."
   ]
  },
  {
   "cell_type": "code",
   "execution_count": 43,
   "metadata": {
    "ExecuteTime": {
     "end_time": "2020-03-26T04:07:32.151348Z",
     "start_time": "2020-03-26T04:07:31.670526Z"
    }
   },
   "outputs": [],
   "source": [
    "!dsco update_port 8001"
   ]
  },
  {
   "cell_type": "code",
   "execution_count": 44,
   "metadata": {
    "ExecuteTime": {
     "end_time": "2020-03-26T04:07:34.419380Z",
     "start_time": "2020-03-26T04:07:32.154860Z"
    }
   },
   "outputs": [
    {
     "name": "stdout",
     "output_type": "stream",
     "text": [
      "docker-compose up -d dev\n",
      "Recreating foo_dev_1 ... \n",
      "\u001b[1Beating foo_dev_1 ... \u001b[32mdone\u001b[0m\n",
      "========================================================================================\n",
      "up execution time: 1.7722828388214111 seconds\n",
      "========================================================================================\n"
     ]
    }
   ],
   "source": [
    "!dsco up"
   ]
  },
  {
   "cell_type": "code",
   "execution_count": 45,
   "metadata": {
    "ExecuteTime": {
     "end_time": "2020-03-26T04:07:35.306793Z",
     "start_time": "2020-03-26T04:07:34.422490Z"
    }
   },
   "outputs": [
    {
     "name": "stdout",
     "output_type": "stream",
     "text": [
      "\u001b[7mlocalhost                                                                                                                             \u001b[0m\r\n",
      "\u001b[4mNAME                              LINK                                       ID               STATUS                        SIZE      \u001b[0m\r\n",
      "foo_dev:latest                                                               d5c29dc3707d     43 seconds ago                1.75GB    \r\n",
      "\u001b[94m    foo_dev_1                     http://localhost:8001                      2d0cdc474c9b     Up Less than a second                   \u001b[0m\r\n"
     ]
    }
   ],
   "source": [
    "# grep is just filtering the content. Generally just use 'dsco ls'\n",
    "!dsco ls | egrep 'localhost|foo|NAME'"
   ]
  },
  {
   "cell_type": "markdown",
   "metadata": {},
   "source": [
    "## --rm"
   ]
  },
  {
   "cell_type": "code",
   "execution_count": 46,
   "metadata": {
    "ExecuteTime": {
     "end_time": "2020-03-26T04:07:35.802894Z",
     "start_time": "2020-03-26T04:07:35.308751Z"
    }
   },
   "outputs": [
    {
     "name": "stdout",
     "output_type": "stream",
     "text": [
      "usage: dsco rm [-h] [--dev] [--prod] [--debug] [--all]\r\n",
      "\r\n",
      "optional arguments:\r\n",
      "  -h, --help  show this help message and exit\r\n",
      "  --dev       remove dev\r\n",
      "  --prod      remove prod\r\n",
      "  --debug     remove debug\r\n",
      "  --all       remove dev, prod, and debug\r\n"
     ]
    }
   ],
   "source": [
    "!dsco rm --help"
   ]
  },
  {
   "cell_type": "markdown",
   "metadata": {},
   "source": [
    "`dsco rm` will by default remove the `dev` container.  \n",
    "Add the appropriate flag to modify this behavior.  "
   ]
  },
  {
   "cell_type": "code",
   "execution_count": 47,
   "metadata": {
    "ExecuteTime": {
     "end_time": "2020-03-26T04:07:36.656913Z",
     "start_time": "2020-03-26T04:07:35.805039Z"
    }
   },
   "outputs": [
    {
     "name": "stdout",
     "output_type": "stream",
     "text": [
      "docker rm -f $(docker ps --all --filter 'label=com.docker.compose.project=foo' --filter 'label=com.docker.compose.service=dev' --format {{.Names}})\n",
      "foo_dev_1\n"
     ]
    }
   ],
   "source": [
    "!dsco rm"
   ]
  },
  {
   "cell_type": "code",
   "execution_count": 48,
   "metadata": {
    "ExecuteTime": {
     "end_time": "2020-03-26T04:07:37.501013Z",
     "start_time": "2020-03-26T04:07:36.659934Z"
    }
   },
   "outputs": [
    {
     "name": "stdout",
     "output_type": "stream",
     "text": [
      "\u001b[7mlocalhost                                                                                                                             \u001b[0m\r\n",
      "\u001b[4mNAME                              LINK                                       ID               STATUS                        SIZE      \u001b[0m\r\n",
      "foo_dev:latest                                                               d5c29dc3707d     46 seconds ago                1.75GB    \r\n"
     ]
    }
   ],
   "source": [
    "# grep is just filtering the content. Generally just use 'dsco ls'\n",
    "!dsco ls | egrep 'localhost|foo|NAME'"
   ]
  },
  {
   "cell_type": "markdown",
   "metadata": {},
   "source": [
    "## --rmi"
   ]
  },
  {
   "cell_type": "code",
   "execution_count": 49,
   "metadata": {
    "ExecuteTime": {
     "end_time": "2020-03-26T04:07:37.984907Z",
     "start_time": "2020-03-26T04:07:37.503834Z"
    }
   },
   "outputs": [
    {
     "name": "stdout",
     "output_type": "stream",
     "text": [
      "usage: dsco rmi [-h] [--dev] [--prod] [--debug] [--all] [--force]\r\n",
      "\r\n",
      "optional arguments:\r\n",
      "  -h, --help  show this help message and exit\r\n",
      "  --dev       remove dev\r\n",
      "  --prod      remove prod\r\n",
      "  --debug     remove debug\r\n",
      "  --all       remove dev, prod, and debug\r\n",
      "  --force     remove corresponding containers\r\n"
     ]
    }
   ],
   "source": [
    "!dsco rmi --help"
   ]
  },
  {
   "cell_type": "markdown",
   "metadata": {},
   "source": [
    "`dsco rmi` will by default remove the `dev` image.  \n",
    "Add the appropriate flag to modify this behavior.  \n",
    "\n",
    "`dsco rmi` will fail is there is a container running that is based \n",
    "on the image you are trying to delete."
   ]
  },
  {
   "cell_type": "code",
   "execution_count": 50,
   "metadata": {
    "ExecuteTime": {
     "end_time": "2020-03-26T04:07:40.796132Z",
     "start_time": "2020-03-26T04:07:37.987514Z"
    }
   },
   "outputs": [
    {
     "name": "stdout",
     "output_type": "stream",
     "text": [
      "docker-compose up -d dev\n",
      "Creating foo_dev_1 ... \n",
      "\u001b[1Bting foo_dev_1 ... \u001b[32mdone\u001b[0m\n",
      "========================================================================================\n",
      "up execution time: 1.441547155380249 seconds\n",
      "========================================================================================\n",
      "\u001b[7mlocalhost                                                                                                                             \u001b[0m\n",
      "\u001b[4mNAME                              LINK                                       ID               STATUS                        SIZE      \u001b[0m\n",
      "foo_dev:latest                                                               d5c29dc3707d     49 seconds ago                1.75GB    \n",
      "\u001b[94m    foo_dev_1                     http://localhost:8001                      5f64ef8e55a5     Up Less than a second                   \u001b[0m\n"
     ]
    }
   ],
   "source": [
    "!dsco up\n",
    "# grep is just filtering the content. Generally just use 'dsco ls'\n",
    "!dsco ls | egrep 'localhost|foo|NAME'"
   ]
  },
  {
   "cell_type": "code",
   "execution_count": 51,
   "metadata": {
    "ExecuteTime": {
     "end_time": "2020-03-26T04:07:41.360788Z",
     "start_time": "2020-03-26T04:07:40.798180Z"
    }
   },
   "outputs": [
    {
     "name": "stdout",
     "output_type": "stream",
     "text": [
      "docker rmi  foo_dev\n",
      "Error response from daemon: conflict: unable to remove repository reference \"foo_dev\" (must force) - container 5f64ef8e55a5 is using its referenced image d5c29dc3707d\n"
     ]
    }
   ],
   "source": [
    "!dsco rmi"
   ]
  },
  {
   "cell_type": "markdown",
   "metadata": {},
   "source": [
    "You can force the removal of both with the `--force` flag."
   ]
  },
  {
   "cell_type": "code",
   "execution_count": 52,
   "metadata": {
    "ExecuteTime": {
     "end_time": "2020-03-26T04:07:44.125341Z",
     "start_time": "2020-03-26T04:07:41.364351Z"
    }
   },
   "outputs": [
    {
     "name": "stdout",
     "output_type": "stream",
     "text": [
      "docker rm -f $(docker ps --all --filter 'label=com.docker.compose.project=foo' --filter 'label=com.docker.compose.service=dev' --format {{.Names}})\n",
      "foo_dev_1\n",
      "docker rm -f $(docker ps --all --filter 'label=com.docker.compose.project=foo' --filter 'label=com.docker.compose.service=prod' --format {{.Names}})\n",
      "\"docker rm\" requires at least 1 argument.\n",
      "See 'docker rm --help'.\n",
      "\n",
      "Usage:  docker rm [OPTIONS] CONTAINER [CONTAINER...]\n",
      "\n",
      "Remove one or more containers\n",
      "docker rm -f $(docker ps --all --filter 'label=com.docker.compose.project=foo' --filter 'label=com.docker.compose.service=debug' --format {{.Names}})\n",
      "\"docker rm\" requires at least 1 argument.\n",
      "See 'docker rm --help'.\n",
      "\n",
      "Usage:  docker rm [OPTIONS] CONTAINER [CONTAINER...]\n",
      "\n",
      "Remove one or more containers\n",
      "docker rmi --force foo_dev\n",
      "Untagged: foo_dev:latest\n",
      "Deleted: sha256:d5c29dc3707de3eb19f8fcca7a63414d3cea707cb1f0f50de9c95dbe2d2d49c4\n",
      "Deleted: sha256:36097f11cd5334ebdd9a51a6e28eab3946b8319b3aa8a48cdd4fbe0d9280aab9\n",
      "Deleted: sha256:79a8cc5a67562054f9dcd7e814f6286cdb901acd1cb12bac55b8e0eb45defa9e\n",
      "Deleted: sha256:45ae1c880b280f359970e0bbff5c064f3cac84f0998c1e9b87475ab377e8459f\n",
      "Deleted: sha256:1a09eebc3fd7e46a8277db5b9ee6e920b80e1a22f49730c7fdd1935b70bc8e2b\n",
      "Deleted: sha256:88fdda262df3f6a1b4a171fa0e1c12e40ecaed13c5aaf95745ace9aef6bdbba6\n",
      "Deleted: sha256:54b5f1dddb0660397fae9695832aa90793e0a227662d5c97dad9f7867fdcbc3c\n",
      "Deleted: sha256:fe7bea56aca873718d2bdcda3b7b62b4c4e3fc54259dd9a52e6046a01a69877c\n",
      "Deleted: sha256:69f74d12b515a4827ebd7e721f0bbfb3ad01619100d5f8f6ebeae2a5ece4c77a\n",
      "docker rmi --force foo_prod\n",
      "Error: No such image: foo_prod\n",
      "docker rmi --force foo_debug\n",
      "Error: No such image: foo_debug\n"
     ]
    }
   ],
   "source": [
    "!dsco rmi --all --force"
   ]
  },
  {
   "cell_type": "code",
   "execution_count": 53,
   "metadata": {
    "ExecuteTime": {
     "end_time": "2020-03-26T04:07:44.958658Z",
     "start_time": "2020-03-26T04:07:44.129245Z"
    }
   },
   "outputs": [
    {
     "name": "stdout",
     "output_type": "stream",
     "text": [
      "\u001b[7mlocalhost                                                                                                                             \u001b[0m\r\n",
      "\u001b[4mNAME                              LINK                                       ID               STATUS                        SIZE      \u001b[0m\r\n"
     ]
    }
   ],
   "source": [
    "# grep is just filtering the content. Generally just use 'dsco ls'\n",
    "!dsco ls | egrep 'localhost|foo|NAME'"
   ]
  },
  {
   "cell_type": "markdown",
   "metadata": {},
   "source": [
    "Finish by deleting our project directory."
   ]
  },
  {
   "cell_type": "code",
   "execution_count": 54,
   "metadata": {
    "ExecuteTime": {
     "end_time": "2020-03-26T04:07:44.970839Z",
     "start_time": "2020-03-26T04:07:44.962338Z"
    }
   },
   "outputs": [
    {
     "name": "stdout",
     "output_type": "stream",
     "text": [
      "/private/tmp\n"
     ]
    }
   ],
   "source": [
    "cd /tmp"
   ]
  },
  {
   "cell_type": "code",
   "execution_count": 55,
   "metadata": {
    "ExecuteTime": {
     "end_time": "2020-03-26T04:07:45.170014Z",
     "start_time": "2020-03-26T04:07:44.972597Z"
    }
   },
   "outputs": [],
   "source": [
    "rm -rf /tmp/dsco_overview"
   ]
  },
  {
   "cell_type": "code",
   "execution_count": 56,
   "metadata": {
    "ExecuteTime": {
     "end_time": "2020-03-26T04:07:45.325744Z",
     "start_time": "2020-03-26T04:07:45.173128Z"
    }
   },
   "outputs": [
    {
     "name": "stdout",
     "output_type": "stream",
     "text": [
      "AlTest1.err                             \u001b[32mport.61201\u001b[m\u001b[m=\r\n",
      "AlTest1.out                             \u001b[32mport.61301\u001b[m\u001b[m=\r\n",
      "ICRC_ROLL.lck                           \u001b[32mport.61302\u001b[m\u001b[m=\r\n",
      "MSS_Menulet                             \u001b[32mport.61304\u001b[m\u001b[m=\r\n",
      "adobegc.log                             \u001b[32mport.61401\u001b[m\u001b[m=\r\n",
      "\u001b[32mcom.adobe.AdobeIPCBroker.ctrl-ap186098\u001b[m\u001b[m= \u001b[32mport.61501\u001b[m\u001b[m=\r\n",
      "\u001b[36mcom.apple.launchd.0R9DDaYyZ6\u001b[m\u001b[m/           \u001b[36mpowerlog\u001b[m\u001b[m/\r\n",
      "\u001b[36mcom.apple.launchd.McPXyPKx0Y\u001b[m\u001b[m/           \u001b[36mtmux-1937012048\u001b[m\u001b[m/\r\n",
      "\u001b[36mcom.apple.launchd.vgkMLHbKkP\u001b[m\u001b[m/           wbxtra_03252020_132958.wbt\r\n",
      "meetingJMT.txt                          \u001b[36mwbxtrace\u001b[m\u001b[m/\r\n",
      "\u001b[32mport.61100\u001b[m\u001b[m=                             \u001b[36mwebex\u001b[m\u001b[m/\r\n"
     ]
    }
   ],
   "source": [
    "ls"
   ]
  },
  {
   "cell_type": "code",
   "execution_count": null,
   "metadata": {},
   "outputs": [],
   "source": []
  }
 ],
 "metadata": {
  "kernelspec": {
   "display_name": "Python 3",
   "language": "python",
   "name": "python3"
  },
  "language_info": {
   "codemirror_mode": {
    "name": "ipython",
    "version": 3
   },
   "file_extension": ".py",
   "mimetype": "text/x-python",
   "name": "python",
   "nbconvert_exporter": "python",
   "pygments_lexer": "ipython3",
   "version": "3.7.5"
  },
  "toc": {
   "base_numbering": 1,
   "nav_menu": {},
   "number_sections": false,
   "sideBar": true,
   "skip_h1_title": false,
   "title_cell": "Table of Contents",
   "title_sidebar": "Contents",
   "toc_cell": false,
   "toc_position": {
    "height": "calc(100% - 180px)",
    "left": "10px",
    "top": "150px",
    "width": "165px"
   },
   "toc_section_display": true,
   "toc_window_display": false
  }
 },
 "nbformat": 4,
 "nbformat_minor": 4
}
