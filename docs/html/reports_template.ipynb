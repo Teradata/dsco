{
 "cells": [
  {
   "cell_type": "markdown",
   "metadata": {},
   "source": [
    "# Reports template"
   ]
  },
  {
   "cell_type": "markdown",
   "metadata": {},
   "source": [
    "## Overview"
   ]
  },
  {
   "cell_type": "markdown",
   "metadata": {},
   "source": [
    "When you create notebooks like [this](/notebook/notebooks/reports/reports_template.ipynb) \n",
    "one, you can use sphinx to render them as [html](/reports/reports_template.html#). \n",
    "The output supports both static matplotlib style plots \n",
    "and interactive plotly style plots."
   ]
  },
  {
   "cell_type": "markdown",
   "metadata": {},
   "source": [
    "## Instructions"
   ]
  },
  {
   "cell_type": "markdown",
   "metadata": {},
   "source": [
    "First, create notebooks in the reports directory.\n",
    "\n",
    "Next, modify the file [index.rst](/notebook/edit/reports/index.rst), also in the reports directory.\n",
    "\n",
    "Here's an example."
   ]
  },
  {
   "cell_type": "markdown",
   "metadata": {
    "ExecuteTime": {
     "end_time": "2019-09-12T23:14:08.823956Z",
     "start_time": "2019-09-12T23:14:08.810199Z"
    }
   },
   "source": [
    "    .. Template documentation master file, created by\n",
    "       sphinx-quickstart\n",
    "       You can adapt this file completely to your liking, but it should at least\n",
    "       contain the root `toctree` directive.\n",
    "\n",
    "    Welcome to your_project's documentation!\n",
    "    ========================================\n",
    "\n",
    "    .. toctree::\n",
    "       :maxdepth: 2\n",
    "       :caption: Contents:\n",
    "\n",
    "       reports_template\n",
    "\n",
    "\n",
    "    Indices and tables\n",
    "    ==================\n",
    "\n",
    "    * :ref:`genindex`\n",
    "    * :ref:`modindex`\n",
    "    * :ref:`search`\n"
   ]
  },
  {
   "cell_type": "markdown",
   "metadata": {},
   "source": [
    "Notice the line `reports_template` in the example above. This is just\n",
    "the name of this notebook minus it's `.ipynb` extension.\n",
    "\n",
    "To add additional notebooks, put their name (minus the `.ipynb` extension) on\n",
    "the next line."
   ]
  },
  {
   "cell_type": "markdown",
   "metadata": {},
   "source": [
    "To build the html, from you computer (outside docker), run `./build_html`\n",
    "in the project root directory, or from a shell inside the container, go to the \n",
    "`/srv/reports` directory and run `make html`."
   ]
  },
  {
   "cell_type": "code",
   "execution_count": null,
   "metadata": {},
   "outputs": [],
   "source": []
  }
 ],
 "metadata": {
  "kernelspec": {
   "display_name": "Python 3",
   "language": "python",
   "name": "python3"
  },
  "language_info": {
   "codemirror_mode": {
    "name": "ipython",
    "version": 3
   },
   "file_extension": ".py",
   "mimetype": "text/x-python",
   "name": "python",
   "nbconvert_exporter": "python",
   "pygments_lexer": "ipython3",
   "version": "3.7.4"
  },
  "toc": {
   "base_numbering": 1,
   "nav_menu": {},
   "number_sections": false,
   "sideBar": true,
   "skip_h1_title": false,
   "title_cell": "Table of Contents",
   "title_sidebar": "Contents",
   "toc_cell": false,
   "toc_position": {},
   "toc_section_display": true,
   "toc_window_display": true
  }
 },
 "nbformat": 4,
 "nbformat_minor": 2
}
