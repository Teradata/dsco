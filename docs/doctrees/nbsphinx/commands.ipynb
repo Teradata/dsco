{
 "cells": [
  {
   "cell_type": "markdown",
   "metadata": {},
   "source": [
    "# How do I use dsco? (commands)"
   ]
  },
  {
   "cell_type": "markdown",
   "metadata": {},
   "source": [
    "Here we will do an introduction to dsco commands. \n",
    "\n",
    "To do this we will be setting up a new project called `foo`."
   ]
  },
  {
   "cell_type": "markdown",
   "metadata": {},
   "source": [
    "## Setup"
   ]
  },
  {
   "cell_type": "code",
   "execution_count": 1,
   "metadata": {
    "ExecuteTime": {
     "end_time": "2020-03-27T15:43:17.389116Z",
     "start_time": "2020-03-27T15:43:17.379302Z"
    }
   },
   "outputs": [
    {
     "data": {
      "text/html": [
       "<style>.container { width:85% !important; }</style>"
      ],
      "text/plain": [
       "<IPython.core.display.HTML object>"
      ]
     },
     "metadata": {},
     "output_type": "display_data"
    }
   ],
   "source": [
    "from IPython.core.display import display, HTML\n",
    "display(HTML(\"<style>.container { width:85% !important; }</style>\"))"
   ]
  },
  {
   "cell_type": "markdown",
   "metadata": {},
   "source": [
    "Create a working directory:"
   ]
  },
  {
   "cell_type": "code",
   "execution_count": 2,
   "metadata": {
    "ExecuteTime": {
     "end_time": "2020-03-27T15:43:18.999719Z",
     "start_time": "2020-03-27T15:43:18.870886Z"
    }
   },
   "outputs": [],
   "source": [
    "!mkdir -p /tmp/dsco_overview"
   ]
  },
  {
   "cell_type": "code",
   "execution_count": 3,
   "metadata": {
    "ExecuteTime": {
     "end_time": "2020-03-27T15:43:19.722905Z",
     "start_time": "2020-03-27T15:43:19.716066Z"
    }
   },
   "outputs": [
    {
     "name": "stdout",
     "output_type": "stream",
     "text": [
      "/private/tmp/dsco_overview\n"
     ]
    }
   ],
   "source": [
    "cd /tmp/dsco_overview/"
   ]
  },
  {
   "cell_type": "markdown",
   "metadata": {},
   "source": [
    "## --help"
   ]
  },
  {
   "cell_type": "markdown",
   "metadata": {},
   "source": [
    "We can use `--help` to see a list of the available commands and a \n",
    "short description of what they do."
   ]
  },
  {
   "cell_type": "code",
   "execution_count": 4,
   "metadata": {
    "ExecuteTime": {
     "end_time": "2020-03-27T15:43:22.129131Z",
     "start_time": "2020-03-27T15:43:21.659183Z"
    }
   },
   "outputs": [
    {
     "name": "stdout",
     "output_type": "stream",
     "text": [
      "usage: dsco [-h]\r\n",
      "            {build,code,documentation,go,init,ls,reports,restart,rm,rmi,shell,up,update_port}\r\n",
      "            ...\r\n",
      "\r\n",
      "positional arguments:\r\n",
      "  {build,code,documentation,go,init,ls,reports,restart,rm,rmi,shell,up,update_port}\r\n",
      "                        available functionality\r\n",
      "    build               build images. No flag builds dev.\r\n",
      "    code                launch vs-code\r\n",
      "    documentation       view and update documentation in the dev container\r\n",
      "    go                  Build containers, then open the web page interface.\r\n",
      "    init                create a new project\r\n",
      "    ls                  list containers\r\n",
      "    reports             view and update reports in the dev container\r\n",
      "    restart             restart nginx and flask (dev)\r\n",
      "    rm                  remove containers\r\n",
      "    rmi                 remove images\r\n",
      "    shell               start shell in container\r\n",
      "    up                  create and launch containers\r\n",
      "    update_port         update container port (container restart required)\r\n",
      "\r\n",
      "optional arguments:\r\n",
      "  -h, --help            show this help message and exit\r\n"
     ]
    }
   ],
   "source": [
    "!dsco --help"
   ]
  },
  {
   "cell_type": "markdown",
   "metadata": {},
   "source": [
    "## --init"
   ]
  },
  {
   "cell_type": "code",
   "execution_count": 5,
   "metadata": {
    "ExecuteTime": {
     "end_time": "2020-03-27T15:43:29.692308Z",
     "start_time": "2020-03-27T15:43:29.210412Z"
    }
   },
   "outputs": [
    {
     "name": "stdout",
     "output_type": "stream",
     "text": [
      "usage: dsco init [-h]\r\n",
      "\r\n",
      "optional arguments:\r\n",
      "  -h, --help  show this help message and exit\r\n"
     ]
    }
   ],
   "source": [
    "!dsco init --help"
   ]
  },
  {
   "cell_type": "markdown",
   "metadata": {},
   "source": [
    "The first thing we'll want to do is create our project. \n",
    "We do this with `--init`"
   ]
  },
  {
   "cell_type": "markdown",
   "metadata": {},
   "source": [
    "Normally the `--init` command prompts us for input. However this is being \n",
    "done in a jupyter notebook, which does not allow for interactive \n",
    "responses. To get around this we will pipe in our responses as follows:\n",
    "    \n",
    "    - project_name [MyProject]: foo\n",
    "    - author [Discovery]: \n",
    "    - version [0.1]: \n",
    "    - year [2020]: \n",
    "    - project_port[8001]: \n",
    "    - select python_version:\n",
    "      1 - 3.7\n",
    "      2 - 3.6\n",
    "      Choose from 1, 2 [1]:\n",
    "    \n",
    "The only default we're changing is the project name. In actual usage \n",
    "just run `dsco init` and answer the prompts."
   ]
  },
  {
   "cell_type": "code",
   "execution_count": 6,
   "metadata": {
    "ExecuteTime": {
     "end_time": "2020-03-27T15:43:35.239666Z",
     "start_time": "2020-03-27T15:43:33.324347Z"
    }
   },
   "outputs": [
    {
     "name": "stdout",
     "output_type": "stream",
     "text": [
      "Using template: /Users/ap186098/.pyenv/versions/3.7.5/lib/python3.7/site-packages/dsco/project_template\n",
      "Creating project in /private/tmp/dsco_overview\n",
      "project_name [MyProject]: author [Discovery]: version [0.1]: year [2020]: project_port [8001]: Select python_version:\n",
      "1 - 3.7\n",
      "2 - 3.6\n",
      "Choose from 1, 2 [1]: "
     ]
    }
   ],
   "source": [
    "!echo \"foo\\n\\n\\n\\n\\n\\n\" | dsco init"
   ]
  },
  {
   "cell_type": "markdown",
   "metadata": {},
   "source": [
    "### PROJECT DIRECTORY"
   ]
  },
  {
   "cell_type": "code",
   "execution_count": 7,
   "metadata": {
    "ExecuteTime": {
     "end_time": "2020-03-27T15:43:54.173878Z",
     "start_time": "2020-03-27T15:43:54.168560Z"
    }
   },
   "outputs": [
    {
     "name": "stdout",
     "output_type": "stream",
     "text": [
      "/private/tmp/dsco_overview/foo\n"
     ]
    }
   ],
   "source": [
    "cd foo"
   ]
  },
  {
   "cell_type": "code",
   "execution_count": 8,
   "metadata": {
    "ExecuteTime": {
     "end_time": "2020-03-27T15:43:54.309218Z",
     "start_time": "2020-03-27T15:43:54.175721Z"
    }
   },
   "outputs": [
    {
     "name": "stdout",
     "output_type": "stream",
     "text": [
      "README.md          definitions.py     flask_config.ini   \u001b[36mlanding_page\u001b[m\u001b[m\r\n",
      "\u001b[36m__pycache__\u001b[m\u001b[m        docker-compose.yml flask_run.py       pyproject.toml\r\n",
      "\u001b[36mbuilder\u001b[m\u001b[m            \u001b[36mdocs\u001b[m\u001b[m               \u001b[36mfoo\u001b[m\u001b[m                \u001b[36mtests\u001b[m\u001b[m\r\n"
     ]
    }
   ],
   "source": [
    "!ls"
   ]
  },
  {
   "cell_type": "markdown",
   "metadata": {},
   "source": [
    "One of the nice things about using dsco to create your project is the \n",
    "consistency in project structure. Let's point out a few of the key \n",
    "features."
   ]
  },
  {
   "cell_type": "markdown",
   "metadata": {},
   "source": [
    "#### README.md"
   ]
  },
  {
   "cell_type": "markdown",
   "metadata": {},
   "source": [
    "A standard project README file."
   ]
  },
  {
   "cell_type": "markdown",
   "metadata": {},
   "source": [
    "#### builder"
   ]
  },
  {
   "cell_type": "markdown",
   "metadata": {},
   "source": [
    "The builder directory contains everything necessary to build the project \n",
    "containers including docker files and ansible playbooks."
   ]
  },
  {
   "cell_type": "markdown",
   "metadata": {},
   "source": [
    "#### definitions.py"
   ]
  },
  {
   "cell_type": "code",
   "execution_count": 9,
   "metadata": {
    "ExecuteTime": {
     "end_time": "2020-03-27T15:43:54.615688Z",
     "start_time": "2020-03-27T15:43:54.490028Z"
    }
   },
   "outputs": [
    {
     "name": "stdout",
     "output_type": "stream",
     "text": [
      "#!/usr/bin/env python\r\n",
      "# * encoding: utf-8\r\n",
      "import os\r\n",
      "\r\n",
      "\r\n",
      "def _test_dir(dir_path):\r\n",
      "    if not os.path.isdir(dir_path):\r\n",
      "        raise IOError(f\"Expected specs directory at {dir_path}\")\r\n",
      "\r\n",
      "\r\n",
      "ROOT_DIR = os.path.dirname(os.path.abspath(__file__))\r\n",
      "\r\n",
      "\r\n",
      "SQL_DIR = os.path.join(ROOT_DIR, \"foo\", \"sql\")\r\n",
      "_test_dir(SQL_DIR)\r\n"
     ]
    }
   ],
   "source": [
    "cat definitions.py"
   ]
  },
  {
   "cell_type": "markdown",
   "metadata": {},
   "source": [
    "This is a placeholder for defining a few useful project variables. \n",
    "If you need access to the project root directory you can import \n",
    "it from definitions."
   ]
  },
  {
   "cell_type": "markdown",
   "metadata": {},
   "source": [
    "#### docker-compose.yml"
   ]
  },
  {
   "cell_type": "markdown",
   "metadata": {},
   "source": [
    "This defines the service definitions: dev, prod, and debug for use \n",
    "with docker-compose. This is where they are tied to the appropriate \n",
    "docker file."
   ]
  },
  {
   "cell_type": "markdown",
   "metadata": {},
   "source": [
    "#### docs"
   ]
  },
  {
   "cell_type": "code",
   "execution_count": 10,
   "metadata": {
    "ExecuteTime": {
     "end_time": "2020-03-27T15:43:54.834008Z",
     "start_time": "2020-03-27T15:43:54.671195Z"
    }
   },
   "outputs": [
    {
     "name": "stdout",
     "output_type": "stream",
     "text": [
      "\u001b[01;34mdocs\u001b[00m\r\n",
      "├── \u001b[01;34massets\u001b[00m\r\n",
      "│   ├── banner.png\r\n",
      "│   ├── space-shuttle-launch.png\r\n",
      "│   └── sphinxheader.png\r\n",
      "├── \u001b[01;34mdocumentation\u001b[00m\r\n",
      "│   ├── \u001b[01;34mhtml\u001b[00m\r\n",
      "│   │   └── plotly.js\r\n",
      "│   └── \u001b[01;34msource\u001b[00m\r\n",
      "│       ├── Makefile\r\n",
      "│       ├── \u001b[01;34m__pycache__\u001b[00m\r\n",
      "│       │   └── conf.cpython-37.pyc\r\n",
      "│       ├── \u001b[01;34m_static\u001b[00m\r\n",
      "│       │   └── plotly.js\r\n",
      "│       ├── conf.py\r\n",
      "│       └── index.rst\r\n",
      "├── index.html\r\n",
      "└── \u001b[01;34mreports\u001b[00m\r\n",
      "    ├── \u001b[01;34mhtml\u001b[00m\r\n",
      "    │   └── plotly.js\r\n",
      "    └── \u001b[01;34msource\u001b[00m\r\n",
      "        ├── Makefile\r\n",
      "        ├── __init__.py\r\n",
      "        ├── \u001b[01;34m__pycache__\u001b[00m\r\n",
      "        │   ├── __init__.cpython-37.pyc\r\n",
      "        │   └── conf.cpython-37.pyc\r\n",
      "        ├── \u001b[01;34m_static\u001b[00m\r\n",
      "        │   └── plotly.js\r\n",
      "        ├── components.png\r\n",
      "        ├── conf.py\r\n",
      "        ├── index.rst\r\n",
      "        ├── reports_template.ipynb\r\n",
      "        └── resources.ipynb\r\n",
      "\r\n",
      "11 directories, 21 files\r\n"
     ]
    }
   ],
   "source": [
    "!tree docs"
   ]
  },
  {
   "cell_type": "markdown",
   "metadata": {},
   "source": [
    "The docs directory is important. Dsco distinguishes between two different \n",
    "types of docs: documentation and reports.\n",
    "\n",
    "Documentation is project documentation. The how and why of your code.\n",
    "\n",
    "Reports is meant to be a place to put your exploratory analysis.\n",
    "\n",
    "Dsco facilitates the production of a static html representation of each of \n",
    "these types of documentation. Put any .rst or notebook files in the source \n",
    "directory and generate html with either `dsco documentation -g` or \n",
    "`dsco reports -g`."
   ]
  },
  {
   "cell_type": "markdown",
   "metadata": {},
   "source": [
    "#### flask_config.ini"
   ]
  },
  {
   "cell_type": "code",
   "execution_count": 11,
   "metadata": {
    "ExecuteTime": {
     "end_time": "2020-03-27T15:43:54.966444Z",
     "start_time": "2020-03-27T15:43:54.836641Z"
    }
   },
   "outputs": [
    {
     "name": "stdout",
     "output_type": "stream",
     "text": [
      "[uwsgi]\r\n",
      "socket = 127.0.0.1:3031\r\n",
      "mount = /webapp=flask_run.py\r\n",
      "callable=app\r\n",
      "\r\n",
      "master = true\r\n",
      "processes = 2\r\n",
      "\r\n",
      "chmod-socket = 660\r\n",
      "vacuum = true\r\n",
      "\r\n",
      "die-on-term = true\r\n",
      "manage-script-name = true\r\n",
      "\r\n"
     ]
    }
   ],
   "source": [
    "cat flask_config.ini"
   ]
  },
  {
   "cell_type": "markdown",
   "metadata": {},
   "source": [
    "The container is running Flask with uwsgi. This is the configuration file. \n",
    "Don't mess with it unless you know what you're doing."
   ]
  },
  {
   "cell_type": "markdown",
   "metadata": {},
   "source": [
    "#### flask_run.py"
   ]
  },
  {
   "cell_type": "code",
   "execution_count": 12,
   "metadata": {
    "ExecuteTime": {
     "end_time": "2020-03-27T15:43:55.094479Z",
     "start_time": "2020-03-27T15:43:54.968935Z"
    }
   },
   "outputs": [
    {
     "name": "stdout",
     "output_type": "stream",
     "text": [
      "\"\"\"App entry point.\"\"\"\r\n",
      "from foo import create_app\r\n",
      "\r\n",
      "app = create_app()\r\n",
      "\r\n",
      "if __name__ == \"__main__\":\r\n",
      "    app.run(host=\"0.0.0.0\", debug=True)\r\n"
     ]
    }
   ],
   "source": [
    "cat flask_run.py"
   ]
  },
  {
   "cell_type": "markdown",
   "metadata": {},
   "source": [
    "This is the flask entry point. Again, don't mess with it unless you \n",
    "know what you're doing."
   ]
  },
  {
   "cell_type": "markdown",
   "metadata": {},
   "source": [
    "#### project_name (e.g. foo)"
   ]
  },
  {
   "cell_type": "code",
   "execution_count": 13,
   "metadata": {
    "ExecuteTime": {
     "end_time": "2020-03-27T15:43:55.225037Z",
     "start_time": "2020-03-27T15:43:55.096952Z"
    }
   },
   "outputs": [
    {
     "name": "stdout",
     "output_type": "stream",
     "text": [
      "\u001b[01;34mfoo\u001b[00m\r\n",
      "├── __init__.py\r\n",
      "├── \u001b[01;34m__pycache__\u001b[00m\r\n",
      "│   ├── __init__.cpython-37.pyc\r\n",
      "│   ├── connection.cpython-37.pyc\r\n",
      "│   ├── flask_main.cpython-37.pyc\r\n",
      "│   ├── foo.cpython-37.pyc\r\n",
      "│   ├── helpers.cpython-37.pyc\r\n",
      "│   ├── queries.cpython-37.pyc\r\n",
      "│   └── routes.cpython-37.pyc\r\n",
      "├── connection.py\r\n",
      "├── \u001b[01;34mdashapp1\u001b[00m\r\n",
      "│   ├── __init__.py\r\n",
      "│   └── \u001b[01;34m__pycache__\u001b[00m\r\n",
      "│       └── __init__.cpython-37.pyc\r\n",
      "├── flask_main.py\r\n",
      "├── foo.py\r\n",
      "├── helpers.py\r\n",
      "├── queries.py\r\n",
      "├── routes.py\r\n",
      "└── \u001b[01;34msql\u001b[00m\r\n",
      "    ├── all_test_queries.sql\r\n",
      "    └── events.sql\r\n",
      "\r\n",
      "4 directories, 18 files\r\n"
     ]
    }
   ],
   "source": [
    "!tree foo"
   ]
  },
  {
   "cell_type": "markdown",
   "metadata": {},
   "source": [
    "This is your python package directory. It will have whatever name you \n",
    "provided in the `--init` command for `[project_name]`. This is a standard \n",
    "setup for creating python packages.\n",
    "\n",
    "If you're not creating a package, don't worry about it. It's not taking \n",
    "up a lot of overhead. Just create notebooks in the `docs/reports/source` \n",
    "directory and leave this alone.\n",
    "\n",
    "If you are creating a package, there are some nice features in this package \n",
    "directory you should know about."
   ]
  },
  {
   "cell_type": "markdown",
   "metadata": {},
   "source": [
    "> **Opinionated perspective**\n",
    "> \n",
    "> In the introduction, we said we take an opinionated perspective on the \n",
    "> data science development perspective. That started with the first step \n",
    "> of doing EDA in jupyter notebooks. \n",
    "> \n",
    "> After EDA, the next level of maturity is to build some sort of dashboard. \n",
    "> Dsco sets up the scaffolding for using plotly | Dash in conjunction with \n",
    "> Flask to build your dashboard."
   ]
  },
  {
   "cell_type": "markdown",
   "metadata": {},
   "source": [
    "The flask app is created in `flask_main.py`. Flask routes are \n",
    "configured in `routes.py`. This is where you can create \n",
    "rest API routes that would return data. \n",
    "\n",
    "The dash app is  created in `dashapp1/__init__.py`.\n",
    "\n",
    "`nginx` is configured to handle requests to `/`. Nginx also handles serving \n",
    "the static content generated in `docs`. This can be found at \n",
    "`/reports/` and `/documentation/`.\n",
    "\n",
    "`flask` is configured to handle requests to `/webapp/`.\n",
    "\n",
    "`dash` is configured to handle requests to `/webapp/dash`.\n"
   ]
  },
  {
   "cell_type": "markdown",
   "metadata": {},
   "source": [
    "#### landing_page"
   ]
  },
  {
   "cell_type": "markdown",
   "metadata": {},
   "source": [
    "The landing_page directory contains the html for the page you see \n",
    "when you connect to the container at `http://<container>:<port>/`. "
   ]
  },
  {
   "cell_type": "markdown",
   "metadata": {},
   "source": [
    "#### pyproject.toml, poetry.lock"
   ]
  },
  {
   "cell_type": "markdown",
   "metadata": {
    "ExecuteTime": {
     "end_time": "2020-03-25T20:18:48.979400Z",
     "start_time": "2020-03-25T20:18:48.974133Z"
    }
   },
   "source": [
    "These files manage our python dependencies. For more information see \n",
    "http://https://python-poetry.org/."
   ]
  },
  {
   "cell_type": "markdown",
   "metadata": {},
   "source": [
    "#### tests"
   ]
  },
  {
   "cell_type": "markdown",
   "metadata": {},
   "source": [
    "TODO: At the moment this is more of a place holder. \n",
    "The intention is to build scaffolding around testing and wrap \n",
    "that in something like `dsco test`. "
   ]
  },
  {
   "cell_type": "markdown",
   "metadata": {},
   "source": [
    "## --build"
   ]
  },
  {
   "cell_type": "markdown",
   "metadata": {},
   "source": [
    "Now that we have our project directory, it's time to build our \n",
    "development image. We do that with `dsco build`."
   ]
  },
  {
   "cell_type": "code",
   "execution_count": 14,
   "metadata": {
    "ExecuteTime": {
     "end_time": "2020-03-27T15:43:55.903016Z",
     "start_time": "2020-03-27T15:43:55.428394Z"
    }
   },
   "outputs": [
    {
     "name": "stdout",
     "output_type": "stream",
     "text": [
      "usage: dsco build [-h] [--dev] [--prod] [--debug] [--all]\r\n",
      "\r\n",
      "optional arguments:\r\n",
      "  -h, --help  show this help message and exit\r\n",
      "  --dev       build dev image\r\n",
      "  --prod      build prod image\r\n",
      "  --debug     build debug image\r\n",
      "  --all       build all images\r\n"
     ]
    }
   ],
   "source": [
    "!dsco build --help"
   ]
  },
  {
   "cell_type": "code",
   "execution_count": 15,
   "metadata": {
    "ExecuteTime": {
     "end_time": "2020-03-27T15:52:02.040785Z",
     "start_time": "2020-03-27T15:43:55.905279Z"
    },
    "scrolled": false
   },
   "outputs": [
    {
     "name": "stdout",
     "output_type": "stream",
     "text": [
      "docker-compose build dev\n",
      "Building dev\n",
      "Step 1/8 : FROM python:3.7-slim as base\n",
      " ---> 69afd9568c9d\n",
      "Step 2/8 : COPY . /srv\n",
      " ---> ca403a3be728\n",
      "Step 3/8 : SHELL [\"/bin/bash\", \"-c\"]\n",
      " ---> Running in a233c691f4c8\n",
      "Removing intermediate container a233c691f4c8\n",
      " ---> 218704534db2\n",
      "Step 4/8 : RUN pip install ansible toml\n",
      " ---> Running in 46ddbe2dbe06\n",
      "Collecting ansible\n",
      "  Downloading ansible-2.9.6.tar.gz (14.2 MB)\n",
      "Collecting toml\n",
      "  Downloading toml-0.10.0-py2.py3-none-any.whl (25 kB)\n",
      "Collecting jinja2\n",
      "  Downloading Jinja2-2.11.1-py2.py3-none-any.whl (126 kB)\n",
      "Collecting PyYAML\n",
      "  Downloading PyYAML-5.3.1.tar.gz (269 kB)\n",
      "Collecting cryptography\n",
      "  Downloading cryptography-2.8-cp34-abi3-manylinux2010_x86_64.whl (2.3 MB)\n",
      "Collecting MarkupSafe>=0.23\n",
      "  Downloading MarkupSafe-1.1.1-cp37-cp37m-manylinux1_x86_64.whl (27 kB)\n",
      "Collecting six>=1.4.1\n",
      "  Downloading six-1.14.0-py2.py3-none-any.whl (10 kB)\n",
      "Collecting cffi!=1.11.3,>=1.8\n",
      "  Downloading cffi-1.14.0-cp37-cp37m-manylinux1_x86_64.whl (400 kB)\n",
      "Collecting pycparser\n",
      "  Downloading pycparser-2.20-py2.py3-none-any.whl (112 kB)\n",
      "Building wheels for collected packages: ansible, PyYAML\n",
      "  Building wheel for ansible (setup.py): started\n",
      "  Building wheel for ansible (setup.py): finished with status 'done'\n",
      "  Created wheel for ansible: filename=ansible-2.9.6-py3-none-any.whl size=16164182 sha256=b918f090a8f388bb08738ab81fdc49613a99e8023ad25111c2bf505809a73299\n",
      "  Stored in directory: /root/.cache/pip/wheels/59/31/d9/a309a1fce4216dd912b705ce76035bff3ed5bbd990853bad97\n",
      "  Building wheel for PyYAML (setup.py): started\n",
      "  Building wheel for PyYAML (setup.py): finished with status 'done'\n",
      "  Created wheel for PyYAML: filename=PyYAML-5.3.1-cp37-cp37m-linux_x86_64.whl size=44619 sha256=857ca518426df24e3866d57274075d09b8ff7aa886860205f32154d98e799d8c\n",
      "  Stored in directory: /root/.cache/pip/wheels/5e/03/1e/e1e954795d6f35dfc7b637fe2277bff021303bd9570ecea653\n",
      "Successfully built ansible PyYAML\n",
      "Installing collected packages: MarkupSafe, jinja2, PyYAML, six, pycparser, cffi, cryptography, ansible, toml\n",
      "Successfully installed MarkupSafe-1.1.1 PyYAML-5.3.1 ansible-2.9.6 cffi-1.14.0 cryptography-2.8 jinja2-2.11.1 pycparser-2.20 six-1.14.0 toml-0.10.0\n",
      "Removing intermediate container 46ddbe2dbe06\n",
      " ---> 080ee5a933be\n",
      "\u001b[2K\n",
      "Step 5/8 : FROM base as dev\n",
      " ---> 080ee5a933be\n",
      "Step 6/8 : SHELL [\"/bin/bash\", \"-c\"]\n",
      " ---> Running in f385ccba1915\n",
      "Removing intermediate container f385ccba1915\n",
      " ---> 0d0997f87dd0\n",
      "Step 7/8 : RUN cd /srv/builder/ansible && ansible-playbook build_dev_container.yml\n",
      " ---> Running in 9cc14a874aa5\n",
      "\u001b[91m[WARNING]: No inventory was parsed, only implicit localhost is available\n",
      "\u001b[0m\u001b[91m[WARNING]: provided hosts list is empty, only localhost is available. Note that\n",
      "the implicit localhost does not match 'all'\n",
      "\u001b[0m\n",
      "PLAY [localhost] ***************************************************************\n",
      "\n",
      "TASK [python3-apt : Get location of python site-packages] **********************\n",
      "changed: [localhost]\n",
      "\n",
      "TASK [python3-apt : Download python3-apt] **************************************\n",
      "changed: [localhost]\n",
      "\n",
      "TASK [python3-apt : get name of file we downloaded] ****************************\n",
      "ok: [localhost]\n",
      "\n",
      "TASK [python3-apt : extract package] *******************************************\n",
      "changed: [localhost]\n",
      "\n",
      "TASK [python3-apt : rename .so files] ******************************************\n",
      "changed: [localhost]\n",
      "\n",
      "TASK [python3-apt : cleanup downloads - python3-apt*.deb] **********************\n",
      "changed: [localhost]\n",
      "\n",
      "TASK [python3-apt : cleanup downloads - /tmp/python3-apt] **********************\n",
      "changed: [localhost]\n",
      "\n",
      "TASK [os-prod : Install os production dependencies] ****************************\n",
      "changed: [localhost] => (item=gcc)\n",
      "changed: [localhost] => (item=python3-dev)\n",
      "\u001b[91m[WARNING]: Updating cache and auto-installing missing dependency: python3-apt\n",
      "\u001b[0m\n",
      "TASK [os-prod : basic shell settings] ******************************************\n",
      "changed: [localhost]\n",
      "\n",
      "TASK [os-dev : Install os development dependencies] ****************************\n",
      "changed: [localhost] => (item=make)\n",
      "changed: [localhost] => (item=wget)\n",
      "changed: [localhost] => (item=curl)\n",
      "changed: [localhost] => (item=git)\n",
      "changed: [localhost] => (item=vim)\n",
      "changed: [localhost] => (item=pandoc)\n",
      "\n",
      "TASK [poetry : check if poetry is installed] ***********************************\n",
      "fatal: [localhost]: FAILED! => {\"changed\": true, \"cmd\": \"$HOME/.poetry/bin/poetry --version\", \"delta\": \"0:00:00.003655\", \"end\": \"2020-03-27 15:45:59.181337\", \"msg\": \"non-zero return code\", \"rc\": 127, \"start\": \"2020-03-27 15:45:59.177682\", \"stderr\": \"/bin/sh: 1: /root/.poetry/bin/poetry: not found\", \"stderr_lines\": [\"/bin/sh: 1: /root/.poetry/bin/poetry: not found\"], \"stdout\": \"\", \"stdout_lines\": []}\n",
      "...ignoring\n",
      "\n",
      "TASK [poetry : download] *******************************************************\n",
      "changed: [localhost]\n",
      "\n",
      "TASK [poetry : install and configure] ******************************************\n",
      "changed: [localhost]\n",
      "\n",
      "TASK [poetry : remove download] ************************************************\n",
      "changed: [localhost]\n",
      "\n",
      "TASK [poetry : modify .bashrc for poetry] **************************************\n",
      "changed: [localhost]\n",
      "\n",
      "TASK [python-dev : remove poetry.lock to install dependencies from scratch] ****\n",
      "skipping: [localhost]\n",
      "\n",
      "TASK [python-dev : create python development environment] **********************\n",
      "changed: [localhost]\n",
      "\n",
      "TASK [supervisor : install supervisor] *****************************************\n",
      "changed: [localhost]\n",
      "\n",
      "TASK [supervisor : config supervisor] ******************************************\n",
      "changed: [localhost]\n",
      "\n",
      "TASK [supervisor : remove supervisor.sock] *************************************\n",
      "ok: [localhost]\n",
      "\n",
      "TASK [supervisor : start] ******************************************************\n",
      "changed: [localhost]\n",
      "\n",
      "TASK [uwsgi : check that flask_config.ini exists] ******************************\n",
      "ok: [localhost]\n",
      "\n",
      "TASK [uwsgi : fail if file does not exist] *************************************\n",
      "skipping: [localhost]\n",
      "\n",
      "TASK [uwsgi : install uwsgi] ***************************************************\n",
      "changed: [localhost]\n",
      "\n",
      "TASK [uwsgi : setup config file for supervisor] ********************************\n",
      "changed: [localhost]\n",
      "\n",
      "TASK [uwsgi : Create the log directory] ****************************************\n",
      "changed: [localhost]\n",
      "\n",
      "TASK [uwsgi : update supervisor] ***********************************************\n",
      "changed: [localhost]\n",
      "\n",
      "TASK [jupyter-config : Check for jupyter] **************************************\n",
      "changed: [localhost]\n",
      "\n",
      "TASK [jupyter-config : Check if jupyter_extensions (var) installed] ************\n",
      "changed: [localhost] => (item=jupyter-contrib-nbextensions)\n",
      "changed: [localhost] => (item=qgrid)\n",
      "\n",
      "TASK [jupyter-config : install if missing] *************************************\n",
      "skipping: [localhost] => (item=['jupyter-contrib-nbextensions', {'cmd': '$HOME/.poetry/bin/poetry show jupyter-contrib-nbextensions', 'stdout': 'Skipping virtualenv creation, as specified in config file.\\nname         : jupyter-contrib-nbextensions\\nversion      : 0.5.1\\ndescription  : A collection of Jupyter nbextensions.\\n\\ndependencies\\n - ipython-genutils *\\n - jupyter-contrib-core >=0.3.3\\n - jupyter-core *\\n - jupyter-highlight-selected-word >=0.1.1\\n - jupyter-latex-envs >=1.3.8\\n - jupyter-nbextensions-configurator >=0.4.0\\n - lxml *\\n - nbconvert >=4.2\\n - notebook >=4.0\\n - pyyaml *\\n - tornado *\\n - traitlets >=4.1', 'stderr': '', 'rc': 0, 'start': '2020-03-27 15:50:46.201458', 'end': '2020-03-27 15:50:47.602127', 'delta': '0:00:01.400669', 'changed': True, 'invocation': {'module_args': {'_raw_params': '$HOME/.poetry/bin/poetry show jupyter-contrib-nbextensions', '_uses_shell': True, 'warn': True, 'stdin_add_newline': True, 'strip_empty_ends': True, 'argv': None, 'chdir': None, 'executable': None, 'creates': None, 'removes': None, 'stdin': None}}, 'stdout_lines': ['Skipping virtualenv creation, as specified in config file.', 'name         : jupyter-contrib-nbextensions', 'version      : 0.5.1', 'description  : A collection of Jupyter nbextensions.', '', 'dependencies', ' - ipython-genutils *', ' - jupyter-contrib-core >=0.3.3', ' - jupyter-core *', ' - jupyter-highlight-selected-word >=0.1.1', ' - jupyter-latex-envs >=1.3.8', ' - jupyter-nbextensions-configurator >=0.4.0', ' - lxml *', ' - nbconvert >=4.2', ' - notebook >=4.0', ' - pyyaml *', ' - tornado *', ' - traitlets >=4.1'], 'stderr_lines': [], 'failed': False, 'item': 'jupyter-contrib-nbextensions', 'ansible_loop_var': 'item'}]) \n",
      "skipping: [localhost] => (item=['qgrid', {'cmd': '$HOME/.poetry/bin/poetry show qgrid', 'stdout': 'Skipping virtualenv creation, as specified in config file.\\nname         : qgrid\\nversion      : 1.3.0\\ndescription  : An Interactive Grid for Sorting and Filtering DataFrames in\\n            Jupyter Notebook\\n\\ndependencies\\n - ipywidgets >=7.0.0\\n - notebook >=4.0.0\\n - pandas >=0.18.0', 'stderr': '', 'rc': 0, 'start': '2020-03-27 15:50:47.790825', 'end': '2020-03-27 15:50:49.200780', 'delta': '0:00:01.409955', 'changed': True, 'invocation': {'module_args': {'_raw_params': '$HOME/.poetry/bin/poetry show qgrid', '_uses_shell': True, 'warn': True, 'stdin_add_newline': True, 'strip_empty_ends': True, 'argv': None, 'chdir': None, 'executable': None, 'creates': None, 'removes': None, 'stdin': None}}, 'stdout_lines': ['Skipping virtualenv creation, as specified in config file.', 'name         : qgrid', 'version      : 1.3.0', 'description  : An Interactive Grid for Sorting and Filtering DataFrames in', '            Jupyter Notebook', '', 'dependencies', ' - ipywidgets >=7.0.0', ' - notebook >=4.0.0', ' - pandas >=0.18.0'], 'stderr_lines': [], 'failed': False, 'item': 'qgrid', 'ansible_loop_var': 'item'}]) \n",
      "\n",
      "TASK [jupyter-config : create jupyter log dir] *********************************\n"
     ]
    },
    {
     "name": "stdout",
     "output_type": "stream",
     "text": [
      "changed: [localhost]\n",
      "\n",
      "TASK [jupyter-config : .jupyter directory] *************************************\n",
      "changed: [localhost]\n",
      "\n",
      "TASK [jupyter-config : jupyter_notebook_config.py] *****************************\n",
      "changed: [localhost]\n",
      "\n",
      "TASK [jupyter-config : nbconfig directory] *************************************\n",
      "changed: [localhost]\n",
      "\n",
      "TASK [jupyter-config : notebook.json] ******************************************\n",
      "changed: [localhost]\n",
      "\n",
      "TASK [jupyter-config : custom directory] ***************************************\n",
      "changed: [localhost]\n",
      "\n",
      "TASK [jupyter-config : custom.js] **********************************************\n",
      "changed: [localhost]\n",
      "\n",
      "TASK [jupyter-config : install nbextensions] ***********************************\n",
      "changed: [localhost]\n",
      "\n",
      "TASK [jupyter-config : copy jupyter.conf file to supervisor dir] ***************\n",
      "changed: [localhost]\n",
      "\n",
      "TASK [jupyter-config : update supervisor] **************************************\n",
      "changed: [localhost]\n",
      "\n",
      "TASK [sphinx-config : Check if sphinx is installed] ****************************\n",
      "changed: [localhost]\n",
      "\n",
      "TASK [sphinx-config : Install os requirements] *********************************\n",
      "ok: [localhost] => (item=make)\n",
      "ok: [localhost] => (item=pandoc)\n",
      "\n",
      "TASK [sphinx-config : check if sphinx_extensions (var) are installed] **********\n",
      "changed: [localhost] => (item=nbsphinx)\n",
      "changed: [localhost] => (item=guzzle-sphinx-theme)\n",
      "\n",
      "TASK [sphinx-config : install if missing] **************************************\n",
      "skipping: [localhost] => (item=['nbsphinx', {'cmd': '. $HOME/.poetry/env\\npoetry show nbsphinx\\n', 'stdout': 'Skipping virtualenv creation, as specified in config file.\\nname         : nbsphinx\\nversion      : 0.4.3\\ndescription  : Jupyter Notebook Tools for Sphinx\\n\\ndependencies\\n - docutils *\\n - jinja2 *\\n - nbconvert !=5.4\\n - nbformat *\\n - sphinx >=1.6.3\\n - traitlets *', 'stderr': '', 'rc': 0, 'start': '2020-03-27 15:51:03.336287', 'end': '2020-03-27 15:51:04.717443', 'delta': '0:00:01.381156', 'changed': True, 'invocation': {'module_args': {'_raw_params': '. $HOME/.poetry/env\\npoetry show nbsphinx\\n', '_uses_shell': True, 'warn': True, 'stdin_add_newline': True, 'strip_empty_ends': True, 'argv': None, 'chdir': None, 'executable': None, 'creates': None, 'removes': None, 'stdin': None}}, 'stdout_lines': ['Skipping virtualenv creation, as specified in config file.', 'name         : nbsphinx', 'version      : 0.4.3', 'description  : Jupyter Notebook Tools for Sphinx', '', 'dependencies', ' - docutils *', ' - jinja2 *', ' - nbconvert !=5.4', ' - nbformat *', ' - sphinx >=1.6.3', ' - traitlets *'], 'stderr_lines': [], 'failed': False, 'item': 'nbsphinx', 'ansible_loop_var': 'item'}]) \n",
      "skipping: [localhost] => (item=['guzzle-sphinx-theme', {'cmd': '. $HOME/.poetry/env\\npoetry show guzzle-sphinx-theme\\n', 'stdout': 'Skipping virtualenv creation, as specified in config file.\\nname         : guzzle-sphinx-theme\\nversion      : 0.7.11\\ndescription  : Sphinx theme used by Guzzle.\\n\\ndependencies\\n - Sphinx >=1.2b1', 'stderr': '', 'rc': 0, 'start': '2020-03-27 15:51:04.903681', 'end': '2020-03-27 15:51:06.271434', 'delta': '0:00:01.367753', 'changed': True, 'invocation': {'module_args': {'_raw_params': '. $HOME/.poetry/env\\npoetry show guzzle-sphinx-theme\\n', '_uses_shell': True, 'warn': True, 'stdin_add_newline': True, 'strip_empty_ends': True, 'argv': None, 'chdir': None, 'executable': None, 'creates': None, 'removes': None, 'stdin': None}}, 'stdout_lines': ['Skipping virtualenv creation, as specified in config file.', 'name         : guzzle-sphinx-theme', 'version      : 0.7.11', 'description  : Sphinx theme used by Guzzle.', '', 'dependencies', ' - Sphinx >=1.2b1'], 'stderr_lines': [], 'failed': False, 'item': 'guzzle-sphinx-theme', 'ansible_loop_var': 'item'}]) \n",
      "\n",
      "TASK [sphinx-config : Get location of python site-packages] ********************\n",
      "changed: [localhost]\n",
      "\n",
      "TASK [sphinx-config : modify guzzle theme (make it wider)] *********************\n",
      "changed: [localhost]\n",
      "\n",
      "TASK [sphinx-config : build documentation] *************************************\n",
      "changed: [localhost]\n",
      "\n",
      "TASK [nginx : install nginx] ***************************************************\n",
      "changed: [localhost]\n",
      "\n",
      "TASK [nginx : add nginx site-available default] ********************************\n",
      "changed: [localhost]\n",
      "\n",
      "TASK [nginx : link sites-enabled to sites-available] ***************************\n",
      "ok: [localhost]\n",
      "\n",
      "TASK [nginx : restart nginx] ***************************************************\n",
      "changed: [localhost]\n",
      "\n",
      "PLAY RECAP *********************************************************************\n",
      "localhost                  : ok=47   changed=42   unreachable=0    failed=0    skipped=4    rescued=0    ignored=1   \n",
      "\n",
      "Removing intermediate container 9cc14a874aa5\n",
      " ---> 10b203751251\n",
      "Step 8/8 : LABEL com.teradata.dsco=True\n",
      " ---> Running in d7b58242fb18\n",
      "Removing intermediate container d7b58242fb18\n",
      " ---> 881efba8cbb3\n",
      "\u001b[2K\n",
      "Successfully built 881efba8cbb3\n",
      "Successfully tagged foo_dev:latest\n",
      "\n",
      "========================================================================================\n",
      "build execution time: 485.67613315582275 seconds\n",
      "========================================================================================\n"
     ]
    }
   ],
   "source": [
    "# this produces a lot of output from ansible and takes ~8 minutes\n",
    "!dsco build"
   ]
  },
  {
   "cell_type": "markdown",
   "metadata": {},
   "source": [
    "Generally this build takes about 8 minutes (see execution time at the end).\n",
    "\n",
    "We can see that it built if we run `dsco ls`. We should see \n",
    "`foo_dev:latest` listed."
   ]
  },
  {
   "cell_type": "code",
   "execution_count": 16,
   "metadata": {
    "ExecuteTime": {
     "end_time": "2020-03-27T15:52:03.840799Z",
     "start_time": "2020-03-27T15:52:02.044790Z"
    }
   },
   "outputs": [
    {
     "name": "stdout",
     "output_type": "stream",
     "text": [
      "\u001b[7mlocalhost                                                                                                                             \u001b[0m\r\n",
      "\u001b[4mNAME                              LINK                                       ID               STATUS                        SIZE      \u001b[0m\r\n",
      "foo_dev:latest                                                               881efba8cbb3     1 second ago                  1.75GB    \r\n"
     ]
    }
   ],
   "source": [
    "# grep is just filtering the content. Generally just use 'dsco ls'\n",
    "!dsco ls | egrep 'localhost|foo|NAME'"
   ]
  },
  {
   "cell_type": "markdown",
   "metadata": {},
   "source": [
    "## --up"
   ]
  },
  {
   "cell_type": "markdown",
   "metadata": {},
   "source": [
    "The next step is to create a container from the image. If the image is \n",
    "already built, this is really fast, if the image has not been built, \n",
    "this will first build the image, and then create the container, which \n",
    "will take about 8 minutes."
   ]
  },
  {
   "cell_type": "code",
   "execution_count": 17,
   "metadata": {
    "ExecuteTime": {
     "end_time": "2020-03-27T15:52:05.796380Z",
     "start_time": "2020-03-27T15:52:03.844445Z"
    }
   },
   "outputs": [
    {
     "name": "stdout",
     "output_type": "stream",
     "text": [
      "docker-compose up -d dev\n",
      "Creating foo_dev_1 ... \n",
      "\u001b[1Bting foo_dev_1 ... \u001b[32mdone\u001b[0m\n",
      "========================================================================================\n",
      "up execution time: 1.4652199745178223 seconds\n",
      "========================================================================================\n"
     ]
    }
   ],
   "source": [
    "!dsco up"
   ]
  },
  {
   "cell_type": "markdown",
   "metadata": {},
   "source": [
    "We can use `dsco ls` to see if the container is up."
   ]
  },
  {
   "cell_type": "code",
   "execution_count": 18,
   "metadata": {
    "ExecuteTime": {
     "end_time": "2020-03-27T15:52:06.711169Z",
     "start_time": "2020-03-27T15:52:05.798454Z"
    }
   },
   "outputs": [
    {
     "name": "stdout",
     "output_type": "stream",
     "text": [
      "\u001b[7mlocalhost                                                                                                                             \u001b[0m\r\n",
      "\u001b[4mNAME                              LINK                                       ID               STATUS                        SIZE      \u001b[0m\r\n",
      "foo_dev:latest                                                               881efba8cbb3     5 seconds ago                 1.75GB    \r\n",
      "\u001b[94m    foo_dev_1                     http://localhost:8001                      591858ba06da     Up Less than a second                   \u001b[0m\r\n"
     ]
    }
   ],
   "source": [
    "# grep is just filtering the content. Generally just use 'dsco ls'\n",
    "!dsco ls | egrep 'localhost|foo|NAME'"
   ]
  },
  {
   "cell_type": "markdown",
   "metadata": {},
   "source": [
    "We can access the container at the specified link. If the container is not \n",
    "running you will see this."
   ]
  },
  {
   "cell_type": "code",
   "execution_count": 19,
   "metadata": {
    "ExecuteTime": {
     "end_time": "2020-03-27T15:52:07.071046Z",
     "start_time": "2020-03-27T15:52:06.713500Z"
    }
   },
   "outputs": [
    {
     "name": "stdout",
     "output_type": "stream",
     "text": [
      "foo_dev_1\r\n"
     ]
    }
   ],
   "source": [
    "# we can use docker commands to interact with our containers as well\n",
    "# this one stops the container without deleting it\n",
    "!docker stop foo_dev_1"
   ]
  },
  {
   "cell_type": "code",
   "execution_count": 20,
   "metadata": {
    "ExecuteTime": {
     "end_time": "2020-03-27T15:52:07.990269Z",
     "start_time": "2020-03-27T15:52:07.073235Z"
    }
   },
   "outputs": [
    {
     "name": "stdout",
     "output_type": "stream",
     "text": [
      "\u001b[7mlocalhost                                                                                                                             \u001b[0m\r\n",
      "\u001b[4mNAME                              LINK                                       ID               STATUS                        SIZE      \u001b[0m\r\n",
      "foo_dev:latest                                                               881efba8cbb3     6 seconds ago                 1.75GB    \r\n",
      "\u001b[94m    foo_dev_1                     http://_________:8001                      591858ba06da     Exited (143) Less than a second ago          \u001b[0m\r\n"
     ]
    }
   ],
   "source": [
    "# grep is just filtering the content. Generally just use 'dsco ls'\n",
    "!dsco ls | egrep 'localhost|foo|NAME'"
   ]
  },
  {
   "cell_type": "code",
   "execution_count": 21,
   "metadata": {
    "ExecuteTime": {
     "end_time": "2020-03-27T15:52:09.738973Z",
     "start_time": "2020-03-27T15:52:07.995016Z"
    }
   },
   "outputs": [
    {
     "name": "stdout",
     "output_type": "stream",
     "text": [
      "docker-compose up -d dev\n",
      "Starting foo_dev_1 ... \n",
      "\u001b[1Bting foo_dev_1 ... \u001b[32mdone\u001b[0m\n",
      "========================================================================================\n",
      "up execution time: 1.2733056545257568 seconds\n",
      "========================================================================================\n"
     ]
    }
   ],
   "source": [
    "# start it again ...\n",
    "!dsco up"
   ]
  },
  {
   "cell_type": "markdown",
   "metadata": {},
   "source": [
    "## --go"
   ]
  },
  {
   "cell_type": "code",
   "execution_count": 22,
   "metadata": {
    "ExecuteTime": {
     "end_time": "2020-03-27T15:52:10.215129Z",
     "start_time": "2020-03-27T15:52:09.741554Z"
    }
   },
   "outputs": [
    {
     "name": "stdout",
     "output_type": "stream",
     "text": [
      "usage: dsco go [-h] [--dev] [--prod] [--debug] [--all]\r\n",
      "\r\n",
      "optional arguments:\r\n",
      "  -h, --help  show this help message and exit\r\n",
      "  --dev       dev container\r\n",
      "  --prod      prod container\r\n",
      "  --debug     debug container\r\n",
      "  --all       all containers\r\n"
     ]
    }
   ],
   "source": [
    "!dsco go --help"
   ]
  },
  {
   "cell_type": "markdown",
   "metadata": {},
   "source": [
    "Here we have used `dsco build` and `dsco up` to build and launch our \n",
    "dev container. We also could have used `dsco go`. \n",
    "\n",
    "`dsco go` runs `dsco up` and then launches a web browser connected \n",
    "to the container. If a container is already running, the only \n",
    "effect will be to open a web browser."
   ]
  },
  {
   "cell_type": "code",
   "execution_count": 23,
   "metadata": {
    "ExecuteTime": {
     "end_time": "2020-03-27T15:52:11.797999Z",
     "start_time": "2020-03-27T15:52:10.217403Z"
    }
   },
   "outputs": [
    {
     "name": "stdout",
     "output_type": "stream",
     "text": [
      "docker-compose up -d dev\n",
      "foo_dev_1 is up-to-date\n",
      "\n",
      "========================================================================================\n",
      "up execution time: 0.8994390964508057 seconds\n",
      "========================================================================================\n",
      "\n",
      "========================================================================================\n",
      "go execution time: 1.089184045791626 seconds\n",
      "========================================================================================\n"
     ]
    }
   ],
   "source": [
    "!dsco go"
   ]
  },
  {
   "cell_type": "markdown",
   "metadata": {},
   "source": [
    "## --documentation / --reports"
   ]
  },
  {
   "cell_type": "markdown",
   "metadata": {},
   "source": [
    "If we try to go to access our reports or documentation through the links \n",
    "on the landing page we will be met with an error 403 message. This is \n",
    "because we have not built it yet."
   ]
  },
  {
   "cell_type": "code",
   "execution_count": 24,
   "metadata": {
    "ExecuteTime": {
     "end_time": "2020-03-27T15:52:16.257323Z",
     "start_time": "2020-03-27T15:52:11.800094Z"
    }
   },
   "outputs": [
    {
     "name": "stdout",
     "output_type": "stream",
     "text": [
      "docker exec -it $(docker ps --all --filter 'label=com.docker.compose.project=foo' --filter 'label=com.docker.compose.service=dev' --format {{.Names}}) bash -c 'cd /srv/docs/documentation/source && make html'\n",
      "\u001b[01mRunning Sphinx v2.4.4\u001b[39;49;00m\n",
      "\u001b[01mbuilding [mo]: \u001b[39;49;00mtargets for 0 po files that are out of date\n",
      "\u001b[01mbuilding [html]: \u001b[39;49;00mtargets for 1 source files that are out of date\n",
      "\u001b[01mupdating environment: \u001b[39;49;00m[new config] 1 added, 0 changed, 0 removed\n",
      "\u001b[01mreading sources... \u001b[39;49;00m[100%] \u001b[35mindex\u001b[39;49;00m                                                 \n",
      "\u001b[01mlooking for now-outdated files... \u001b[39;49;00mnone found\n",
      "\u001b[01mpickling environment... \u001b[39;49;00mdone\n",
      "\u001b[01mchecking consistency... \u001b[39;49;00mdone\n",
      "\u001b[01mpreparing documents... \u001b[39;49;00mdone\n",
      "/usr/local/lib/python3.7/site-packages/guzzle_sphinx_theme/guzzle_sphinx_theme/layout.html:200: RemovedInSphinx30Warning: To modify script_files in the theme is deprecated. Please insert a <script> tag directly in your theme instead.\n",
      "\n",
      "\u001b[01mgenerating indices... \u001b[39;49;00m genindexdone\n",
      "\u001b[01mwriting additional pages... \u001b[39;49;00m searchdone\n",
      "\u001b[01mcopying static files... ... \u001b[39;49;00mdone\n",
      "\u001b[01mcopying extra files... \u001b[39;49;00mdone\n",
      "\u001b[01mdumping search index in English (code: en)... \u001b[39;49;00mdone\n",
      "\u001b[01mdumping object inventory... \u001b[39;49;00mdone\n",
      "\u001b[01mbuild succeeded.\u001b[39;49;00m\n",
      "\n",
      "The HTML pages are in ../html.\n"
     ]
    }
   ],
   "source": [
    "# build documentation\n",
    "!dsco documentation --generate"
   ]
  },
  {
   "cell_type": "code",
   "execution_count": 25,
   "metadata": {
    "ExecuteTime": {
     "end_time": "2020-03-27T15:52:22.632295Z",
     "start_time": "2020-03-27T15:52:16.259246Z"
    }
   },
   "outputs": [
    {
     "name": "stdout",
     "output_type": "stream",
     "text": [
      "docker exec -it $(docker ps --all --filter 'label=com.docker.compose.project=foo' --filter 'label=com.docker.compose.service=dev' --format {{.Names}}) bash -c 'cd /srv/docs/reports/source && make html'\n",
      "\u001b[01mRunning Sphinx v2.4.4\u001b[39;49;00m\n",
      "\u001b[01mbuilding [mo]: \u001b[39;49;00mtargets for 0 po files that are out of date\n",
      "\u001b[01mbuilding [html]: \u001b[39;49;00mtargets for 3 source files that are out of date\n",
      "\u001b[01mupdating environment: \u001b[39;49;00m[new config] 3 added, 0 changed, 0 removed\n",
      "\u001b[01mreading sources... \u001b[39;49;00m[100%] \u001b[35mresources\u001b[39;49;00m                                             \n",
      "\u001b[31;01m/srv/docs/reports/source/reports_template.ipynb:24: WARNING: File not found: '/notebook/notebooks/reports/reports_template.ipynb'\u001b[39;49;00m\n",
      "\u001b[31;01m/srv/docs/reports/source/reports_template.ipynb:24: WARNING: File not found: '/reports/reports_template.html#'\u001b[39;49;00m\n",
      "\u001b[31;01m/srv/docs/reports/source/reports_template.ipynb:41: WARNING: File not found: '/notebook/edit/reports/index.rst'\u001b[39;49;00m\n",
      "\u001b[01mlooking for now-outdated files... \u001b[39;49;00mnone found\n",
      "\u001b[01mpickling environment... \u001b[39;49;00mdone\n",
      "\u001b[01mchecking consistency... \u001b[39;49;00m\u001b[31;01m/srv/docs/reports/source/resources.ipynb: WARNING: document isn't included in any toctree\u001b[39;49;00m\n",
      "done\n",
      "\u001b[01mpreparing documents... \u001b[39;49;00mdone\n",
      "/usr/local/lib/python3.7/site-packages/guzzle_sphinx_theme/guzzle_sphinx_theme/layout.html:200: RemovedInSphinx30Warning: To modify script_files in the theme is deprecated. Please insert a <script> tag directly in your theme instead.\n",
      "/usr/local/lib/python3.7/site-packages/guzzle_sphinx_theme/guzzle_sphinx_theme/layout.html:200: RemovedInSphinx30Warning: To modify script_files in the theme is deprecated. Please insert a <script> tag directly in your theme instead.\n",
      "\u001b[01mwriting output... \u001b[39;49;00m[100%] \u001b[32mresources\u001b[39;49;00m                                              \n",
      "\u001b[01mgenerating indices... \u001b[39;49;00m genindexdone\n",
      "\u001b[01mwriting additional pages... \u001b[39;49;00m searchdone\n",
      "\u001b[01mcopying static files... ... \u001b[39;49;00mdone\n",
      "\u001b[01mcopying extra files... \u001b[39;49;00mdone\n",
      "\u001b[01mdumping search index in English (code: en)... \u001b[39;49;00mdone\n",
      "\u001b[01mdumping object inventory... \u001b[39;49;00mdone\n",
      "\u001b[01mbuild succeeded, 4 warnings.\u001b[39;49;00m\n",
      "\n",
      "The HTML pages are in ../html.\n"
     ]
    }
   ],
   "source": [
    "# build reports\n",
    "!dsco reports --generate"
   ]
  },
  {
   "cell_type": "markdown",
   "metadata": {},
   "source": [
    "Now we should be able to access the starting points of our documentation and reports.\n",
    "\n",
    "Of course, there's just some basic scaffolding in place. To create the documentation \n",
    "write some content in reStructuredText files or jupyter notebooks and add these files \n",
    "to `index.rst` in the `source/` directory.\n",
    "\n",
    "As a simple example:"
   ]
  },
  {
   "cell_type": "code",
   "execution_count": 26,
   "metadata": {
    "ExecuteTime": {
     "end_time": "2020-03-27T15:52:22.641766Z",
     "start_time": "2020-03-27T15:52:22.634422Z"
    }
   },
   "outputs": [
    {
     "name": "stdout",
     "output_type": "stream",
     "text": [
      "Writing docs/reports/source/example.rst\n"
     ]
    }
   ],
   "source": [
    "%%writefile docs/reports/source/example.rst\n",
    "Example\n",
    "=======\n",
    "\n",
    "This is an example .rst file"
   ]
  },
  {
   "cell_type": "code",
   "execution_count": 27,
   "metadata": {
    "ExecuteTime": {
     "end_time": "2020-03-27T15:52:22.649754Z",
     "start_time": "2020-03-27T15:52:22.644202Z"
    }
   },
   "outputs": [
    {
     "name": "stdout",
     "output_type": "stream",
     "text": [
      "Overwriting docs/reports/source/index.rst\n"
     ]
    }
   ],
   "source": [
    "%%writefile docs/reports/source/index.rst\n",
    ".. Template documentation master file, created by\n",
    "   sphinx-quickstart\n",
    "   You can adapt this file completely to your liking, but it should at least\n",
    "   contain the root `toctree` directive.\n",
    "\n",
    "Welcome to foo's documentation!\n",
    "===============================\n",
    "\n",
    ".. toctree::\n",
    "   :maxdepth: 2\n",
    "   :caption: Contents:\n",
    "\n",
    "   reports_template\n",
    "   example\n",
    "\n",
    "\n",
    "Indices and tables\n",
    "==================\n",
    "\n",
    "* :ref:`genindex`\n",
    "* :ref:`modindex`\n",
    "* :ref:`search`\n"
   ]
  },
  {
   "cell_type": "code",
   "execution_count": 28,
   "metadata": {
    "ExecuteTime": {
     "end_time": "2020-03-27T15:52:25.352193Z",
     "start_time": "2020-03-27T15:52:22.652645Z"
    }
   },
   "outputs": [
    {
     "name": "stdout",
     "output_type": "stream",
     "text": [
      "docker exec -it $(docker ps --all --filter 'label=com.docker.compose.project=foo' --filter 'label=com.docker.compose.service=dev' --format {{.Names}}) bash -c 'cd /srv/docs/reports/source && make html'\n",
      "\u001b[01mRunning Sphinx v2.4.4\u001b[39;49;00m\n",
      "\u001b[01mloading pickled environment... \u001b[39;49;00mdone\n",
      "\u001b[01mbuilding [mo]: \u001b[39;49;00mtargets for 0 po files that are out of date\n",
      "\u001b[01mbuilding [html]: \u001b[39;49;00mtargets for 1 source files that are out of date\n",
      "\u001b[01mupdating environment: \u001b[39;49;00m1 added, 1 changed, 0 removed\n",
      "\u001b[01mreading sources... \u001b[39;49;00m[100%] \u001b[35mindex\u001b[39;49;00m                                                 \n",
      "\u001b[01mlooking for now-outdated files... \u001b[39;49;00mnone found\n",
      "\u001b[01mpickling environment... \u001b[39;49;00mdone\n",
      "\u001b[01mchecking consistency... \u001b[39;49;00m\u001b[31;01m/srv/docs/reports/source/resources.ipynb: WARNING: document isn't included in any toctree\u001b[39;49;00m\n",
      "done\n",
      "\u001b[01mpreparing documents... \u001b[39;49;00mdone\n",
      "/usr/local/lib/python3.7/site-packages/guzzle_sphinx_theme/guzzle_sphinx_theme/layout.html:200: RemovedInSphinx30Warning: To modify script_files in the theme is deprecated. Please insert a <script> tag directly in your theme instead.\n",
      "\u001b[01mwriting output... \u001b[39;49;00m[100%] \u001b[32mindex\u001b[39;49;00m                                                  \n",
      "\u001b[01mgenerating indices... \u001b[39;49;00m genindexdone\n",
      "\u001b[01mwriting additional pages... \u001b[39;49;00m searchdone\n",
      "\u001b[01mcopying static files... ... \u001b[39;49;00mdone\n",
      "\u001b[01mcopying extra files... \u001b[39;49;00mdone\n",
      "\u001b[01mdumping search index in English (code: en)... \u001b[39;49;00mdone\n",
      "\u001b[01mdumping object inventory... \u001b[39;49;00mdone\n",
      "\u001b[01mbuild succeeded, 1 warning.\u001b[39;49;00m\n",
      "\n",
      "The HTML pages are in ../html.\n"
     ]
    }
   ],
   "source": [
    "!dsco reports --generate"
   ]
  },
  {
   "cell_type": "markdown",
   "metadata": {},
   "source": [
    "The rendering isn't perfect here, but you can see a link to `Example` \n",
    "under the `Welcome to foo's documentation!` section."
   ]
  },
  {
   "cell_type": "code",
   "execution_count": 29,
   "metadata": {
    "ExecuteTime": {
     "end_time": "2020-03-27T15:52:25.362769Z",
     "start_time": "2020-03-27T15:52:25.354553Z"
    }
   },
   "outputs": [
    {
     "data": {
      "text/html": [
       "\n",
       "<!DOCTYPE html>\n",
       "\n",
       "<html xmlns=\"http://www.w3.org/1999/xhtml\">\n",
       "  <head>\n",
       "    <meta charset=\"utf-8\" />\n",
       "  \n",
       "  <!-- Licensed under the Apache 2.0 License -->\n",
       "  <link rel=\"stylesheet\" type=\"text/css\" href=\"_static/fonts/open-sans/stylesheet.css\" />\n",
       "  <!-- Licensed under the SIL Open Font License -->\n",
       "  <link rel=\"stylesheet\" type=\"text/css\" href=\"_static/fonts/source-serif-pro/source-serif-pro.css\" />\n",
       "  <link rel=\"stylesheet\" type=\"text/css\" href=\"_static/css/bootstrap.min.css\" />\n",
       "  <link rel=\"stylesheet\" type=\"text/css\" href=\"_static/css/bootstrap-theme.min.css\" />\n",
       "  <meta name=\"viewport\" content=\"width=device-width, initial-scale=1.0\">\n",
       "  \n",
       "    <title>Welcome to foo’s documentation! &#8212; foo version 0.1</title>\n",
       "    <link rel=\"stylesheet\" href=\"_static/guzzle.css\" type=\"text/css\" />\n",
       "    <link rel=\"stylesheet\" href=\"_static/pygments.css\" type=\"text/css\" />\n",
       "    <script id=\"documentation_options\" data-url_root=\"./\" src=\"_static/documentation_options.js\"></script>\n",
       "    <script src=\"_static/jquery.js\"></script>\n",
       "    <script src=\"_static/underscore.js\"></script>\n",
       "    <script src=\"_static/doctools.js\"></script>\n",
       "    <script src=\"_static/language_data.js\"></script>\n",
       "    <script src=\"https://cdnjs.cloudflare.com/ajax/libs/require.js/2.1.10/require.min.js\"></script>\n",
       "    <script crossorigin=\"anonymous\" integrity=\"sha256-Ae2Vz/4ePdIu6ZyI/5ZGsYnb+m0JlOmKPjt6XZ9JJkA=\" src=\"https://cdnjs.cloudflare.com/ajax/libs/require.js/2.3.4/require.min.js\"></script>\n",
       "    <link rel=\"index\" title=\"Index\" href=\"genindex.html\" />\n",
       "    <link rel=\"search\" title=\"Search\" href=\"search.html\" />\n",
       "    <link rel=\"next\" title=\"Reports template\" href=\"reports_template.html\" />\n",
       "  \n",
       "   \n",
       "\n",
       "  </head><body>\n",
       "    <div class=\"related\" role=\"navigation\" aria-label=\"related navigation\">\n",
       "      <h3>Navigation</h3>\n",
       "      <ul>\n",
       "        <li class=\"right\" style=\"margin-right: 10px\">\n",
       "          <a href=\"genindex.html\" title=\"General Index\"\n",
       "             accesskey=\"I\">index</a></li>\n",
       "        <li class=\"right\" >\n",
       "          <a href=\"reports_template.html\" title=\"Reports template\"\n",
       "             accesskey=\"N\">next</a> |</li>\n",
       "        <li class=\"nav-item nav-item-0\"><a href=\"#\">foo version 0.1</a> &#187;</li> \n",
       "      </ul>\n",
       "    </div>\n",
       "    <div class=\"container-wrapper\">\n",
       "\n",
       "      <div id=\"mobile-toggle\">\n",
       "        <a href=\"#\"><span class=\"glyphicon glyphicon-align-justify\" aria-hidden=\"true\"></span></a>\n",
       "      </div>\n",
       "  <div id=\"left-column\">\n",
       "    <div class=\"sphinxsidebar\"><a href=\"\n",
       "    #\" class=\"text-logo\">foo</a>\n",
       "<div class=\"sidebar-block\">\n",
       "  <div class=\"sidebar-wrapper\">\n",
       "    <h2>Table Of Contents</h2>\n",
       "  </div>\n",
       "  <div class=\"sidebar-toc\">\n",
       "    \n",
       "    \n",
       "      <p class=\"caption\"><span class=\"caption-text\">Contents:</span></p>\n",
       "<ul>\n",
       "<li class=\"toctree-l1\"><a class=\"reference internal\" href=\"reports_template.html\">Reports template</a></li>\n",
       "<li class=\"toctree-l1\"><a class=\"reference internal\" href=\"example.html\">Example</a></li>\n",
       "</ul>\n",
       "\n",
       "    \n",
       "  </div>\n",
       "</div>\n",
       "<div class=\"sidebar-block\">\n",
       "  <div class=\"sidebar-wrapper\">\n",
       "    <div id=\"main-search\">\n",
       "      <form class=\"form-inline\" action=\"search.html\" method=\"GET\" role=\"form\">\n",
       "        <div class=\"input-group\">\n",
       "          <input name=\"q\" type=\"text\" class=\"form-control\" placeholder=\"Search...\">\n",
       "        </div>\n",
       "        <input type=\"hidden\" name=\"check_keywords\" value=\"yes\" />\n",
       "        <input type=\"hidden\" name=\"area\" value=\"default\" />\n",
       "      </form>\n",
       "    </div>\n",
       "  </div>\n",
       "</div>\n",
       "      \n",
       "    </div>\n",
       "  </div>\n",
       "        <div id=\"right-column\">\n",
       "          \n",
       "          <div role=\"navigation\" aria-label=\"breadcrumbs navigation\">\n",
       "            <ol class=\"breadcrumb\">\n",
       "              <li><a href=\"#\">Docs</a></li>\n",
       "              \n",
       "              <li>Welcome to foo’s documentation!</li>\n",
       "            </ol>\n",
       "          </div>\n",
       "          \n",
       "          <div class=\"document clearer body\">\n",
       "            \n",
       "  <div class=\"section\" id=\"welcome-to-foo-s-documentation\">\n",
       "<h1>Welcome to foo’s documentation!<a class=\"headerlink\" href=\"#welcome-to-foo-s-documentation\" title=\"Permalink to this headline\">¶</a></h1>\n",
       "<div class=\"toctree-wrapper compound\">\n",
       "<p class=\"caption\"><span class=\"caption-text\">Contents:</span></p>\n",
       "<ul>\n",
       "<li class=\"toctree-l1\"><a class=\"reference internal\" href=\"reports_template.html\">Reports template</a><ul>\n",
       "<li class=\"toctree-l2\"><a class=\"reference internal\" href=\"reports_template.html#Overview\">Overview</a></li>\n",
       "<li class=\"toctree-l2\"><a class=\"reference internal\" href=\"reports_template.html#Instructions\">Instructions</a></li>\n",
       "</ul>\n",
       "</li>\n",
       "<li class=\"toctree-l1\"><a class=\"reference internal\" href=\"example.html\">Example</a></li>\n",
       "</ul>\n",
       "</div>\n",
       "</div>\n",
       "<div class=\"section\" id=\"indices-and-tables\">\n",
       "<h1>Indices and tables<a class=\"headerlink\" href=\"#indices-and-tables\" title=\"Permalink to this headline\">¶</a></h1>\n",
       "<ul class=\"simple\">\n",
       "<li><p><a class=\"reference internal\" href=\"genindex.html\"><span class=\"std std-ref\">Index</span></a></p></li>\n",
       "<li><p><a class=\"reference internal\" href=\"py-modindex.html\"><span class=\"std std-ref\">Module Index</span></a></p></li>\n",
       "<li><p><a class=\"reference internal\" href=\"search.html\"><span class=\"std std-ref\">Search Page</span></a></p></li>\n",
       "</ul>\n",
       "</div>\n",
       "\n",
       "\n",
       "          </div>\n",
       "            \n",
       "  <div class=\"footer-relations\">\n",
       "    \n",
       "      <div class=\"pull-right\">\n",
       "        <a class=\"btn btn-default\" href=\"reports_template.html\" title=\"next chapter (use the right arrow)\">Reports template</a>\n",
       "      </div>\n",
       "    </div>\n",
       "    <div class=\"clearer\"></div>\n",
       "  \n",
       "        </div>\n",
       "        <div class=\"clearfix\"></div>\n",
       "    </div>\n",
       "    <div class=\"related\" role=\"navigation\" aria-label=\"related navigation\">\n",
       "      <h3>Navigation</h3>\n",
       "      <ul>\n",
       "        <li class=\"right\" style=\"margin-right: 10px\">\n",
       "          <a href=\"genindex.html\" title=\"General Index\"\n",
       "             >index</a></li>\n",
       "        <li class=\"right\" >\n",
       "          <a href=\"reports_template.html\" title=\"Reports template\"\n",
       "             >next</a> |</li>\n",
       "        <li class=\"nav-item nav-item-0\"><a href=\"#\">foo version 0.1</a> &#187;</li> \n",
       "      </ul>\n",
       "    </div>\n",
       "<script type=\"text/javascript\">\n",
       "  $(\"#mobile-toggle a\").click(function () {\n",
       "    $(\"#left-column\").toggle();\n",
       "  });\n",
       "</script>\n",
       "<script type=\"text/javascript\" src=\"_static/js/bootstrap.js\"></script>\n",
       "  <div class=\"footer\">\n",
       "    &copy; Copyright 2020, Discovery. Created using <a href=\"http://sphinx.pocoo.org/\">Sphinx</a>.\n",
       "  </div>\n",
       "  </body>\n",
       "</html>"
      ],
      "text/plain": [
       "<IPython.core.display.HTML object>"
      ]
     },
     "metadata": {},
     "output_type": "display_data"
    }
   ],
   "source": [
    "display(HTML(\"docs/reports/html/index.html\"))"
   ]
  },
  {
   "cell_type": "markdown",
   "metadata": {},
   "source": [
    "And another imperfect rendering of the `Example` page we created."
   ]
  },
  {
   "cell_type": "code",
   "execution_count": 30,
   "metadata": {
    "ExecuteTime": {
     "end_time": "2020-03-27T15:52:25.374222Z",
     "start_time": "2020-03-27T15:52:25.365549Z"
    }
   },
   "outputs": [
    {
     "data": {
      "text/html": [
       "\n",
       "<!DOCTYPE html>\n",
       "\n",
       "<html xmlns=\"http://www.w3.org/1999/xhtml\">\n",
       "  <head>\n",
       "    <meta charset=\"utf-8\" />\n",
       "  \n",
       "  <!-- Licensed under the Apache 2.0 License -->\n",
       "  <link rel=\"stylesheet\" type=\"text/css\" href=\"_static/fonts/open-sans/stylesheet.css\" />\n",
       "  <!-- Licensed under the SIL Open Font License -->\n",
       "  <link rel=\"stylesheet\" type=\"text/css\" href=\"_static/fonts/source-serif-pro/source-serif-pro.css\" />\n",
       "  <link rel=\"stylesheet\" type=\"text/css\" href=\"_static/css/bootstrap.min.css\" />\n",
       "  <link rel=\"stylesheet\" type=\"text/css\" href=\"_static/css/bootstrap-theme.min.css\" />\n",
       "  <meta name=\"viewport\" content=\"width=device-width, initial-scale=1.0\">\n",
       "  \n",
       "    <title>Example &#8212; foo version 0.1</title>\n",
       "    <link rel=\"stylesheet\" href=\"_static/guzzle.css\" type=\"text/css\" />\n",
       "    <link rel=\"stylesheet\" href=\"_static/pygments.css\" type=\"text/css\" />\n",
       "    <script id=\"documentation_options\" data-url_root=\"./\" src=\"_static/documentation_options.js\"></script>\n",
       "    <script src=\"_static/jquery.js\"></script>\n",
       "    <script src=\"_static/underscore.js\"></script>\n",
       "    <script src=\"_static/doctools.js\"></script>\n",
       "    <script src=\"_static/language_data.js\"></script>\n",
       "    <script src=\"https://cdnjs.cloudflare.com/ajax/libs/require.js/2.1.10/require.min.js\"></script>\n",
       "    <script crossorigin=\"anonymous\" integrity=\"sha256-Ae2Vz/4ePdIu6ZyI/5ZGsYnb+m0JlOmKPjt6XZ9JJkA=\" src=\"https://cdnjs.cloudflare.com/ajax/libs/require.js/2.3.4/require.min.js\"></script>\n",
       "    <link rel=\"index\" title=\"Index\" href=\"genindex.html\" />\n",
       "    <link rel=\"search\" title=\"Search\" href=\"search.html\" />\n",
       "    <link rel=\"prev\" title=\"Reports template\" href=\"reports_template.html\" />\n",
       "  \n",
       "   \n",
       "\n",
       "  </head><body>\n",
       "    <div class=\"related\" role=\"navigation\" aria-label=\"related navigation\">\n",
       "      <h3>Navigation</h3>\n",
       "      <ul>\n",
       "        <li class=\"right\" style=\"margin-right: 10px\">\n",
       "          <a href=\"genindex.html\" title=\"General Index\"\n",
       "             accesskey=\"I\">index</a></li>\n",
       "        <li class=\"right\" >\n",
       "          <a href=\"reports_template.html\" title=\"Reports template\"\n",
       "             accesskey=\"P\">previous</a> |</li>\n",
       "        <li class=\"nav-item nav-item-0\"><a href=\"index.html\">foo version 0.1</a> &#187;</li> \n",
       "      </ul>\n",
       "    </div>\n",
       "    <div class=\"container-wrapper\">\n",
       "\n",
       "      <div id=\"mobile-toggle\">\n",
       "        <a href=\"#\"><span class=\"glyphicon glyphicon-align-justify\" aria-hidden=\"true\"></span></a>\n",
       "      </div>\n",
       "  <div id=\"left-column\">\n",
       "    <div class=\"sphinxsidebar\"><a href=\"\n",
       "    index.html\" class=\"text-logo\">foo</a>\n",
       "<div class=\"sidebar-block\">\n",
       "  <div class=\"sidebar-wrapper\">\n",
       "    <h2>Table Of Contents</h2>\n",
       "  </div>\n",
       "  <div class=\"sidebar-toc\">\n",
       "    \n",
       "    \n",
       "      <p class=\"caption\"><span class=\"caption-text\">Contents:</span></p>\n",
       "<ul class=\"current\">\n",
       "<li class=\"toctree-l1\"><a class=\"reference internal\" href=\"reports_template.html\">Reports template</a></li>\n",
       "<li class=\"toctree-l1 current\"><a class=\"current reference internal\" href=\"#\">Example</a></li>\n",
       "</ul>\n",
       "\n",
       "    \n",
       "  </div>\n",
       "</div>\n",
       "<div class=\"sidebar-block\">\n",
       "  <div class=\"sidebar-wrapper\">\n",
       "    <div id=\"main-search\">\n",
       "      <form class=\"form-inline\" action=\"search.html\" method=\"GET\" role=\"form\">\n",
       "        <div class=\"input-group\">\n",
       "          <input name=\"q\" type=\"text\" class=\"form-control\" placeholder=\"Search...\">\n",
       "        </div>\n",
       "        <input type=\"hidden\" name=\"check_keywords\" value=\"yes\" />\n",
       "        <input type=\"hidden\" name=\"area\" value=\"default\" />\n",
       "      </form>\n",
       "    </div>\n",
       "  </div>\n",
       "</div>\n",
       "      \n",
       "    </div>\n",
       "  </div>\n",
       "        <div id=\"right-column\">\n",
       "          \n",
       "          <div role=\"navigation\" aria-label=\"breadcrumbs navigation\">\n",
       "            <ol class=\"breadcrumb\">\n",
       "              <li><a href=\"index.html\">Docs</a></li>\n",
       "              \n",
       "              <li>Example</li>\n",
       "            </ol>\n",
       "          </div>\n",
       "          \n",
       "          <div class=\"document clearer body\">\n",
       "            \n",
       "  <div class=\"section\" id=\"example\">\n",
       "<h1>Example<a class=\"headerlink\" href=\"#example\" title=\"Permalink to this headline\">¶</a></h1>\n",
       "<p>This is an example .rst file</p>\n",
       "</div>\n",
       "\n",
       "\n",
       "          </div>\n",
       "            \n",
       "  <div class=\"footer-relations\">\n",
       "    \n",
       "      <div class=\"pull-left\">\n",
       "        <a class=\"btn btn-default\" href=\"reports_template.html\" title=\"previous chapter (use the left arrow)\">Reports template</a>\n",
       "      </div>\n",
       "    \n",
       "    </div>\n",
       "    <div class=\"clearer\"></div>\n",
       "  \n",
       "        </div>\n",
       "        <div class=\"clearfix\"></div>\n",
       "    </div>\n",
       "    <div class=\"related\" role=\"navigation\" aria-label=\"related navigation\">\n",
       "      <h3>Navigation</h3>\n",
       "      <ul>\n",
       "        <li class=\"right\" style=\"margin-right: 10px\">\n",
       "          <a href=\"genindex.html\" title=\"General Index\"\n",
       "             >index</a></li>\n",
       "        <li class=\"right\" >\n",
       "          <a href=\"reports_template.html\" title=\"Reports template\"\n",
       "             >previous</a> |</li>\n",
       "        <li class=\"nav-item nav-item-0\"><a href=\"index.html\">foo version 0.1</a> &#187;</li> \n",
       "      </ul>\n",
       "    </div>\n",
       "<script type=\"text/javascript\">\n",
       "  $(\"#mobile-toggle a\").click(function () {\n",
       "    $(\"#left-column\").toggle();\n",
       "  });\n",
       "</script>\n",
       "<script type=\"text/javascript\" src=\"_static/js/bootstrap.js\"></script>\n",
       "  <div class=\"footer\">\n",
       "    &copy; Copyright 2020, Discovery. Created using <a href=\"http://sphinx.pocoo.org/\">Sphinx</a>.\n",
       "  </div>\n",
       "  </body>\n",
       "</html>"
      ],
      "text/plain": [
       "<IPython.core.display.HTML object>"
      ]
     },
     "metadata": {},
     "output_type": "display_data"
    }
   ],
   "source": [
    "display(HTML(\"docs/reports/html/example.html\"))"
   ]
  },
  {
   "cell_type": "markdown",
   "metadata": {},
   "source": [
    "## --ls"
   ]
  },
  {
   "cell_type": "code",
   "execution_count": 31,
   "metadata": {
    "ExecuteTime": {
     "end_time": "2020-03-27T15:52:25.975492Z",
     "start_time": "2020-03-27T15:52:25.376957Z"
    }
   },
   "outputs": [
    {
     "name": "stdout",
     "output_type": "stream",
     "text": [
      "usage: dsco ls [-h] [-r]\r\n",
      "\r\n",
      "optional arguments:\r\n",
      "  -h, --help    show this help message and exit\r\n",
      "  -r, --remote  list remote containers using docker over ssh\r\n"
     ]
    }
   ],
   "source": [
    "!dsco ls --help"
   ]
  },
  {
   "cell_type": "markdown",
   "metadata": {},
   "source": [
    "We've already been using `dsco ls` to see the containers and images that \n",
    "are present on our local machine.\n",
    "\n",
    "We can also use `dsco ls -r` to see containers we have running on remote \n",
    "machines. This leverages docker's ability to run docker commands over \n",
    "ssh by setting the `DOCKER_HOST` environment variable.\n",
    "\n",
    "For this to work, you need to have keyless ssh set up to your remote host, \n",
    "and then create a `$HOME/.dsco/settings.json` file that contains \n",
    "the following:"
   ]
  },
  {
   "cell_type": "markdown",
   "metadata": {
    "ExecuteTime": {
     "end_time": "2020-03-26T00:32:06.251800Z",
     "start_time": "2020-03-26T00:32:06.245768Z"
    }
   },
   "source": [
    "```\n",
    "{\n",
    "    \"remote\": [\n",
    "        {\n",
    "            \"name\": \"my_name_for_my_machine\",\n",
    "            \"properties\": {\n",
    "                \"ip\": \"fully_qualified_domain_name\"\n",
    "            },\n",
    "            \"env\": {\n",
    "                \"DOCKER_HOST\": \"ssh://user@fqdn\"\n",
    "            }\n",
    "        },\n",
    "        {\n",
    "            \"name\": \"my_name_for_my_machine2\",\n",
    "            \"properties\": {\n",
    "                \"ip\": \"fully_qualified_domain_name\"\n",
    "            },\n",
    "            \"env\": {\n",
    "                \"DOCKER_HOST\": \"ssh://user@fqdn\"\n",
    "            }\n",
    "        }\n",
    "    ]\n",
    "}\n",
    "```"
   ]
  },
  {
   "cell_type": "code",
   "execution_count": 32,
   "metadata": {
    "ExecuteTime": {
     "end_time": "2020-03-27T15:52:26.971525Z",
     "start_time": "2020-03-27T15:52:25.977795Z"
    }
   },
   "outputs": [
    {
     "name": "stdout",
     "output_type": "stream",
     "text": [
      "\u001b[7mlocalhost                                                                                                                             \u001b[0m\r\n",
      "\u001b[4mNAME                              LINK                                       ID               STATUS                        SIZE      \u001b[0m\r\n",
      "foo_dev:latest                                                               881efba8cbb3     25 seconds ago                1.75GB    \r\n",
      "\u001b[94m    foo_dev_1                     http://localhost:8001                      591858ba06da     Up 16 seconds                           \u001b[0m\r\n"
     ]
    }
   ],
   "source": [
    "# grep is just filtering the content. Generally just use 'dsco ls'\n",
    "!dsco ls | egrep 'localhost|foo|NAME'"
   ]
  },
  {
   "cell_type": "markdown",
   "metadata": {},
   "source": [
    "## --shell"
   ]
  },
  {
   "cell_type": "code",
   "execution_count": 33,
   "metadata": {
    "ExecuteTime": {
     "end_time": "2020-03-27T15:52:27.464424Z",
     "start_time": "2020-03-27T15:52:26.973324Z"
    }
   },
   "outputs": [
    {
     "name": "stdout",
     "output_type": "stream",
     "text": [
      "usage: dsco shell [-h] [--dev] [--prod] [--debug]\r\n",
      "\r\n",
      "optional arguments:\r\n",
      "  -h, --help  show this help message and exit\r\n",
      "  --dev       attach to dev\r\n",
      "  --prod      attach to prod\r\n",
      "  --debug     attach to debug\r\n"
     ]
    }
   ],
   "source": [
    "!dsco shell --help"
   ]
  },
  {
   "cell_type": "markdown",
   "metadata": {},
   "source": [
    "Use the `dsco shell` command to open a bash shell inside your container.\n",
    "\n",
    "This is the preferred way to work with your project dependencies."
   ]
  },
  {
   "cell_type": "markdown",
   "metadata": {},
   "source": [
    "## --code"
   ]
  },
  {
   "cell_type": "code",
   "execution_count": 34,
   "metadata": {
    "ExecuteTime": {
     "end_time": "2020-03-27T15:52:27.947858Z",
     "start_time": "2020-03-27T15:52:27.466630Z"
    }
   },
   "outputs": [
    {
     "name": "stdout",
     "output_type": "stream",
     "text": [
      "usage: dsco code [-h] [-r REMOTE]\r\n",
      "\r\n",
      "optional arguments:\r\n",
      "  -h, --help            show this help message and exit\r\n",
      "  -r REMOTE, --remote REMOTE\r\n",
      "                        connect to a container with docker-machine\r\n"
     ]
    }
   ],
   "source": [
    "!dsco code --help"
   ]
  },
  {
   "cell_type": "markdown",
   "metadata": {},
   "source": [
    "Use `dsco code` to launch a session of Microsoft's vscode IDE. After you \n",
    "install the `Remote Development Extension`, you can use the \n",
    "`Remote Explorer` to attach to running containers. Open up the `/srv` \n",
    "directory and enjoy a \"local-like\" development experience."
   ]
  },
  {
   "cell_type": "markdown",
   "metadata": {},
   "source": [
    "Even more amazing is the ability to attach to containers running on \n",
    "remote machines. If you have remote machines set up as described in the \n",
    "`--ls` section, you can simple type `dsco code -r my_name_for_my_machine`.\n",
    "When vscode opens you can use `Remote Explorer` to attach to the listed \n",
    "containers, but this time you will see the containers running on the \n",
    "remote machine. Super Cool!!!\n",
    "\n",
    "You can read more about using vscode with containers \n",
    "here: https://code.visualstudio.com/docs/remote/containers."
   ]
  },
  {
   "cell_type": "markdown",
   "metadata": {},
   "source": [
    "## --restart"
   ]
  },
  {
   "cell_type": "code",
   "execution_count": 35,
   "metadata": {
    "ExecuteTime": {
     "end_time": "2020-03-27T15:52:28.406553Z",
     "start_time": "2020-03-27T15:52:27.950178Z"
    }
   },
   "outputs": [
    {
     "name": "stdout",
     "output_type": "stream",
     "text": [
      "usage: dsco restart [-h] [--flask] [--nginx]\r\n",
      "\r\n",
      "optional arguments:\r\n",
      "  -h, --help  show this help message and exit\r\n",
      "  --flask     restart flask\r\n",
      "  --nginx     restart nginx\r\n"
     ]
    }
   ],
   "source": [
    "!dsco restart --help"
   ]
  },
  {
   "cell_type": "markdown",
   "metadata": {},
   "source": [
    "When you're working on creating your Dash dashboard, you will need to \n",
    "restart flask to see the changes you made. `dsco restart` is an easy \n",
    "way to do this. Without options it will restart both `nginx` and `flask`. \n",
    "Use the flags to be more specific."
   ]
  },
  {
   "cell_type": "code",
   "execution_count": 36,
   "metadata": {
    "ExecuteTime": {
     "end_time": "2020-03-27T15:52:32.759630Z",
     "start_time": "2020-03-27T15:52:28.412786Z"
    }
   },
   "outputs": [
    {
     "name": "stdout",
     "output_type": "stream",
     "text": [
      "docker exec -it $(docker ps --all --filter 'label=com.docker.compose.project=foo' --filter 'label=com.docker.compose.service=dev' --format {{.Names}}) bash -c \"service nginx restart\"\n",
      "[....] Restarting nginx: nginx\u001b[?25l\u001b7\u001b[1G[\u001b[32m ok \u001b[39;49m\u001b8\u001b[?12l\u001b[?25h.\n",
      "docker exec -it $(docker ps --all --filter 'label=com.docker.compose.project=foo' --filter 'label=com.docker.compose.service=dev' --format {{.Names}}) bash -c \"supervisorctl restart uwsgi && supervisorctl status\"\n",
      "uwsgi: stopped\n",
      "uwsgi: started\n",
      "jupyter                          RUNNING   pid 56, uptime 0:00:21\n",
      "uwsgi                            RUNNING   pid 446, uptime 0:00:01\n"
     ]
    }
   ],
   "source": [
    "!dsco restart"
   ]
  },
  {
   "cell_type": "markdown",
   "metadata": {},
   "source": [
    "## --update_port"
   ]
  },
  {
   "cell_type": "code",
   "execution_count": 37,
   "metadata": {
    "ExecuteTime": {
     "end_time": "2020-03-27T15:52:33.227077Z",
     "start_time": "2020-03-27T15:52:32.762903Z"
    }
   },
   "outputs": [
    {
     "name": "stdout",
     "output_type": "stream",
     "text": [
      "usage: dsco update_port [-h] [--dev DEV] [--prod PROD] [--debug DEBUG]\r\n",
      "                        [base_port]\r\n",
      "\r\n",
      "positional arguments:\r\n",
      "  base_port      update ports dev: base_port, prod: base_port+1000, debug:\r\n",
      "                 base_port-500\r\n",
      "\r\n",
      "optional arguments:\r\n",
      "  -h, --help     show this help message and exit\r\n",
      "  --dev DEV      update dev port, overwrites base_port\r\n",
      "  --prod PROD    update prod port, overwrites base_port\r\n",
      "  --debug DEBUG  update debug port, overwrites base_port\r\n"
     ]
    }
   ],
   "source": [
    "!dsco update_port --help"
   ]
  },
  {
   "cell_type": "markdown",
   "metadata": {},
   "source": [
    "When you set up your project, you were prompted for a port number. By \n",
    "default, this is the port of the `dev` container. The `prod` container \n",
    "is assigned `port + 1000` and the `debug` container is assigned `port - 500`.\n",
    "\n",
    "If you're running multiple containers on the same machine, they all need \n",
    "to be on different ports. To change the port you can use `dsco update_port`\n",
    "\n",
    "If you enter `dsco update_port 8001`: you will get the default behavior \n",
    "described above. If you want to override this behavior, simply add the \n",
    "appropriate flag and specify the desired port.\n",
    "\n",
    "For example:\n",
    "```\n",
    "    dsco update_port 8001 --prod 8501\n",
    "        dev = 8001\n",
    "        prod = 8501\n",
    "        debug = 7501\n",
    "        \n",
    "    dsco update_port --debug 7600\n",
    "        dev = unchanged\n",
    "        prod = unchanged\n",
    "        debug = 7600\n",
    "```"
   ]
  },
  {
   "cell_type": "markdown",
   "metadata": {},
   "source": [
    "Once you've changed the port you will need to run `dsco up` make the \n",
    "changes take effect."
   ]
  },
  {
   "cell_type": "markdown",
   "metadata": {},
   "source": [
    "Note the port is 8001."
   ]
  },
  {
   "cell_type": "code",
   "execution_count": 38,
   "metadata": {
    "ExecuteTime": {
     "end_time": "2020-03-27T15:52:34.148471Z",
     "start_time": "2020-03-27T15:52:33.230570Z"
    }
   },
   "outputs": [
    {
     "name": "stdout",
     "output_type": "stream",
     "text": [
      "\u001b[7mlocalhost                                                                                                                             \u001b[0m\r\n",
      "\u001b[4mNAME                              LINK                                       ID               STATUS                        SIZE      \u001b[0m\r\n",
      "foo_dev:latest                                                               881efba8cbb3     32 seconds ago                1.75GB    \r\n",
      "\u001b[94m    foo_dev_1                     http://localhost:8001                      591858ba06da     Up 24 seconds                           \u001b[0m\r\n"
     ]
    }
   ],
   "source": [
    "# grep is just filtering the content. Generally just use 'dsco ls'\n",
    "!dsco ls | egrep 'localhost|foo|NAME'"
   ]
  },
  {
   "cell_type": "code",
   "execution_count": 39,
   "metadata": {
    "ExecuteTime": {
     "end_time": "2020-03-27T15:52:34.623441Z",
     "start_time": "2020-03-27T15:52:34.151943Z"
    }
   },
   "outputs": [],
   "source": [
    "!dsco update_port 8023"
   ]
  },
  {
   "cell_type": "markdown",
   "metadata": {},
   "source": [
    "Still 8001, we need to restart it."
   ]
  },
  {
   "cell_type": "code",
   "execution_count": 40,
   "metadata": {
    "ExecuteTime": {
     "end_time": "2020-03-27T15:52:35.513163Z",
     "start_time": "2020-03-27T15:52:34.627017Z"
    }
   },
   "outputs": [
    {
     "name": "stdout",
     "output_type": "stream",
     "text": [
      "\u001b[7mlocalhost                                                                                                                             \u001b[0m\r\n",
      "\u001b[4mNAME                              LINK                                       ID               STATUS                        SIZE      \u001b[0m\r\n",
      "foo_dev:latest                                                               881efba8cbb3     34 seconds ago                1.75GB    \r\n",
      "\u001b[94m    foo_dev_1                     http://localhost:8001                      591858ba06da     Up 25 seconds                           \u001b[0m\r\n"
     ]
    }
   ],
   "source": [
    "# grep is just filtering the content. Generally just use 'dsco ls'\n",
    "!dsco ls | egrep 'localhost|foo|NAME'"
   ]
  },
  {
   "cell_type": "code",
   "execution_count": 41,
   "metadata": {
    "ExecuteTime": {
     "end_time": "2020-03-27T15:52:37.652433Z",
     "start_time": "2020-03-27T15:52:35.516858Z"
    }
   },
   "outputs": [
    {
     "name": "stdout",
     "output_type": "stream",
     "text": [
      "docker-compose up -d dev\n",
      "Recreating foo_dev_1 ... \n",
      "\u001b[1Beating foo_dev_1 ... \u001b[32mdone\u001b[0m\n",
      "========================================================================================\n",
      "up execution time: 1.6713709831237793 seconds\n",
      "========================================================================================\n"
     ]
    }
   ],
   "source": [
    "!dsco up"
   ]
  },
  {
   "cell_type": "markdown",
   "metadata": {},
   "source": [
    "Now we see it has updated."
   ]
  },
  {
   "cell_type": "code",
   "execution_count": 42,
   "metadata": {
    "ExecuteTime": {
     "end_time": "2020-03-27T15:52:38.567521Z",
     "start_time": "2020-03-27T15:52:37.654959Z"
    }
   },
   "outputs": [
    {
     "name": "stdout",
     "output_type": "stream",
     "text": [
      "\u001b[7mlocalhost                                                                                                                             \u001b[0m\r\n",
      "\u001b[4mNAME                              LINK                                       ID               STATUS                        SIZE      \u001b[0m\r\n",
      "foo_dev:latest                                                               881efba8cbb3     37 seconds ago                1.75GB    \r\n",
      "\u001b[94m    foo_dev_1                     http://localhost:8023                      6ccb824c7cf9     Up Less than a second                   \u001b[0m\r\n"
     ]
    }
   ],
   "source": [
    "# grep is just filtering the content. Generally just use 'dsco ls'\n",
    "!dsco ls | egrep 'localhost|foo|NAME'"
   ]
  },
  {
   "cell_type": "markdown",
   "metadata": {},
   "source": [
    "Put it back."
   ]
  },
  {
   "cell_type": "code",
   "execution_count": 43,
   "metadata": {
    "ExecuteTime": {
     "end_time": "2020-03-27T15:52:39.023072Z",
     "start_time": "2020-03-27T15:52:38.569747Z"
    }
   },
   "outputs": [],
   "source": [
    "!dsco update_port 8001"
   ]
  },
  {
   "cell_type": "code",
   "execution_count": 44,
   "metadata": {
    "ExecuteTime": {
     "end_time": "2020-03-27T15:52:41.127260Z",
     "start_time": "2020-03-27T15:52:39.025741Z"
    }
   },
   "outputs": [
    {
     "name": "stdout",
     "output_type": "stream",
     "text": [
      "docker-compose up -d dev\n",
      "Recreating foo_dev_1 ... \n",
      "\u001b[1Beating foo_dev_1 ... \u001b[32mdone\u001b[0m\n",
      "========================================================================================\n",
      "up execution time: 1.6443562507629395 seconds\n",
      "========================================================================================\n"
     ]
    }
   ],
   "source": [
    "!dsco up"
   ]
  },
  {
   "cell_type": "code",
   "execution_count": 45,
   "metadata": {
    "ExecuteTime": {
     "end_time": "2020-03-27T15:52:42.018610Z",
     "start_time": "2020-03-27T15:52:41.130355Z"
    }
   },
   "outputs": [
    {
     "name": "stdout",
     "output_type": "stream",
     "text": [
      "\u001b[7mlocalhost                                                                                                                             \u001b[0m\r\n",
      "\u001b[4mNAME                              LINK                                       ID               STATUS                        SIZE      \u001b[0m\r\n",
      "foo_dev:latest                                                               881efba8cbb3     40 seconds ago                1.75GB    \r\n",
      "\u001b[94m    foo_dev_1                     http://localhost:8001                      e266fa9944c7     Up Less than a second                   \u001b[0m\r\n"
     ]
    }
   ],
   "source": [
    "# grep is just filtering the content. Generally just use 'dsco ls'\n",
    "!dsco ls | egrep 'localhost|foo|NAME'"
   ]
  },
  {
   "cell_type": "markdown",
   "metadata": {},
   "source": [
    "## --rm"
   ]
  },
  {
   "cell_type": "code",
   "execution_count": 46,
   "metadata": {
    "ExecuteTime": {
     "end_time": "2020-03-27T15:52:42.467920Z",
     "start_time": "2020-03-27T15:52:42.020618Z"
    }
   },
   "outputs": [
    {
     "name": "stdout",
     "output_type": "stream",
     "text": [
      "usage: dsco rm [-h] [--dev] [--prod] [--debug] [--all]\r\n",
      "\r\n",
      "optional arguments:\r\n",
      "  -h, --help  show this help message and exit\r\n",
      "  --dev       remove dev\r\n",
      "  --prod      remove prod\r\n",
      "  --debug     remove debug\r\n",
      "  --all       remove dev, prod, and debug\r\n"
     ]
    }
   ],
   "source": [
    "!dsco rm --help"
   ]
  },
  {
   "cell_type": "markdown",
   "metadata": {},
   "source": [
    "`dsco rm` will by default remove the `dev` container.  \n",
    "Add the appropriate flag to modify this behavior.  "
   ]
  },
  {
   "cell_type": "code",
   "execution_count": 47,
   "metadata": {
    "ExecuteTime": {
     "end_time": "2020-03-27T15:52:43.238972Z",
     "start_time": "2020-03-27T15:52:42.471287Z"
    }
   },
   "outputs": [
    {
     "name": "stdout",
     "output_type": "stream",
     "text": [
      "docker rm -f $(docker ps --all --filter 'label=com.docker.compose.project=foo' --filter 'label=com.docker.compose.service=dev' --format {{.Names}})\n",
      "foo_dev_1\n"
     ]
    }
   ],
   "source": [
    "!dsco rm"
   ]
  },
  {
   "cell_type": "code",
   "execution_count": 48,
   "metadata": {
    "ExecuteTime": {
     "end_time": "2020-03-27T15:52:44.068055Z",
     "start_time": "2020-03-27T15:52:43.242284Z"
    }
   },
   "outputs": [
    {
     "name": "stdout",
     "output_type": "stream",
     "text": [
      "\u001b[7mlocalhost                                                                                                                             \u001b[0m\r\n",
      "\u001b[4mNAME                              LINK                                       ID               STATUS                        SIZE      \u001b[0m\r\n",
      "foo_dev:latest                                                               881efba8cbb3     42 seconds ago                1.75GB    \r\n"
     ]
    }
   ],
   "source": [
    "# grep is just filtering the content. Generally just use 'dsco ls'\n",
    "!dsco ls | egrep 'localhost|foo|NAME'"
   ]
  },
  {
   "cell_type": "markdown",
   "metadata": {},
   "source": [
    "## --rmi"
   ]
  },
  {
   "cell_type": "code",
   "execution_count": 49,
   "metadata": {
    "ExecuteTime": {
     "end_time": "2020-03-27T15:52:44.532183Z",
     "start_time": "2020-03-27T15:52:44.070597Z"
    }
   },
   "outputs": [
    {
     "name": "stdout",
     "output_type": "stream",
     "text": [
      "usage: dsco rmi [-h] [--dev] [--prod] [--debug] [--all] [--force]\r\n",
      "\r\n",
      "optional arguments:\r\n",
      "  -h, --help  show this help message and exit\r\n",
      "  --dev       remove dev\r\n",
      "  --prod      remove prod\r\n",
      "  --debug     remove debug\r\n",
      "  --all       remove dev, prod, and debug\r\n",
      "  --force     remove corresponding containers\r\n"
     ]
    }
   ],
   "source": [
    "!dsco rmi --help"
   ]
  },
  {
   "cell_type": "markdown",
   "metadata": {},
   "source": [
    "`dsco rmi` will by default remove the `dev` image.  \n",
    "Add the appropriate flag to modify this behavior.  \n",
    "\n",
    "`dsco rmi` will fail is there is a container running that is based \n",
    "on the image you are trying to delete."
   ]
  },
  {
   "cell_type": "code",
   "execution_count": 50,
   "metadata": {
    "ExecuteTime": {
     "end_time": "2020-03-27T15:52:47.174298Z",
     "start_time": "2020-03-27T15:52:44.534568Z"
    }
   },
   "outputs": [
    {
     "name": "stdout",
     "output_type": "stream",
     "text": [
      "docker-compose up -d dev\n",
      "Creating foo_dev_1 ... \n",
      "\u001b[1Bting foo_dev_1 ... \u001b[32mdone\u001b[0m\n",
      "========================================================================================\n",
      "up execution time: 1.297410011291504 seconds\n",
      "========================================================================================\n",
      "\u001b[7mlocalhost                                                                                                                             \u001b[0m\n",
      "\u001b[4mNAME                              LINK                                       ID               STATUS                        SIZE      \u001b[0m\n",
      "foo_dev:latest                                                               881efba8cbb3     45 seconds ago                1.75GB    \n",
      "\u001b[94m    foo_dev_1                     http://localhost:8001                      71cb8ff45a4e     Up Less than a second                   \u001b[0m\n"
     ]
    }
   ],
   "source": [
    "!dsco up\n",
    "# grep is just filtering the content. Generally just use 'dsco ls'\n",
    "!dsco ls | egrep 'localhost|foo|NAME'"
   ]
  },
  {
   "cell_type": "code",
   "execution_count": 51,
   "metadata": {
    "ExecuteTime": {
     "end_time": "2020-03-27T15:52:47.707396Z",
     "start_time": "2020-03-27T15:52:47.176788Z"
    }
   },
   "outputs": [
    {
     "name": "stdout",
     "output_type": "stream",
     "text": [
      "docker rmi  foo_dev\n",
      "Error response from daemon: conflict: unable to remove repository reference \"foo_dev\" (must force) - container 71cb8ff45a4e is using its referenced image 881efba8cbb3\n"
     ]
    }
   ],
   "source": [
    "!dsco rmi"
   ]
  },
  {
   "cell_type": "markdown",
   "metadata": {},
   "source": [
    "You can force the removal of both with the `--force` flag."
   ]
  },
  {
   "cell_type": "code",
   "execution_count": 52,
   "metadata": {
    "ExecuteTime": {
     "end_time": "2020-03-27T15:52:50.199220Z",
     "start_time": "2020-03-27T15:52:47.709702Z"
    }
   },
   "outputs": [
    {
     "name": "stdout",
     "output_type": "stream",
     "text": [
      "docker rm -f $(docker ps --all --filter 'label=com.docker.compose.project=foo' --filter 'label=com.docker.compose.service=dev' --format {{.Names}})\n",
      "foo_dev_1\n",
      "docker rm -f $(docker ps --all --filter 'label=com.docker.compose.project=foo' --filter 'label=com.docker.compose.service=prod' --format {{.Names}})\n",
      "\"docker rm\" requires at least 1 argument.\n",
      "See 'docker rm --help'.\n",
      "\n",
      "Usage:  docker rm [OPTIONS] CONTAINER [CONTAINER...]\n",
      "\n",
      "Remove one or more containers\n",
      "docker rm -f $(docker ps --all --filter 'label=com.docker.compose.project=foo' --filter 'label=com.docker.compose.service=debug' --format {{.Names}})\n",
      "\"docker rm\" requires at least 1 argument.\n",
      "See 'docker rm --help'.\n",
      "\n",
      "Usage:  docker rm [OPTIONS] CONTAINER [CONTAINER...]\n",
      "\n",
      "Remove one or more containers\n",
      "docker rmi --force foo_dev\n",
      "Untagged: foo_dev:latest\n",
      "Deleted: sha256:881efba8cbb309ac440aa19d1897bac2d45da338a2058263659deae2fdb79969\n",
      "Deleted: sha256:10b203751251eba5827454031a24170918d487a4abd0a064ee887881295cdcd6\n",
      "Deleted: sha256:5ebffafa2085339cb1362fd74950805f059d9b8ac210db84799417d43210583d\n",
      "Deleted: sha256:0d0997f87dd086a98ae5b65111b80e21101a209f846f13be2f35c9e7e5ba1342\n",
      "Deleted: sha256:080ee5a933be553f3f0f13528e1a14cd87d94900564f03106bc841189ef937b9\n",
      "Deleted: sha256:54a2868080c30299e6afdc583b6f912346787839fd3ef8264fd636536cc6bc4a\n",
      "Deleted: sha256:218704534db2f9964bc3183fb8044afa45a17a5d2c60e1eac770d66bbbc91fc4\n",
      "Deleted: sha256:ca403a3be7289870c52f39d6eb2694c1a98fe9821b653e5f04d39f015c39b413\n",
      "Deleted: sha256:0b57602ea2d3ef35d86704ffac55602d7c3af7d0b2fcf75fe2f430bf3605dcd9\n",
      "docker rmi --force foo_prod\n",
      "Error: No such image: foo_prod\n",
      "docker rmi --force foo_debug\n",
      "Error: No such image: foo_debug\n"
     ]
    }
   ],
   "source": [
    "!dsco rmi --all --force"
   ]
  },
  {
   "cell_type": "code",
   "execution_count": 53,
   "metadata": {
    "ExecuteTime": {
     "end_time": "2020-03-27T15:52:51.040484Z",
     "start_time": "2020-03-27T15:52:50.202594Z"
    }
   },
   "outputs": [
    {
     "name": "stdout",
     "output_type": "stream",
     "text": [
      "\u001b[7mlocalhost                                                                                                                             \u001b[0m\r\n",
      "\u001b[4mNAME                              LINK                                       ID               STATUS                        SIZE      \u001b[0m\r\n"
     ]
    }
   ],
   "source": [
    "# grep is just filtering the content. Generally just use 'dsco ls'\n",
    "!dsco ls | egrep 'localhost|foo|NAME'"
   ]
  },
  {
   "cell_type": "markdown",
   "metadata": {},
   "source": [
    "Finish by deleting our project directory."
   ]
  },
  {
   "cell_type": "code",
   "execution_count": 54,
   "metadata": {
    "ExecuteTime": {
     "end_time": "2020-03-27T15:52:51.050761Z",
     "start_time": "2020-03-27T15:52:51.043835Z"
    }
   },
   "outputs": [
    {
     "name": "stdout",
     "output_type": "stream",
     "text": [
      "/private/tmp\n"
     ]
    }
   ],
   "source": [
    "cd /tmp"
   ]
  },
  {
   "cell_type": "code",
   "execution_count": 55,
   "metadata": {
    "ExecuteTime": {
     "end_time": "2020-03-27T15:52:51.247808Z",
     "start_time": "2020-03-27T15:52:51.052475Z"
    }
   },
   "outputs": [],
   "source": [
    "rm -rf /tmp/dsco_overview"
   ]
  },
  {
   "cell_type": "code",
   "execution_count": 56,
   "metadata": {
    "ExecuteTime": {
     "end_time": "2020-03-27T15:52:51.391340Z",
     "start_time": "2020-03-27T15:52:51.251222Z"
    }
   },
   "outputs": [
    {
     "name": "stdout",
     "output_type": "stream",
     "text": [
      "\u001b[36m4E65C18E-676A-4F76-A157-7B16F54B6B1F\u001b[m\u001b[m/   \u001b[36mcom.google.Keystone\u001b[m\u001b[m/\r\n",
      "\u001b[36m65B7725E-4EA0-4B57-A357-C39E564D676B\u001b[m\u001b[m/   com.trendmicro.tmsm.run.plist\r\n",
      "\u001b[36m8EFCF5EB-0232-4BA2-BE29-E882B44305EF\u001b[m\u001b[m/   \u001b[36mcvcd\u001b[m\u001b[m/\r\n",
      "AlTest1.err                             ipcroboform8.3.6\r\n",
      "AlTest1.out                             \u001b[32mport.61100\u001b[m\u001b[m=\r\n",
      "\u001b[36mB531E494-1D8B-44CA-960F-D5D1DDE836CF\u001b[m\u001b[m/   \u001b[32mport.61201\u001b[m\u001b[m=\r\n",
      "ExmanProcessMutex                       \u001b[32mport.61301\u001b[m\u001b[m=\r\n",
      "ICRC_ROLL.lck                           \u001b[32mport.61302\u001b[m\u001b[m=\r\n",
      "MSS_Menulet                             \u001b[32mport.61304\u001b[m\u001b[m=\r\n",
      "adobegc.log                             \u001b[32mport.61401\u001b[m\u001b[m=\r\n",
      "\u001b[32mcom.adobe.AdobeIPCBroker.ctrl-ap186098\u001b[m\u001b[m= \u001b[32mport.61501\u001b[m\u001b[m=\r\n",
      "\u001b[36mcom.apple.launchd.TAzDf6vxI5\u001b[m\u001b[m/           \u001b[36mpowerlog\u001b[m\u001b[m/\r\n",
      "\u001b[36mcom.apple.launchd.wiVigXgrId\u001b[m\u001b[m/           \u001b[36mtmux-1937012048\u001b[m\u001b[m/\r\n",
      "\u001b[36mcom.apple.launchd.wyf1x4DwRU\u001b[m\u001b[m/           \u001b[36mwbxtrace\u001b[m\u001b[m/\r\n"
     ]
    }
   ],
   "source": [
    "ls"
   ]
  },
  {
   "cell_type": "code",
   "execution_count": null,
   "metadata": {},
   "outputs": [],
   "source": []
  }
 ],
 "metadata": {
  "kernelspec": {
   "display_name": "Python 3",
   "language": "python",
   "name": "python3"
  },
  "language_info": {
   "codemirror_mode": {
    "name": "ipython",
    "version": 3
   },
   "file_extension": ".py",
   "mimetype": "text/x-python",
   "name": "python",
   "nbconvert_exporter": "python",
   "pygments_lexer": "ipython3",
   "version": "3.7.5"
  },
  "toc": {
   "base_numbering": 1,
   "nav_menu": {},
   "number_sections": false,
   "sideBar": true,
   "skip_h1_title": false,
   "title_cell": "Table of Contents",
   "title_sidebar": "Contents",
   "toc_cell": false,
   "toc_position": {
    "height": "calc(100% - 180px)",
    "left": "10px",
    "top": "150px",
    "width": "165px"
   },
   "toc_section_display": true,
   "toc_window_display": false
  }
 },
 "nbformat": 4,
 "nbformat_minor": 4
}
